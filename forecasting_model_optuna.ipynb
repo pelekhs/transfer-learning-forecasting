{
 "cells": [
  {
   "cell_type": "markdown",
   "metadata": {},
   "source": [
    "### Viewing the data"
   ]
  },
  {
   "cell_type": "code",
   "execution_count": 1,
   "metadata": {
    "ExecuteTime": {
     "end_time": "2022-10-03T20:55:54.964217Z",
     "start_time": "2022-10-03T20:55:53.682327Z"
    }
   },
   "outputs": [],
   "source": [
    "# Let's import some basic libraries\n",
    "import numpy as np\n",
    "import pandas as pd\n",
    "from matplotlib import pyplot as plt\n",
    "import pathlib\n",
    "from datetime import datetime"
   ]
  },
  {
   "cell_type": "code",
   "execution_count": 2,
   "metadata": {
    "ExecuteTime": {
     "end_time": "2022-10-03T20:55:58.263956Z",
     "start_time": "2022-10-03T20:55:54.967058Z"
    }
   },
   "outputs": [
    {
     "name": "stdout",
     "output_type": "stream",
     "text": [
      "Loading dataset: Austria\n",
      "Data loading complete!\n"
     ]
    }
   ],
   "source": [
    "def read_csvs(country_list=None):\n",
    "    \"\"\"\n",
    "    Reads all csv files in folder path given and stores them in a single dataframe df \n",
    "    Parameters: list of countries to read their csv\n",
    "    ----------\n",
    "    Returns\n",
    "    -------\n",
    "    pandas.DataFrame\n",
    "        Dataframe where rows are individual data and columns for indicative\n",
    "        information on the data like datetime, month, week, country etc\n",
    "    \"\"\"\n",
    "\n",
    "    df = pd.DataFrame()\n",
    "    dateparse = lambda x: datetime.strptime(x, '%Y-%m-%d %H:%M:%S')\n",
    "\n",
    "    # For every csv file in folder \n",
    "    for csv in pathlib.Path('../Temp Load Data/').glob('*.csv'):\n",
    "        if(country_list is None or csv.stem in country_list):            \n",
    "            print(\"Loading dataset: \"+csv.stem)\n",
    "            temp_df = pd.read_csv(csv,\n",
    "                                  parse_dates=['Date'],\n",
    "                                  dayfirst=True,\n",
    "                                  date_parser=dateparse)\n",
    "            temp_df['country'] = csv.stem #set cokumn with the name of the dataset this datum came from\n",
    "            df = pd.concat([df,temp_df]) \n",
    "    print('Data loading complete!')\n",
    "    # sort values based on Start column (Datetime)\n",
    "    df = df[df['year'] != 2022] # remove rows of year 2022 since its an incomplete year (not currently ended)\n",
    "    if(country_list is None):\n",
    "        df.sort_values(by=['Date'], ascending=True, inplace=True)\n",
    "    df['Unnamed: 0'] = range(1, len(df) + 1)     # Reset \"Unnamed: 0\" based on concated df \n",
    "    return df\n",
    "\n",
    "country_list = ['Austria']\n",
    "df = read_csvs(country_list)\n",
    "df_backup = df.copy()"
   ]
  },
  {
   "cell_type": "markdown",
   "metadata": {},
   "source": [
    "### Preparing the data in general"
   ]
  },
  {
   "cell_type": "markdown",
   "metadata": {},
   "source": [
    "#### Categorical variables: one-hot encoding\n",
    "\n",
    "A column like weekday actually contains 7 possible values, 0 through 6, each of which represents a different day of the week. Instead of representing this data as 1 feature with 7 values, it works better if we represent if as 7 binary features. This process is known as one-hot encoding and is nicely explained by Chris Albon [here](https://chrisalbon.com/machine_learning/preprocessing_structured_data/one-hot_encode_nominal_categorical_features/). \n",
    "Note that 'holiday' is effectively already one-hot encoded as it either has a value 0 for 'not a holiday' or 1 for 'is a holiday'."
   ]
  },
  {
   "cell_type": "markdown",
   "metadata": {
    "ExecuteTime": {
     "end_time": "2022-09-27T10:22:22.556003Z",
     "start_time": "2022-09-27T10:22:22.542496Z"
    }
   },
   "source": [
    "#### Continuous variables: scaling\n",
    "It is common practice to scale the continuous variables, i.e. to standardize them on a zero mean with a standard deviation of 1. We do this even for 'Load' which is our target variable, and therefore we need to be able to get back again to get an actual number of bikes predicted so we'll save away the various means and standard deviations for converting back later."
   ]
  },
  {
   "cell_type": "code",
   "execution_count": 3,
   "metadata": {
    "ExecuteTime": {
     "end_time": "2022-10-03T20:55:58.279945Z",
     "start_time": "2022-10-03T20:55:58.266948Z"
    }
   },
   "outputs": [],
   "source": [
    "# Standardize 'Load' feature by using its mean and std\n",
    "mean, std = df['Load'].mean(), df['Load'].std()\n",
    "df[['Load']] = (df[['Load']] - mean)/std"
   ]
  },
  {
   "cell_type": "markdown",
   "metadata": {},
   "source": [
    "#### Data we won't use"
   ]
  },
  {
   "cell_type": "markdown",
   "metadata": {
    "ExecuteTime": {
     "end_time": "2022-09-27T17:45:33.110627Z",
     "start_time": "2022-09-27T17:45:33.099627Z"
    }
   },
   "source": [
    "### Preparing the data for training\n",
    "\n",
    "#### Train / test / validation split\n",
    "This is a timeseries problem, so it would be typical to train on the earlier data, and test / validate on the later data."
   ]
  },
  {
   "cell_type": "code",
   "execution_count": 4,
   "metadata": {
    "ExecuteTime": {
     "end_time": "2022-10-03T20:55:58.327948Z",
     "start_time": "2022-10-03T20:55:58.281948Z"
    }
   },
   "outputs": [
    {
     "name": "stdout",
     "output_type": "stream",
     "text": [
      "dataframe shape: (58993, 19)\n",
      "train shape: (58993, 1)\n",
      "test shape: (8760, 1)\n",
      "validation shape: (8784, 1)\n"
     ]
    },
    {
     "data": {
      "text/html": [
       "<div>\n",
       "<style scoped>\n",
       "    .dataframe tbody tr th:only-of-type {\n",
       "        vertical-align: middle;\n",
       "    }\n",
       "\n",
       "    .dataframe tbody tr th {\n",
       "        vertical-align: top;\n",
       "    }\n",
       "\n",
       "    .dataframe thead th {\n",
       "        text-align: right;\n",
       "    }\n",
       "</style>\n",
       "<table border=\"1\" class=\"dataframe\">\n",
       "  <thead>\n",
       "    <tr style=\"text-align: right;\">\n",
       "      <th></th>\n",
       "      <th>Load</th>\n",
       "    </tr>\n",
       "  </thead>\n",
       "  <tbody>\n",
       "    <tr>\n",
       "      <th>41449</th>\n",
       "      <td>-0.559674</td>\n",
       "    </tr>\n",
       "    <tr>\n",
       "      <th>41450</th>\n",
       "      <td>-0.764123</td>\n",
       "    </tr>\n",
       "    <tr>\n",
       "      <th>41451</th>\n",
       "      <td>-0.898725</td>\n",
       "    </tr>\n",
       "    <tr>\n",
       "      <th>41452</th>\n",
       "      <td>-1.009317</td>\n",
       "    </tr>\n",
       "    <tr>\n",
       "      <th>41453</th>\n",
       "      <td>-1.239959</td>\n",
       "    </tr>\n",
       "  </tbody>\n",
       "</table>\n",
       "</div>"
      ],
      "text/plain": [
       "           Load\n",
       "41449 -0.559674\n",
       "41450 -0.764123\n",
       "41451 -0.898725\n",
       "41452 -1.009317\n",
       "41453 -1.239959"
      ]
     },
     "execution_count": 4,
     "metadata": {},
     "output_type": "execute_result"
    }
   ],
   "source": [
    "def train_test_valid_split(df):\n",
    "    \"\"\"\n",
    "    we choose to split data with validation/test data to be at the end of time series\n",
    "    Since it's a time series, it is intuitive to predict future values, rather than values in between\n",
    "    validation/test should hold at least an entire year, since:\n",
    "        - most seasonality exists between years\n",
    "        - there are fluctuation inside year (e.g heatwaves at summer)\n",
    "    Parameters:\n",
    "        pandas.dataframe containing dataframe to split\n",
    "    Returns:\n",
    "        pandas.dataframe containing train/test/valiation data\n",
    "        pandas.dataframe containing valiation data\n",
    "        pandas.dataframe containing test data\n",
    "    \"\"\"\n",
    "    # train_data: data from year [2015,2019]\n",
    "    # validation_data: data from year 2020\n",
    "    # test_data: data from year 2021\n",
    "    # drop all columns except 'Load' (use 'backup_df' to restore them)\n",
    "    train_data = df[~df['year'].isin(['2020','2021'])][['Load']]\n",
    "    test_data = df[df['year'] == 2021][['Load']]\n",
    "    validation_data = df[df['year'] == 2020][['Load']]\n",
    "\n",
    "    print(\"dataframe shape: {}\".format(df.shape))\n",
    "    print(\"train shape: {}\".format(train_data.shape))\n",
    "    print(\"test shape: {}\".format(test_data.shape))\n",
    "    print(\"validation shape: {}\".format(validation_data.shape))\n",
    "    \n",
    "    return train_data, test_data, validation_data \n",
    "\n",
    "# df = df_backup.copy() # for debugging\n",
    "# split data in train/test/validation\n",
    "train_data, test_data, validation_data = train_test_valid_split(df)\n",
    "validation_data.head()"
   ]
  },
  {
   "cell_type": "code",
   "execution_count": 5,
   "metadata": {
    "ExecuteTime": {
     "end_time": "2022-10-03T20:56:22.084652Z",
     "start_time": "2022-10-03T20:55:58.329947Z"
    }
   },
   "outputs": [
    {
     "name": "stdout",
     "output_type": "stream",
     "text": [
      "lookback_window: 168\n",
      "forecast_horizon: 36\n",
      "Done\n",
      "lookback_window: 168\n",
      "forecast_horizon: 36\n",
      "Done\n",
      "lookback_window: 168\n",
      "forecast_horizon: 36\n",
      "Done\n"
     ]
    }
   ],
   "source": [
    "def feauture_target_split(df, lookback_window, forecast_horizon):\n",
    "    \"\"\"\n",
    "    This function gets a column of a dataframe and splits it to input and target\n",
    "    \n",
    "    **lookback_window**\n",
    "    In a for-loop of 'lookback_window' max iterations, starting from 0 \n",
    "    At N-th iteration (iter): \n",
    "        1. create a shifted version of 'Load' column by N rows (vertically) and \n",
    "        2. stores it in a column* (feauture_'N')\n",
    "\n",
    "    Same pseudo-code for 'forecast_horizon' loop\n",
    "    \n",
    "    *At first iterations of both loops, the new columns (feauture/target) are going to be firstly created\n",
    "    but for each iteration, the same columns are going to be used\n",
    "    \n",
    "    We store each new column created in a dictionary which, at the end, convert it to dataframe\n",
    "    The reason behind this choice is that if it was initially a dataframe, for large amount of loops,\n",
    "    fast insertion of new columns would cause a performance issue (slower) even though the end result\n",
    "    would propably not be altered\n",
    "    \n",
    "    Parameters: \n",
    "        df: pandas.dataframe containing column to parse\n",
    "        lookback_window: lookback_window - # feature columns - # inputs in model\n",
    "        forecast_horizon: forecast_horizon - # target columns - # outputs in model\n",
    "    ----------\n",
    "    Returns\n",
    "        'subset'_X: pandas.dataframe containing feautures of df after preprocess for model\n",
    "        'subset'_Y: pandas.dataframe containing targets of df after preprocess for model\n",
    "    -------\n",
    "    \"\"\"\n",
    "\n",
    "    print(f\"lookback_window: {lookback_window}\")\n",
    "    print(f\"forecast_horizon: {forecast_horizon}\")\n",
    "\n",
    "    # Reset \"Unnamed: 0\" based on concated df \n",
    "    df['Unnamed: 0'] = range(1, len(df) + 1)\n",
    "\n",
    "    df_copy = df.copy()    \n",
    "\n",
    "    df_new = {}\n",
    "        \n",
    "    for inc in range(0,int(lookback_window)):\n",
    "        df_new['feauture_' + str(inc)] = df_copy['Load'].shift(-inc)\n",
    "\n",
    "    # shift 'load' column permanently for as many shifts happened at 'lookback_window' loops  \n",
    "    df_copy['Load'] = df_copy['Load'].shift(-int(lookback_window))\n",
    "                    \n",
    "    for inc in range(0,int(forecast_horizon)):\n",
    "        df_new['target_' + str(inc)] = df_copy['Load'].shift(-inc)    \n",
    "    \n",
    "    df_new = pd.DataFrame(df_new, index=df_copy.index)\n",
    "    df_new = df_new.dropna().reset_index(drop=True)    \n",
    "                        \n",
    "    # store new dataset to csv (if needed) \n",
    "    df_new.to_csv(\"preprocess_for_model.csv\")\n",
    "    print(\"Done\")\n",
    "    \n",
    "    return df_new.iloc[:,:lookback_window] , df_new.iloc[:,-forecast_horizon:]\n",
    "    \n",
    "    \n",
    "lookback_window = 168 # 7 days (* 24 hours)\n",
    "forecast_horizon = 36\n",
    "\n",
    "# 'subset'_X: dataset containing features of subset (train/test/validation) dataframe\n",
    "# 'subset'_Y: dataset containing targets of subset (train/test/validation) dataframe\n",
    "train_X, train_Y = feauture_target_split(train_data, lookback_window, forecast_horizon)  \n",
    "validation_X, validation_Y = feauture_target_split(validation_data, lookback_window, forecast_horizon)  \n",
    "test_X, test_Y = feauture_target_split(test_data, lookback_window, forecast_horizon)  \n",
    "\n",
    "# train_X, train_Y"
   ]
  },
  {
   "cell_type": "markdown",
   "metadata": {},
   "source": [
    "### Defining the model and hyperparameters\n",
    "Before proceeding with this section, I'd recommend taking a look at the PyTorch Lightning [INTRODUCTION GUIDE](https://pytorch-lightning.readthedocs.io/en/latest/introduction_guide.html) which describes how each section of the LightningModule template contributes and fits together. You'll recognize the same components that you're used to in PyTorch, but they are organized into functions with specific naming conventions that need to be adhered to."
   ]
  },
  {
   "cell_type": "code",
   "execution_count": 6,
   "metadata": {
    "ExecuteTime": {
     "end_time": "2022-10-03T20:56:24.131323Z",
     "start_time": "2022-10-03T20:56:22.086350Z"
    }
   },
   "outputs": [],
   "source": [
    "# From here on out we start preparing the data for PyTorch - let's first get the libraries we'll need\n",
    "import torch\n",
    "import torch.optim as optim\n",
    "import torch.nn as nn\n",
    "from torch.utils.data import Dataset, TensorDataset, DataLoader\n",
    "import pytorch_lightning as pl\n",
    "from pytorch_lightning import Trainer\n",
    "from pytorch_lightning.profiler import Profiler, AdvancedProfiler\n",
    "from pytorch_lightning.callbacks import EarlyStopping"
   ]
  },
  {
   "cell_type": "code",
   "execution_count": 110,
   "metadata": {
    "ExecuteTime": {
     "end_time": "2022-10-04T01:21:39.050800Z",
     "start_time": "2022-10-04T01:21:39.019504Z"
    }
   },
   "outputs": [],
   "source": [
    "class Regression(pl.LightningModule):\n",
    "    \"\"\"\n",
    "    Regression  Techniques are used when the output is real-valued based on continuous variables. \n",
    "                For example, any time series data. This technique involves fitting a line\n",
    "    Feature: Features are individual independent variables that act as the input in your system. \n",
    "             Prediction models use features to make predictions. \n",
    "             New features can also be obtained from old features using a method known as ‘feature engineering’. \n",
    "             More simply, you can consider one column of your data set to be one feature. \n",
    "             Sometimes these are also called attributes. T\n",
    "             The number of features are called dimensions\n",
    "    Target: The target is whatever the output of the input variables. \n",
    "            In our case, it is the output value range of load. \n",
    "            If the training set is considered then the target is the training output values that will be considered.\n",
    "    Labels: Label: Labels are the final output. You can also consider the output classes to be the labels. \n",
    "            When data scientists speak of labeled data, they mean groups of samples that have been tagged to one or more labels.\n",
    "    \"\"\"    \n",
    "### The Model ### \n",
    "    # Initialize the layers\n",
    "    # Here we have one input layer (size 'lookback_window'), \n",
    "    # and one output layer (size 1 as we are predicting a single value)\n",
    "    def __init__(self,params):\n",
    "        super(Regression, self).__init__()\n",
    "        self.l_rate = params['l_rate']\n",
    "        self.batch_size = params['batch_size']\n",
    "        self.l_window = params['l_window']\n",
    "        self.f_horizon = params['f_horizon']\n",
    "        self.loss = nn.MSELoss(reduction = 'mean')\n",
    "        self.optimizer_name = params['optimizer_name']\n",
    "        self.dropout = params['dropout']\n",
    "        self.output_dims = params['output_dims']\n",
    "        self.activation = params['activation']\n",
    "        \n",
    "        layers = [] #list to add layers of nn\n",
    "\n",
    "        input_dim = self.l_window #input dim set to lookback_window\n",
    "        output_dim = self.f_horizon #output dim set to f_horizon\n",
    "        \n",
    "        for cur_layer in self.output_dims: # each loop is the setup of a new layer\n",
    "            layers.append(nn.Linear(input_dim, cur_layer))\n",
    "#             layers.append(nn.ReLU())\n",
    "            layers.append(getattr(nn, self.activation)()) # nn.activation_function (as suggested by Optuna)\n",
    "            layers.append(nn.Dropout(self.dropout))\n",
    "            input_dim = cur_layer #connect cur_layer with previous layer (at first iter, input layer)\n",
    "        \n",
    "        #connect last layer (stored at input_din) with target layer (output_dim)            \n",
    "        layers.append(nn.Linear(input_dim, output_dim)) \n",
    "        self.layers: nn.Module = nn.Sequential(*layers) #list of nn layers\n",
    "\n",
    "    # Perform the forward pass\n",
    "    def forward(self, x):\n",
    "        return self.layers(x)\n",
    "\n",
    "### The Data Loaders ###     \n",
    "    # Define functions for data loading: train / validate / test\n",
    "    def train_dataloader(self):\n",
    "        feature = torch.tensor(train_X.values).float() #feauture tensor train_X\n",
    "        target = torch.tensor(train_Y.values).float() #target tensor train_Y\n",
    "        train_dataset = TensorDataset(feature, target)  # dataset bassed on feature/target\n",
    "        train_loader = DataLoader(dataset = train_dataset,\n",
    "                                  batch_size = self.batch_size)\n",
    "        return train_loader\n",
    "            \n",
    "    def test_dataloader(self):\n",
    "        feature = torch.tensor(test_X.values).float()\n",
    "        target = torch.tensor(test_Y.values).float()\n",
    "        test_dataset = TensorDataset(feature, target)\n",
    "        test_loader = DataLoader(dataset = test_dataset,\n",
    "                                 batch_size = self.batch_size)\n",
    "        return test_loader\n",
    "\n",
    "    def val_dataloader(self):\n",
    "        feature = torch.tensor(validation_X.values).float()\n",
    "        target = torch.tensor(validation_Y.values).float()\n",
    "        validation_dataset = TensorDataset(feature, target)\n",
    "        validation_loader = DataLoader(dataset = validation_dataset,\n",
    "                                       batch_size = self.batch_size)\n",
    "        return validation_loader\n",
    "\n",
    "### The Optimizer ### \n",
    "    # Define optimizer function: here we are using ADAM\n",
    "    def configure_optimizers(self):\n",
    "        return getattr(optim, self.optimizer_name)(self.parameters(), lr=self.l_rate)\n",
    "\n",
    "### Training ### \n",
    "    # Define training step\n",
    "    def training_step(self, batch, batch_idx):\n",
    "        x, y = batch\n",
    "        logits = self.forward(x)\n",
    "        loss = self.loss(logits, y)\n",
    "        # Add logging\n",
    "        logs = {'loss': loss}\n",
    "        return {'loss': loss, 'log': logs}\n",
    "\n",
    "### Validation ###  \n",
    "    # Define validation step\n",
    "    def validation_step(self, batch, batch_idx):\n",
    "        x, y = batch\n",
    "        logits = self.forward(x)\n",
    "        loss = self.loss(logits, y)\n",
    "        self.log(\"val_loss\", loss)\n",
    "        return {'val_loss': loss}\n",
    "\n",
    "    # Define validation epoch end\n",
    "    def validation_epoch_end(self, outputs):\n",
    "        avg_loss = torch.stack([x['val_loss'] for x in outputs]).mean()\n",
    "        tensorboard_logs = {'val_loss': avg_loss}\n",
    "        print('Epoch Validation loss: '+str(avg_loss.item()))\n",
    "        return {'avg_val_loss': avg_loss, 'log': tensorboard_logs}\n",
    "\n",
    "### Testing ###     \n",
    "    # Define test step\n",
    "    def test_step(self, batch, batch_idx):\n",
    "        x, y = batch\n",
    "        logits = self.forward(x)\n",
    "        loss = self.loss(logits, y)\n",
    "        correct = torch.sum(logits == y.data)\n",
    "        # I want to visualize my predictions vs my actuals so here I'm going to \n",
    "        # add these lines to extract the data for plotting later on\n",
    "        predictions_pred.append(logits)\n",
    "        predictions_actual.append(y.data)\n",
    "        return {'test_loss': loss, 'test_correct': correct, 'logits': logits}\n",
    "    \n",
    "    # Define test end\n",
    "    def test_epoch_end(self, outputs):\n",
    "        avg_loss = torch.stack([x['test_loss'] for x in outputs]).mean()\n",
    "        logs = {'test_loss': avg_loss}      \n",
    "        return {'avg_test_loss': avg_loss, 'log': logs, 'progress_bar': logs }"
   ]
  },
  {
   "cell_type": "code",
   "execution_count": 111,
   "metadata": {
    "ExecuteTime": {
     "end_time": "2022-10-04T01:21:39.394803Z",
     "start_time": "2022-10-04T01:21:39.379201Z"
    }
   },
   "outputs": [
    {
     "data": {
      "text/plain": [
       "[2, 4, 8, 16, 32, 64, 128]"
      ]
     },
     "execution_count": 111,
     "metadata": {},
     "output_type": "execute_result"
    }
   ],
   "source": [
    "out = [ 2**j for j in range(1,8) ]\n",
    "out"
   ]
  },
  {
   "cell_type": "code",
   "execution_count": 112,
   "metadata": {
    "ExecuteTime": {
     "end_time": "2022-10-04T01:21:39.894657Z",
     "start_time": "2022-10-04T01:21:39.885629Z"
    }
   },
   "outputs": [],
   "source": [
    "import optuna\n",
    "from optuna.integration import PyTorchLightningPruningCallback\n",
    "\n",
    "\"\"\"\n",
    "This function is use by the Optuna library: An open source hyperparameter optimization framework\n",
    "to automate hyperparameter search\n",
    "In Optuna, there are two major terminologies, namely: \n",
    "1) Study: The whole optimization process is based on an objective function \n",
    "   i.e the study needs a function which it can optimize. \n",
    "2) Trial: A single execution of the optimization function is called a trial. \n",
    "Thus the study is a collection of trials\n",
    "\n",
    "Optuna is a black-box optimizer, which means it needs an objective function, \n",
    "which returns a numerical value to evaluate the performance of the hyperparameters, \n",
    "and decide where to sample in upcoming trials\n",
    "\n",
    "In Optuna:\n",
    "1. We create a \"study\", which corresponds to an optimization task (maximize/minimize the objective function)\n",
    "2. We then try to optimise (maximise/minimize) that objective \n",
    "    Since our objective functions returns (and therefore is based on) validation loss, we want\n",
    "    to minimize that value rather than maximize\n",
    "\"\"\"\n",
    "\n",
    "def objective(trial):\n",
    "    # We optimize the number of layers, hidden units in each layer and dropouts.\n",
    "    possible_batch_sizes = [ 2**j for j in range(1,8)] # list with all powers of in range [1,128]\n",
    "    n_layers = trial.suggest_int(\"n_layers\", 1, 3)\n",
    "    max_epochs = trial.suggest_int('max_epochs', 1, 30) # ~~~~~~~~~~~ Try to use it!!!!!!\n",
    "\n",
    "#   output_dims: list of layer_number and number of neurons in that layer\n",
    "#                therefore 'n_layers' is propably redundant in dict but I like it there\n",
    "    params = {\n",
    "        'l_window' : lookback_window,\n",
    "        'f_horizon': forecast_horizon,\n",
    "        'n_layers' : trial.suggest_int(\"n_layers\", 1, 3),\n",
    "        'dropout'  :   trial.suggest_float(\"dropout\", 0.2, 0.5),\n",
    "        'output_dims': [trial.suggest_int(\"n_units_l{}\".format(i), 4, 128, log=True) for i in range(n_layers)],\n",
    "        'l_rate' :     trial.suggest_loguniform('learning_rate', 1e-5, 1e-1),\n",
    "        'batch_size' : trial.suggest_categorical('batch_size', possible_batch_sizes), \n",
    "        'activation' : trial.suggest_categorical(\"activation\", [\"Identity\",\"ReLU\", \"SiLU\"]), #SiLU (Swish) performs good\n",
    "        'optimizer_name' : trial.suggest_categorical(\"optimizer\", [\"Adam\", \"RMSprop\", \"SGD\"])\n",
    "    }\n",
    "    \n",
    "    # The default logger in PyTorch Lightning writes to event files to be consumed by\n",
    "    # TensorBoard. We create a simple logger instead that holds the log in memory so that the\n",
    "    # final accuracy can be obtained after optimization. When using the default logger, the\n",
    "    # final accuracy could be stored in an attribute of the `Trainer` instead.\n",
    "    trainer = Trainer(max_epochs=30, auto_scale_batch_size=None, logger=True,\n",
    "                      gpus=0 if torch.cuda.is_available() else None,\n",
    "                      callbacks=[PyTorchLightningPruningCallback(trial, monitor=\"val_loss\")],\n",
    "                      deterministic=True)\n",
    "\n",
    "    pl.seed_everything(42, workers=True)    \n",
    "    model = Regression(params) # double asterisk (dictionary unpacking)\n",
    "    trainer.logger.log_hyperparams(params)\n",
    "    trainer.fit(model)\n",
    "    print(\"DONE!\")\n",
    "    return trainer.callback_metrics[\"val_loss\"].item()"
   ]
  },
  {
   "cell_type": "code",
   "execution_count": 113,
   "metadata": {
    "ExecuteTime": {
     "end_time": "2022-10-04T01:25:55.758729Z",
     "start_time": "2022-10-04T01:22:54.882646Z"
    }
   },
   "outputs": [
    {
     "name": "stderr",
     "output_type": "stream",
     "text": [
      "\u001b[32m[I 2022-10-04 04:22:54,886]\u001b[0m A new study created in memory with name: no-name-1dadba3d-c36d-43a0-ab77-d51baceebff7\u001b[0m\n",
      "GPU available: False, used: False\n",
      "TPU available: False, using: 0 TPU cores\n",
      "IPU available: False, using: 0 IPUs\n",
      "HPU available: False, using: 0 HPUs\n",
      "Global seed set to 42\n",
      "\n",
      "  | Name   | Type       | Params\n",
      "--------------------------------------\n",
      "0 | loss   | MSELoss    | 0     \n",
      "1 | layers | Sequential | 1.3 K \n",
      "--------------------------------------\n",
      "1.3 K     Trainable params\n",
      "0         Non-trainable params\n",
      "1.3 K     Total params\n",
      "0.005     Total estimated model params size (MB)\n"
     ]
    },
    {
     "data": {
      "application/vnd.jupyter.widget-view+json": {
       "model_id": "",
       "version_major": 2,
       "version_minor": 0
      },
      "text/plain": [
       "Sanity Checking: 0it [00:00, ?it/s]"
      ]
     },
     "metadata": {},
     "output_type": "display_data"
    },
    {
     "name": "stdout",
     "output_type": "stream",
     "text": [
      "Epoch Validation loss: 1.5367661714553833\n"
     ]
    },
    {
     "data": {
      "application/vnd.jupyter.widget-view+json": {
       "model_id": "03ab70966fa1439293b359ffa89b9e8e",
       "version_major": 2,
       "version_minor": 0
      },
      "text/plain": [
       "Training: 0it [00:00, ?it/s]"
      ]
     },
     "metadata": {},
     "output_type": "display_data"
    },
    {
     "data": {
      "application/vnd.jupyter.widget-view+json": {
       "model_id": "ec8ca2bc773d471eb6d8378ab387c648",
       "version_major": 2,
       "version_minor": 0
      },
      "text/plain": [
       "Validation: 0it [00:00, ?it/s]"
      ]
     },
     "metadata": {},
     "output_type": "display_data"
    },
    {
     "name": "stderr",
     "output_type": "stream",
     "text": [
      "IOPub message rate exceeded.\n",
      "The notebook server will temporarily stop sending output\n",
      "to the client in order to avoid crashing it.\n",
      "To change this limit, set the config variable\n",
      "`--NotebookApp.iopub_msg_rate_limit`.\n",
      "\n",
      "Current values:\n",
      "NotebookApp.iopub_msg_rate_limit=1000.0 (msgs/sec)\n",
      "NotebookApp.rate_limit_window=3.0 (secs)\n",
      "\n",
      "c:\\users\\tzort\\appdata\\local\\programs\\python\\python38\\lib\\site-packages\\pytorch_lightning\\trainer\\trainer.py:726: UserWarning:\n",
      "\n",
      "Detected KeyboardInterrupt, attempting graceful shutdown...\n",
      "\n",
      "\u001b[33m[W 2022-10-04 04:25:55,614]\u001b[0m Trial 0 failed because of the following error: KeyError('val_loss')\u001b[0m\n",
      "Traceback (most recent call last):\n",
      "  File \"c:\\users\\tzort\\appdata\\local\\programs\\python\\python38\\lib\\site-packages\\optuna\\study\\_optimize.py\", line 213, in _run_trial\n",
      "    value_or_values = func(trial)\n",
      "  File \"<ipython-input-112-e033f952472e>\", line 62, in objective\n",
      "    return trainer.callback_metrics[\"val_loss\"].item()\n",
      "KeyError: 'val_loss'\n"
     ]
    },
    {
     "name": "stdout",
     "output_type": "stream",
     "text": [
      "DONE!\n"
     ]
    },
    {
     "ename": "KeyError",
     "evalue": "'val_loss'",
     "output_type": "error",
     "traceback": [
      "\u001b[1;31m---------------------------------------------------------------------------\u001b[0m",
      "\u001b[1;31mKeyError\u001b[0m                                  Traceback (most recent call last)",
      "\u001b[1;32m<ipython-input-113-12c697af3f4c>\u001b[0m in \u001b[0;36m<module>\u001b[1;34m\u001b[0m\n\u001b[0;32m     37\u001b[0m                                             \u001b[0ma\u001b[0m \u001b[0mtermination\u001b[0m \u001b[0msignal\u001b[0m \u001b[0msuch\u001b[0m \u001b[1;32mas\u001b[0m \u001b[0mSIGTERM\u001b[0m \u001b[1;32mor\u001b[0m \u001b[0mCtrl\u001b[0m\u001b[1;33m+\u001b[0m\u001b[0mC\u001b[0m \u001b[1;32mis\u001b[0m \u001b[0mreceived\u001b[0m\u001b[1;33m.\u001b[0m\u001b[1;33m\u001b[0m\u001b[1;33m\u001b[0m\u001b[0m\n\u001b[0;32m     38\u001b[0m \"\"\"\n\u001b[1;32m---> 39\u001b[1;33m \u001b[0mstudy\u001b[0m\u001b[1;33m.\u001b[0m\u001b[0moptimize\u001b[0m\u001b[1;33m(\u001b[0m\u001b[0mobjective\u001b[0m\u001b[1;33m,\u001b[0m \u001b[0mn_trials\u001b[0m\u001b[1;33m=\u001b[0m\u001b[1;36m100\u001b[0m\u001b[1;33m,\u001b[0m \u001b[0mtimeout\u001b[0m\u001b[1;33m=\u001b[0m\u001b[1;36m600\u001b[0m\u001b[1;33m)\u001b[0m\u001b[1;33m\u001b[0m\u001b[1;33m\u001b[0m\u001b[0m\n\u001b[0m\u001b[0;32m     40\u001b[0m \u001b[0moptuna_report\u001b[0m\u001b[1;33m(\u001b[0m\u001b[0mstudy\u001b[0m\u001b[1;33m)\u001b[0m\u001b[1;33m\u001b[0m\u001b[1;33m\u001b[0m\u001b[0m\n",
      "\u001b[1;32mc:\\users\\tzort\\appdata\\local\\programs\\python\\python38\\lib\\site-packages\\optuna\\study\\study.py\u001b[0m in \u001b[0;36moptimize\u001b[1;34m(self, func, n_trials, timeout, n_jobs, catch, callbacks, gc_after_trial, show_progress_bar)\u001b[0m\n\u001b[0;32m    398\u001b[0m             )\n\u001b[0;32m    399\u001b[0m \u001b[1;33m\u001b[0m\u001b[0m\n\u001b[1;32m--> 400\u001b[1;33m         _optimize(\n\u001b[0m\u001b[0;32m    401\u001b[0m             \u001b[0mstudy\u001b[0m\u001b[1;33m=\u001b[0m\u001b[0mself\u001b[0m\u001b[1;33m,\u001b[0m\u001b[1;33m\u001b[0m\u001b[1;33m\u001b[0m\u001b[0m\n\u001b[0;32m    402\u001b[0m             \u001b[0mfunc\u001b[0m\u001b[1;33m=\u001b[0m\u001b[0mfunc\u001b[0m\u001b[1;33m,\u001b[0m\u001b[1;33m\u001b[0m\u001b[1;33m\u001b[0m\u001b[0m\n",
      "\u001b[1;32mc:\\users\\tzort\\appdata\\local\\programs\\python\\python38\\lib\\site-packages\\optuna\\study\\_optimize.py\u001b[0m in \u001b[0;36m_optimize\u001b[1;34m(study, func, n_trials, timeout, n_jobs, catch, callbacks, gc_after_trial, show_progress_bar)\u001b[0m\n\u001b[0;32m     64\u001b[0m     \u001b[1;32mtry\u001b[0m\u001b[1;33m:\u001b[0m\u001b[1;33m\u001b[0m\u001b[1;33m\u001b[0m\u001b[0m\n\u001b[0;32m     65\u001b[0m         \u001b[1;32mif\u001b[0m \u001b[0mn_jobs\u001b[0m \u001b[1;33m==\u001b[0m \u001b[1;36m1\u001b[0m\u001b[1;33m:\u001b[0m\u001b[1;33m\u001b[0m\u001b[1;33m\u001b[0m\u001b[0m\n\u001b[1;32m---> 66\u001b[1;33m             _optimize_sequential(\n\u001b[0m\u001b[0;32m     67\u001b[0m                 \u001b[0mstudy\u001b[0m\u001b[1;33m,\u001b[0m\u001b[1;33m\u001b[0m\u001b[1;33m\u001b[0m\u001b[0m\n\u001b[0;32m     68\u001b[0m                 \u001b[0mfunc\u001b[0m\u001b[1;33m,\u001b[0m\u001b[1;33m\u001b[0m\u001b[1;33m\u001b[0m\u001b[0m\n",
      "\u001b[1;32mc:\\users\\tzort\\appdata\\local\\programs\\python\\python38\\lib\\site-packages\\optuna\\study\\_optimize.py\u001b[0m in \u001b[0;36m_optimize_sequential\u001b[1;34m(study, func, n_trials, timeout, catch, callbacks, gc_after_trial, reseed_sampler_rng, time_start, progress_bar)\u001b[0m\n\u001b[0;32m    161\u001b[0m \u001b[1;33m\u001b[0m\u001b[0m\n\u001b[0;32m    162\u001b[0m         \u001b[1;32mtry\u001b[0m\u001b[1;33m:\u001b[0m\u001b[1;33m\u001b[0m\u001b[1;33m\u001b[0m\u001b[0m\n\u001b[1;32m--> 163\u001b[1;33m             \u001b[0mtrial\u001b[0m \u001b[1;33m=\u001b[0m \u001b[0m_run_trial\u001b[0m\u001b[1;33m(\u001b[0m\u001b[0mstudy\u001b[0m\u001b[1;33m,\u001b[0m \u001b[0mfunc\u001b[0m\u001b[1;33m,\u001b[0m \u001b[0mcatch\u001b[0m\u001b[1;33m)\u001b[0m\u001b[1;33m\u001b[0m\u001b[1;33m\u001b[0m\u001b[0m\n\u001b[0m\u001b[0;32m    164\u001b[0m         \u001b[1;32mexcept\u001b[0m \u001b[0mException\u001b[0m\u001b[1;33m:\u001b[0m\u001b[1;33m\u001b[0m\u001b[1;33m\u001b[0m\u001b[0m\n\u001b[0;32m    165\u001b[0m             \u001b[1;32mraise\u001b[0m\u001b[1;33m\u001b[0m\u001b[1;33m\u001b[0m\u001b[0m\n",
      "\u001b[1;32mc:\\users\\tzort\\appdata\\local\\programs\\python\\python38\\lib\\site-packages\\optuna\\study\\_optimize.py\u001b[0m in \u001b[0;36m_run_trial\u001b[1;34m(study, func, catch)\u001b[0m\n\u001b[0;32m    262\u001b[0m \u001b[1;33m\u001b[0m\u001b[0m\n\u001b[0;32m    263\u001b[0m     \u001b[1;32mif\u001b[0m \u001b[0mstate\u001b[0m \u001b[1;33m==\u001b[0m \u001b[0mTrialState\u001b[0m\u001b[1;33m.\u001b[0m\u001b[0mFAIL\u001b[0m \u001b[1;32mand\u001b[0m \u001b[0mfunc_err\u001b[0m \u001b[1;32mis\u001b[0m \u001b[1;32mnot\u001b[0m \u001b[1;32mNone\u001b[0m \u001b[1;32mand\u001b[0m \u001b[1;32mnot\u001b[0m \u001b[0misinstance\u001b[0m\u001b[1;33m(\u001b[0m\u001b[0mfunc_err\u001b[0m\u001b[1;33m,\u001b[0m \u001b[0mcatch\u001b[0m\u001b[1;33m)\u001b[0m\u001b[1;33m:\u001b[0m\u001b[1;33m\u001b[0m\u001b[1;33m\u001b[0m\u001b[0m\n\u001b[1;32m--> 264\u001b[1;33m         \u001b[1;32mraise\u001b[0m \u001b[0mfunc_err\u001b[0m\u001b[1;33m\u001b[0m\u001b[1;33m\u001b[0m\u001b[0m\n\u001b[0m\u001b[0;32m    265\u001b[0m     \u001b[1;32mreturn\u001b[0m \u001b[0mtrial\u001b[0m\u001b[1;33m\u001b[0m\u001b[1;33m\u001b[0m\u001b[0m\n\u001b[0;32m    266\u001b[0m \u001b[1;33m\u001b[0m\u001b[0m\n",
      "\u001b[1;32mc:\\users\\tzort\\appdata\\local\\programs\\python\\python38\\lib\\site-packages\\optuna\\study\\_optimize.py\u001b[0m in \u001b[0;36m_run_trial\u001b[1;34m(study, func, catch)\u001b[0m\n\u001b[0;32m    211\u001b[0m \u001b[1;33m\u001b[0m\u001b[0m\n\u001b[0;32m    212\u001b[0m     \u001b[1;32mtry\u001b[0m\u001b[1;33m:\u001b[0m\u001b[1;33m\u001b[0m\u001b[1;33m\u001b[0m\u001b[0m\n\u001b[1;32m--> 213\u001b[1;33m         \u001b[0mvalue_or_values\u001b[0m \u001b[1;33m=\u001b[0m \u001b[0mfunc\u001b[0m\u001b[1;33m(\u001b[0m\u001b[0mtrial\u001b[0m\u001b[1;33m)\u001b[0m\u001b[1;33m\u001b[0m\u001b[1;33m\u001b[0m\u001b[0m\n\u001b[0m\u001b[0;32m    214\u001b[0m     \u001b[1;32mexcept\u001b[0m \u001b[0mexceptions\u001b[0m\u001b[1;33m.\u001b[0m\u001b[0mTrialPruned\u001b[0m \u001b[1;32mas\u001b[0m \u001b[0me\u001b[0m\u001b[1;33m:\u001b[0m\u001b[1;33m\u001b[0m\u001b[1;33m\u001b[0m\u001b[0m\n\u001b[0;32m    215\u001b[0m         \u001b[1;31m# TODO(mamu): Handle multi-objective cases.\u001b[0m\u001b[1;33m\u001b[0m\u001b[1;33m\u001b[0m\u001b[1;33m\u001b[0m\u001b[0m\n",
      "\u001b[1;32m<ipython-input-112-e033f952472e>\u001b[0m in \u001b[0;36mobjective\u001b[1;34m(trial)\u001b[0m\n\u001b[0;32m     60\u001b[0m     \u001b[0mtrainer\u001b[0m\u001b[1;33m.\u001b[0m\u001b[0mfit\u001b[0m\u001b[1;33m(\u001b[0m\u001b[0mmodel\u001b[0m\u001b[1;33m)\u001b[0m\u001b[1;33m\u001b[0m\u001b[1;33m\u001b[0m\u001b[0m\n\u001b[0;32m     61\u001b[0m     \u001b[0mprint\u001b[0m\u001b[1;33m(\u001b[0m\u001b[1;34m\"DONE!\"\u001b[0m\u001b[1;33m)\u001b[0m\u001b[1;33m\u001b[0m\u001b[1;33m\u001b[0m\u001b[0m\n\u001b[1;32m---> 62\u001b[1;33m     \u001b[1;32mreturn\u001b[0m \u001b[0mtrainer\u001b[0m\u001b[1;33m.\u001b[0m\u001b[0mcallback_metrics\u001b[0m\u001b[1;33m[\u001b[0m\u001b[1;34m\"val_loss\"\u001b[0m\u001b[1;33m]\u001b[0m\u001b[1;33m.\u001b[0m\u001b[0mitem\u001b[0m\u001b[1;33m(\u001b[0m\u001b[1;33m)\u001b[0m\u001b[1;33m\u001b[0m\u001b[1;33m\u001b[0m\u001b[0m\n\u001b[0m",
      "\u001b[1;31mKeyError\u001b[0m: 'val_loss'"
     ]
    }
   ],
   "source": [
    "#  Example taken from Optuna github page:\n",
    "# https://github.com/optuna/optuna-examples/blob/main/pytorch/pytorch_lightning_simple.py\n",
    "# https://optuna.readthedocs.io/en/stable/reference/samplers/generated/optuna.samplers.BaseSampler.html#optuna.samplers.BaseSampler\n",
    "    \n",
    "# https://medium.com/pytorch/using-optuna-to-optimize-pytorch-hyperparameters-990607385e36\n",
    "# https://towardsdatascience.com/why-is-everyone-at-kaggle-obsessed-with-optuna-for-hyperparameter-tuning-7608fdca337c\n",
    "# https://github.com/scikit-learn/scikit-learn/blob/36958fb24/sklearn/ensemble/_gb.py#L1562\n",
    "# https://coderzcolumn.com/tutorials/machine-learning/simple-guide-to-optuna-for-hyperparameters-optimization-tuning\n",
    "import warnings\n",
    "warnings.filterwarnings(\"ignore\", \".*Consider increasing the value of the `num_workers` argument*\")\n",
    "\n",
    "def optuna_report(study):\n",
    "    print(\"\\n ~~~~~~~~~~~~~~~~~~~~~~~~~~ Optuna Report ~~~~~~~~~~~~~~~~~~~~~~~~~~\")\n",
    "    print(\"Number of finished trials: {}\".format(len(study.trials)))\n",
    "\n",
    "    print(\"Best trial:\")\n",
    "    trial = study.best_trial\n",
    "\n",
    "    print(\"  Value: {}\".format(trial.value))\n",
    "\n",
    "    print(\"  Params: \")\n",
    "    for key, value in trial.params.items():\n",
    "        print(\"    {}: {}\".format(key, value))\n",
    "    \n",
    "# The pruners module defines a BasePruner class characterized by an abstract prune() method, which, \n",
    "# for a given trial and its associated study, returns a boolean value \n",
    "# representing whether the trial should be pruned (aborted)\n",
    "pruner: optuna.pruners.BasePruner = optuna.pruners.MedianPruner() # optuna.pruners.NopPruner() (no pruning)\n",
    "    \n",
    "# default sample: TPMESampler    \n",
    "study = optuna.create_study(direction=\"minimize\", pruner=pruner)\n",
    "\"\"\"\n",
    "timeout (Union[None, float]) – Stop study after the given number of second(s). \n",
    "None represents no limit in terms of elapsed time. \n",
    "The study continues to create trials until: the number of trials reaches n_trials, \n",
    "                                            timeout period elapses, stop() is called or, \n",
    "                                            a termination signal such as SIGTERM or Ctrl+C is received.\n",
    "\"\"\"\n",
    "study.optimize(objective, n_trials=100, timeout=600)\n",
    "optuna_report(study)"
   ]
  },
  {
   "cell_type": "code",
   "execution_count": 76,
   "metadata": {
    "ExecuteTime": {
     "end_time": "2022-10-03T23:37:51.634303Z",
     "start_time": "2022-10-03T23:37:50.657210Z"
    }
   },
   "outputs": [
    {
     "data": {
      "application/vnd.plotly.v1+json": {
       "config": {
        "plotlyServerURL": "https://plot.ly"
       },
       "data": [
        {
         "type": "scatter",
         "xaxis": "x",
         "yaxis": "y"
        },
        {
         "colorbar": {
          "title": {
           "text": "Objective Value"
          }
         },
         "colorscale": [
          [
           0,
           "rgb(5,10,172)"
          ],
          [
           0.35,
           "rgb(40,60,190)"
          ],
          [
           0.5,
           "rgb(70,100,245)"
          ],
          [
           0.6,
           "rgb(90,120,245)"
          ],
          [
           0.7,
           "rgb(106,137,247)"
          ],
          [
           1,
           "rgb(220,220,220)"
          ]
         ],
         "connectgaps": true,
         "contours": {
          "coloring": "heatmap"
         },
         "hoverinfo": "none",
         "line": {
          "smoothing": 1.3
         },
         "reversescale": true,
         "showscale": true,
         "type": "contour",
         "x": [
          2,
          8,
          64,
          128,
          134
         ],
         "xaxis": "x8",
         "y": [
          0.19226498850113224,
          0.20482346427425893,
          0.2568743385059912,
          0.45599297973679265,
          0.46855145550991933
         ],
         "yaxis": "y8",
         "z": [
          [
           null,
           null,
           null,
           null,
           null
          ],
          [
           null,
           null,
           0.12034701555967331,
           null,
           null
          ],
          [
           null,
           null,
           null,
           1.1375892162322998,
           null
          ],
          [
           null,
           0.32484307885169983,
           null,
           null,
           null
          ],
          [
           null,
           null,
           null,
           null,
           null
          ]
         ]
        },
        {
         "marker": {
          "color": "black",
          "line": {
           "color": "Grey",
           "width": 0.5
          }
         },
         "mode": "markers",
         "showlegend": false,
         "type": "scatter",
         "x": [
          128,
          64,
          8
         ],
         "xaxis": "x8",
         "y": [
          0.2568743385059912,
          0.20482346427425893,
          0.45599297973679265
         ],
         "yaxis": "y8"
        },
        {
         "colorbar": {
          "title": {
           "text": "Objective Value"
          }
         },
         "colorscale": [
          [
           0,
           "rgb(5,10,172)"
          ],
          [
           0.35,
           "rgb(40,60,190)"
          ],
          [
           0.5,
           "rgb(70,100,245)"
          ],
          [
           0.6,
           "rgb(90,120,245)"
          ],
          [
           0.7,
           "rgb(106,137,247)"
          ],
          [
           1,
           "rgb(220,220,220)"
          ]
         ],
         "connectgaps": true,
         "contours": {
          "coloring": "heatmap"
         },
         "hoverinfo": "none",
         "line": {
          "smoothing": 1.3
         },
         "reversescale": true,
         "showscale": false,
         "type": "contour",
         "x": [
          2,
          8,
          64,
          128,
          134
         ],
         "xaxis": "x15",
         "y": [
          1.5066702283983606e-05,
          2.2555860239198034e-05,
          7.346300588244607e-05,
          0.07212455701669214,
          0.1079752819973055
         ],
         "yaxis": "y15",
         "z": [
          [
           null,
           null,
           null,
           null,
           null
          ],
          [
           null,
           null,
           0.12034701555967331,
           null,
           null
          ],
          [
           null,
           0.32484307885169983,
           null,
           null,
           null
          ],
          [
           null,
           null,
           null,
           1.1375892162322998,
           null
          ],
          [
           null,
           null,
           null,
           null,
           null
          ]
         ]
        },
        {
         "marker": {
          "color": "black",
          "line": {
           "color": "Grey",
           "width": 0.5
          }
         },
         "mode": "markers",
         "showlegend": false,
         "type": "scatter",
         "x": [
          128,
          64,
          8
         ],
         "xaxis": "x15",
         "y": [
          0.07212455701669214,
          2.2555860239198034e-05,
          7.346300588244607e-05
         ],
         "yaxis": "y15"
        },
        {
         "colorbar": {
          "title": {
           "text": "Objective Value"
          }
         },
         "colorscale": [
          [
           0,
           "rgb(5,10,172)"
          ],
          [
           0.35,
           "rgb(40,60,190)"
          ],
          [
           0.5,
           "rgb(70,100,245)"
          ],
          [
           0.6,
           "rgb(90,120,245)"
          ],
          [
           0.7,
           "rgb(106,137,247)"
          ],
          [
           1,
           "rgb(220,220,220)"
          ]
         ],
         "connectgaps": true,
         "contours": {
          "coloring": "heatmap"
         },
         "hoverinfo": "none",
         "line": {
          "smoothing": 1.3
         },
         "reversescale": true,
         "showscale": false,
         "type": "contour",
         "x": [
          2,
          8,
          64,
          128,
          134
         ],
         "xaxis": "x22",
         "y": [
          0.95,
          1,
          2,
          2.05
         ],
         "yaxis": "y22",
         "z": [
          [
           null,
           null,
           null,
           null,
           null
          ],
          [
           null,
           null,
           0.12034701555967331,
           null,
           null
          ],
          [
           null,
           0.32484307885169983,
           null,
           1.1375892162322998,
           null
          ],
          [
           null,
           null,
           null,
           null,
           null
          ]
         ]
        },
        {
         "marker": {
          "color": "black",
          "line": {
           "color": "Grey",
           "width": 0.5
          }
         },
         "mode": "markers",
         "showlegend": false,
         "type": "scatter",
         "x": [
          128,
          64,
          8
         ],
         "xaxis": "x22",
         "y": [
          2,
          1,
          2
         ],
         "yaxis": "y22"
        },
        {
         "colorbar": {
          "title": {
           "text": "Objective Value"
          }
         },
         "colorscale": [
          [
           0,
           "rgb(5,10,172)"
          ],
          [
           0.35,
           "rgb(40,60,190)"
          ],
          [
           0.5,
           "rgb(70,100,245)"
          ],
          [
           0.6,
           "rgb(90,120,245)"
          ],
          [
           0.7,
           "rgb(106,137,247)"
          ],
          [
           1,
           "rgb(220,220,220)"
          ]
         ],
         "connectgaps": true,
         "contours": {
          "coloring": "heatmap"
         },
         "hoverinfo": "none",
         "line": {
          "smoothing": 1.3
         },
         "reversescale": true,
         "showscale": false,
         "type": "contour",
         "x": [
          2,
          8,
          64,
          128,
          134
         ],
         "xaxis": "x29",
         "y": [
          10.8,
          14,
          30,
          78,
          81.2
         ],
         "yaxis": "y29",
         "z": [
          [
           null,
           null,
           null,
           null,
           null
          ],
          [
           null,
           0.32484307885169983,
           null,
           null,
           null
          ],
          [
           null,
           null,
           0.12034701555967331,
           null,
           null
          ],
          [
           null,
           null,
           null,
           1.1375892162322998,
           null
          ],
          [
           null,
           null,
           null,
           null,
           null
          ]
         ]
        },
        {
         "marker": {
          "color": "black",
          "line": {
           "color": "Grey",
           "width": 0.5
          }
         },
         "mode": "markers",
         "showlegend": false,
         "type": "scatter",
         "x": [
          128,
          64,
          8
         ],
         "xaxis": "x29",
         "y": [
          78,
          30,
          14
         ],
         "yaxis": "y29"
        },
        {
         "colorbar": {
          "title": {
           "text": "Objective Value"
          }
         },
         "colorscale": [
          [
           0,
           "rgb(5,10,172)"
          ],
          [
           0.35,
           "rgb(40,60,190)"
          ],
          [
           0.5,
           "rgb(70,100,245)"
          ],
          [
           0.6,
           "rgb(90,120,245)"
          ],
          [
           0.7,
           "rgb(106,137,247)"
          ],
          [
           1,
           "rgb(220,220,220)"
          ]
         ],
         "connectgaps": true,
         "contours": {
          "coloring": "heatmap"
         },
         "hoverinfo": "none",
         "line": {
          "smoothing": 1.3
         },
         "reversescale": true,
         "showscale": false,
         "type": "contour",
         "x": [
          2,
          8,
          64,
          128,
          134
         ],
         "xaxis": "x36",
         "y": [
          48.7,
          51,
          97,
          99.3
         ],
         "yaxis": "y36",
         "z": [
          [
           null,
           null,
           null,
           null,
           null
          ],
          [
           null,
           0.32484307885169983,
           null,
           null,
           null
          ],
          [
           null,
           null,
           null,
           1.1375892162322998,
           null
          ],
          [
           null,
           null,
           null,
           null,
           null
          ]
         ]
        },
        {
         "marker": {
          "color": "black",
          "line": {
           "color": "Grey",
           "width": 0.5
          }
         },
         "mode": "markers",
         "showlegend": false,
         "type": "scatter",
         "x": [
          128,
          8
         ],
         "xaxis": "x36",
         "y": [
          97,
          51
         ],
         "yaxis": "y36"
        },
        {
         "colorbar": {
          "title": {
           "text": "Objective Value"
          }
         },
         "colorscale": [
          [
           0,
           "rgb(5,10,172)"
          ],
          [
           0.35,
           "rgb(40,60,190)"
          ],
          [
           0.5,
           "rgb(70,100,245)"
          ],
          [
           0.6,
           "rgb(90,120,245)"
          ],
          [
           0.7,
           "rgb(106,137,247)"
          ],
          [
           1,
           "rgb(220,220,220)"
          ]
         ],
         "connectgaps": true,
         "contours": {
          "coloring": "heatmap"
         },
         "hoverinfo": "none",
         "line": {
          "smoothing": 1.3
         },
         "reversescale": true,
         "showscale": false,
         "type": "contour",
         "x": [
          2,
          8,
          64,
          128,
          134
         ],
         "xaxis": "x43",
         "y": [
          "Adam",
          "RMSprop",
          "SGD"
         ],
         "yaxis": "y43",
         "z": [
          [
           null,
           0.32484307885169983,
           null,
           null,
           null
          ],
          [
           null,
           null,
           0.12034701555967331,
           null,
           null
          ],
          [
           null,
           null,
           null,
           1.1375892162322998,
           null
          ]
         ]
        },
        {
         "marker": {
          "color": "black",
          "line": {
           "color": "Grey",
           "width": 0.5
          }
         },
         "mode": "markers",
         "showlegend": false,
         "type": "scatter",
         "x": [
          128,
          64,
          8
         ],
         "xaxis": "x43",
         "y": [
          "SGD",
          "RMSprop",
          "Adam"
         ],
         "yaxis": "y43"
        },
        {
         "colorbar": {
          "title": {
           "text": "Objective Value"
          }
         },
         "colorscale": [
          [
           0,
           "rgb(5,10,172)"
          ],
          [
           0.35,
           "rgb(40,60,190)"
          ],
          [
           0.5,
           "rgb(70,100,245)"
          ],
          [
           0.6,
           "rgb(90,120,245)"
          ],
          [
           0.7,
           "rgb(106,137,247)"
          ],
          [
           1,
           "rgb(220,220,220)"
          ]
         ],
         "connectgaps": true,
         "contours": {
          "coloring": "heatmap"
         },
         "hoverinfo": "none",
         "line": {
          "smoothing": 1.3
         },
         "reversescale": true,
         "showscale": false,
         "type": "contour",
         "x": [
          0.19226498850113224,
          0.20482346427425893,
          0.2568743385059912,
          0.45599297973679265,
          0.46855145550991933
         ],
         "xaxis": "x2",
         "y": [
          2,
          8,
          64,
          128,
          134
         ],
         "yaxis": "y2",
         "z": [
          [
           null,
           null,
           null,
           null,
           null
          ],
          [
           null,
           null,
           null,
           0.32484307885169983,
           null
          ],
          [
           null,
           0.12034701555967331,
           null,
           null,
           null
          ],
          [
           null,
           null,
           1.1375892162322998,
           null,
           null
          ],
          [
           null,
           null,
           null,
           null,
           null
          ]
         ]
        },
        {
         "marker": {
          "color": "black",
          "line": {
           "color": "Grey",
           "width": 0.5
          }
         },
         "mode": "markers",
         "showlegend": false,
         "type": "scatter",
         "x": [
          0.2568743385059912,
          0.20482346427425893,
          0.45599297973679265
         ],
         "xaxis": "x2",
         "y": [
          128,
          64,
          8
         ],
         "yaxis": "y2"
        },
        {
         "type": "scatter",
         "xaxis": "x9",
         "yaxis": "y9"
        },
        {
         "colorbar": {
          "title": {
           "text": "Objective Value"
          }
         },
         "colorscale": [
          [
           0,
           "rgb(5,10,172)"
          ],
          [
           0.35,
           "rgb(40,60,190)"
          ],
          [
           0.5,
           "rgb(70,100,245)"
          ],
          [
           0.6,
           "rgb(90,120,245)"
          ],
          [
           0.7,
           "rgb(106,137,247)"
          ],
          [
           1,
           "rgb(220,220,220)"
          ]
         ],
         "connectgaps": true,
         "contours": {
          "coloring": "heatmap"
         },
         "hoverinfo": "none",
         "line": {
          "smoothing": 1.3
         },
         "reversescale": true,
         "showscale": false,
         "type": "contour",
         "x": [
          0.19226498850113224,
          0.20482346427425893,
          0.2568743385059912,
          0.45599297973679265,
          0.46855145550991933
         ],
         "xaxis": "x16",
         "y": [
          1.5066702283983606e-05,
          2.2555860239198034e-05,
          7.346300588244607e-05,
          0.07212455701669214,
          0.1079752819973055
         ],
         "yaxis": "y16",
         "z": [
          [
           null,
           null,
           null,
           null,
           null
          ],
          [
           null,
           0.12034701555967331,
           null,
           null,
           null
          ],
          [
           null,
           null,
           null,
           0.32484307885169983,
           null
          ],
          [
           null,
           null,
           1.1375892162322998,
           null,
           null
          ],
          [
           null,
           null,
           null,
           null,
           null
          ]
         ]
        },
        {
         "marker": {
          "color": "black",
          "line": {
           "color": "Grey",
           "width": 0.5
          }
         },
         "mode": "markers",
         "showlegend": false,
         "type": "scatter",
         "x": [
          0.2568743385059912,
          0.20482346427425893,
          0.45599297973679265
         ],
         "xaxis": "x16",
         "y": [
          0.07212455701669214,
          2.2555860239198034e-05,
          7.346300588244607e-05
         ],
         "yaxis": "y16"
        },
        {
         "colorbar": {
          "title": {
           "text": "Objective Value"
          }
         },
         "colorscale": [
          [
           0,
           "rgb(5,10,172)"
          ],
          [
           0.35,
           "rgb(40,60,190)"
          ],
          [
           0.5,
           "rgb(70,100,245)"
          ],
          [
           0.6,
           "rgb(90,120,245)"
          ],
          [
           0.7,
           "rgb(106,137,247)"
          ],
          [
           1,
           "rgb(220,220,220)"
          ]
         ],
         "connectgaps": true,
         "contours": {
          "coloring": "heatmap"
         },
         "hoverinfo": "none",
         "line": {
          "smoothing": 1.3
         },
         "reversescale": true,
         "showscale": false,
         "type": "contour",
         "x": [
          0.19226498850113224,
          0.20482346427425893,
          0.2568743385059912,
          0.45599297973679265,
          0.46855145550991933
         ],
         "xaxis": "x23",
         "y": [
          0.95,
          1,
          2,
          2.05
         ],
         "yaxis": "y23",
         "z": [
          [
           null,
           null,
           null,
           null,
           null
          ],
          [
           null,
           0.12034701555967331,
           null,
           null,
           null
          ],
          [
           null,
           null,
           1.1375892162322998,
           0.32484307885169983,
           null
          ],
          [
           null,
           null,
           null,
           null,
           null
          ]
         ]
        },
        {
         "marker": {
          "color": "black",
          "line": {
           "color": "Grey",
           "width": 0.5
          }
         },
         "mode": "markers",
         "showlegend": false,
         "type": "scatter",
         "x": [
          0.2568743385059912,
          0.20482346427425893,
          0.45599297973679265
         ],
         "xaxis": "x23",
         "y": [
          2,
          1,
          2
         ],
         "yaxis": "y23"
        },
        {
         "colorbar": {
          "title": {
           "text": "Objective Value"
          }
         },
         "colorscale": [
          [
           0,
           "rgb(5,10,172)"
          ],
          [
           0.35,
           "rgb(40,60,190)"
          ],
          [
           0.5,
           "rgb(70,100,245)"
          ],
          [
           0.6,
           "rgb(90,120,245)"
          ],
          [
           0.7,
           "rgb(106,137,247)"
          ],
          [
           1,
           "rgb(220,220,220)"
          ]
         ],
         "connectgaps": true,
         "contours": {
          "coloring": "heatmap"
         },
         "hoverinfo": "none",
         "line": {
          "smoothing": 1.3
         },
         "reversescale": true,
         "showscale": false,
         "type": "contour",
         "x": [
          0.19226498850113224,
          0.20482346427425893,
          0.2568743385059912,
          0.45599297973679265,
          0.46855145550991933
         ],
         "xaxis": "x30",
         "y": [
          10.8,
          14,
          30,
          78,
          81.2
         ],
         "yaxis": "y30",
         "z": [
          [
           null,
           null,
           null,
           null,
           null
          ],
          [
           null,
           null,
           null,
           0.32484307885169983,
           null
          ],
          [
           null,
           0.12034701555967331,
           null,
           null,
           null
          ],
          [
           null,
           null,
           1.1375892162322998,
           null,
           null
          ],
          [
           null,
           null,
           null,
           null,
           null
          ]
         ]
        },
        {
         "marker": {
          "color": "black",
          "line": {
           "color": "Grey",
           "width": 0.5
          }
         },
         "mode": "markers",
         "showlegend": false,
         "type": "scatter",
         "x": [
          0.2568743385059912,
          0.20482346427425893,
          0.45599297973679265
         ],
         "xaxis": "x30",
         "y": [
          78,
          30,
          14
         ],
         "yaxis": "y30"
        },
        {
         "colorbar": {
          "title": {
           "text": "Objective Value"
          }
         },
         "colorscale": [
          [
           0,
           "rgb(5,10,172)"
          ],
          [
           0.35,
           "rgb(40,60,190)"
          ],
          [
           0.5,
           "rgb(70,100,245)"
          ],
          [
           0.6,
           "rgb(90,120,245)"
          ],
          [
           0.7,
           "rgb(106,137,247)"
          ],
          [
           1,
           "rgb(220,220,220)"
          ]
         ],
         "connectgaps": true,
         "contours": {
          "coloring": "heatmap"
         },
         "hoverinfo": "none",
         "line": {
          "smoothing": 1.3
         },
         "reversescale": true,
         "showscale": false,
         "type": "contour",
         "x": [
          0.19226498850113224,
          0.20482346427425893,
          0.2568743385059912,
          0.45599297973679265,
          0.46855145550991933
         ],
         "xaxis": "x37",
         "y": [
          48.7,
          51,
          97,
          99.3
         ],
         "yaxis": "y37",
         "z": [
          [
           null,
           null,
           null,
           null,
           null
          ],
          [
           null,
           null,
           null,
           0.32484307885169983,
           null
          ],
          [
           null,
           null,
           1.1375892162322998,
           null,
           null
          ],
          [
           null,
           null,
           null,
           null,
           null
          ]
         ]
        },
        {
         "marker": {
          "color": "black",
          "line": {
           "color": "Grey",
           "width": 0.5
          }
         },
         "mode": "markers",
         "showlegend": false,
         "type": "scatter",
         "x": [
          0.2568743385059912,
          0.45599297973679265
         ],
         "xaxis": "x37",
         "y": [
          97,
          51
         ],
         "yaxis": "y37"
        },
        {
         "colorbar": {
          "title": {
           "text": "Objective Value"
          }
         },
         "colorscale": [
          [
           0,
           "rgb(5,10,172)"
          ],
          [
           0.35,
           "rgb(40,60,190)"
          ],
          [
           0.5,
           "rgb(70,100,245)"
          ],
          [
           0.6,
           "rgb(90,120,245)"
          ],
          [
           0.7,
           "rgb(106,137,247)"
          ],
          [
           1,
           "rgb(220,220,220)"
          ]
         ],
         "connectgaps": true,
         "contours": {
          "coloring": "heatmap"
         },
         "hoverinfo": "none",
         "line": {
          "smoothing": 1.3
         },
         "reversescale": true,
         "showscale": false,
         "type": "contour",
         "x": [
          0.19226498850113224,
          0.20482346427425893,
          0.2568743385059912,
          0.45599297973679265,
          0.46855145550991933
         ],
         "xaxis": "x44",
         "y": [
          "Adam",
          "RMSprop",
          "SGD"
         ],
         "yaxis": "y44",
         "z": [
          [
           null,
           null,
           null,
           0.32484307885169983,
           null
          ],
          [
           null,
           0.12034701555967331,
           null,
           null,
           null
          ],
          [
           null,
           null,
           1.1375892162322998,
           null,
           null
          ]
         ]
        },
        {
         "marker": {
          "color": "black",
          "line": {
           "color": "Grey",
           "width": 0.5
          }
         },
         "mode": "markers",
         "showlegend": false,
         "type": "scatter",
         "x": [
          0.2568743385059912,
          0.20482346427425893,
          0.45599297973679265
         ],
         "xaxis": "x44",
         "y": [
          "SGD",
          "RMSprop",
          "Adam"
         ],
         "yaxis": "y44"
        },
        {
         "colorbar": {
          "title": {
           "text": "Objective Value"
          }
         },
         "colorscale": [
          [
           0,
           "rgb(5,10,172)"
          ],
          [
           0.35,
           "rgb(40,60,190)"
          ],
          [
           0.5,
           "rgb(70,100,245)"
          ],
          [
           0.6,
           "rgb(90,120,245)"
          ],
          [
           0.7,
           "rgb(106,137,247)"
          ],
          [
           1,
           "rgb(220,220,220)"
          ]
         ],
         "connectgaps": true,
         "contours": {
          "coloring": "heatmap"
         },
         "hoverinfo": "none",
         "line": {
          "smoothing": 1.3
         },
         "reversescale": true,
         "showscale": false,
         "type": "contour",
         "x": [
          1.5066702283983606e-05,
          2.2555860239198034e-05,
          7.346300588244607e-05,
          0.07212455701669214,
          0.1079752819973055
         ],
         "xaxis": "x3",
         "y": [
          2,
          8,
          64,
          128,
          134
         ],
         "yaxis": "y3",
         "z": [
          [
           null,
           null,
           null,
           null,
           null
          ],
          [
           null,
           null,
           0.32484307885169983,
           null,
           null
          ],
          [
           null,
           0.12034701555967331,
           null,
           null,
           null
          ],
          [
           null,
           null,
           null,
           1.1375892162322998,
           null
          ],
          [
           null,
           null,
           null,
           null,
           null
          ]
         ]
        },
        {
         "marker": {
          "color": "black",
          "line": {
           "color": "Grey",
           "width": 0.5
          }
         },
         "mode": "markers",
         "showlegend": false,
         "type": "scatter",
         "x": [
          0.07212455701669214,
          2.2555860239198034e-05,
          7.346300588244607e-05
         ],
         "xaxis": "x3",
         "y": [
          128,
          64,
          8
         ],
         "yaxis": "y3"
        },
        {
         "colorbar": {
          "title": {
           "text": "Objective Value"
          }
         },
         "colorscale": [
          [
           0,
           "rgb(5,10,172)"
          ],
          [
           0.35,
           "rgb(40,60,190)"
          ],
          [
           0.5,
           "rgb(70,100,245)"
          ],
          [
           0.6,
           "rgb(90,120,245)"
          ],
          [
           0.7,
           "rgb(106,137,247)"
          ],
          [
           1,
           "rgb(220,220,220)"
          ]
         ],
         "connectgaps": true,
         "contours": {
          "coloring": "heatmap"
         },
         "hoverinfo": "none",
         "line": {
          "smoothing": 1.3
         },
         "reversescale": true,
         "showscale": false,
         "type": "contour",
         "x": [
          1.5066702283983606e-05,
          2.2555860239198034e-05,
          7.346300588244607e-05,
          0.07212455701669214,
          0.1079752819973055
         ],
         "xaxis": "x10",
         "y": [
          0.19226498850113224,
          0.20482346427425893,
          0.2568743385059912,
          0.45599297973679265,
          0.46855145550991933
         ],
         "yaxis": "y10",
         "z": [
          [
           null,
           null,
           null,
           null,
           null
          ],
          [
           null,
           0.12034701555967331,
           null,
           null,
           null
          ],
          [
           null,
           null,
           null,
           1.1375892162322998,
           null
          ],
          [
           null,
           null,
           0.32484307885169983,
           null,
           null
          ],
          [
           null,
           null,
           null,
           null,
           null
          ]
         ]
        },
        {
         "marker": {
          "color": "black",
          "line": {
           "color": "Grey",
           "width": 0.5
          }
         },
         "mode": "markers",
         "showlegend": false,
         "type": "scatter",
         "x": [
          0.07212455701669214,
          2.2555860239198034e-05,
          7.346300588244607e-05
         ],
         "xaxis": "x10",
         "y": [
          0.2568743385059912,
          0.20482346427425893,
          0.45599297973679265
         ],
         "yaxis": "y10"
        },
        {
         "type": "scatter",
         "xaxis": "x17",
         "yaxis": "y17"
        },
        {
         "colorbar": {
          "title": {
           "text": "Objective Value"
          }
         },
         "colorscale": [
          [
           0,
           "rgb(5,10,172)"
          ],
          [
           0.35,
           "rgb(40,60,190)"
          ],
          [
           0.5,
           "rgb(70,100,245)"
          ],
          [
           0.6,
           "rgb(90,120,245)"
          ],
          [
           0.7,
           "rgb(106,137,247)"
          ],
          [
           1,
           "rgb(220,220,220)"
          ]
         ],
         "connectgaps": true,
         "contours": {
          "coloring": "heatmap"
         },
         "hoverinfo": "none",
         "line": {
          "smoothing": 1.3
         },
         "reversescale": true,
         "showscale": false,
         "type": "contour",
         "x": [
          1.5066702283983606e-05,
          2.2555860239198034e-05,
          7.346300588244607e-05,
          0.07212455701669214,
          0.1079752819973055
         ],
         "xaxis": "x24",
         "y": [
          0.95,
          1,
          2,
          2.05
         ],
         "yaxis": "y24",
         "z": [
          [
           null,
           null,
           null,
           null,
           null
          ],
          [
           null,
           0.12034701555967331,
           null,
           null,
           null
          ],
          [
           null,
           null,
           0.32484307885169983,
           1.1375892162322998,
           null
          ],
          [
           null,
           null,
           null,
           null,
           null
          ]
         ]
        },
        {
         "marker": {
          "color": "black",
          "line": {
           "color": "Grey",
           "width": 0.5
          }
         },
         "mode": "markers",
         "showlegend": false,
         "type": "scatter",
         "x": [
          0.07212455701669214,
          2.2555860239198034e-05,
          7.346300588244607e-05
         ],
         "xaxis": "x24",
         "y": [
          2,
          1,
          2
         ],
         "yaxis": "y24"
        },
        {
         "colorbar": {
          "title": {
           "text": "Objective Value"
          }
         },
         "colorscale": [
          [
           0,
           "rgb(5,10,172)"
          ],
          [
           0.35,
           "rgb(40,60,190)"
          ],
          [
           0.5,
           "rgb(70,100,245)"
          ],
          [
           0.6,
           "rgb(90,120,245)"
          ],
          [
           0.7,
           "rgb(106,137,247)"
          ],
          [
           1,
           "rgb(220,220,220)"
          ]
         ],
         "connectgaps": true,
         "contours": {
          "coloring": "heatmap"
         },
         "hoverinfo": "none",
         "line": {
          "smoothing": 1.3
         },
         "reversescale": true,
         "showscale": false,
         "type": "contour",
         "x": [
          1.5066702283983606e-05,
          2.2555860239198034e-05,
          7.346300588244607e-05,
          0.07212455701669214,
          0.1079752819973055
         ],
         "xaxis": "x31",
         "y": [
          10.8,
          14,
          30,
          78,
          81.2
         ],
         "yaxis": "y31",
         "z": [
          [
           null,
           null,
           null,
           null,
           null
          ],
          [
           null,
           null,
           0.32484307885169983,
           null,
           null
          ],
          [
           null,
           0.12034701555967331,
           null,
           null,
           null
          ],
          [
           null,
           null,
           null,
           1.1375892162322998,
           null
          ],
          [
           null,
           null,
           null,
           null,
           null
          ]
         ]
        },
        {
         "marker": {
          "color": "black",
          "line": {
           "color": "Grey",
           "width": 0.5
          }
         },
         "mode": "markers",
         "showlegend": false,
         "type": "scatter",
         "x": [
          0.07212455701669214,
          2.2555860239198034e-05,
          7.346300588244607e-05
         ],
         "xaxis": "x31",
         "y": [
          78,
          30,
          14
         ],
         "yaxis": "y31"
        },
        {
         "colorbar": {
          "title": {
           "text": "Objective Value"
          }
         },
         "colorscale": [
          [
           0,
           "rgb(5,10,172)"
          ],
          [
           0.35,
           "rgb(40,60,190)"
          ],
          [
           0.5,
           "rgb(70,100,245)"
          ],
          [
           0.6,
           "rgb(90,120,245)"
          ],
          [
           0.7,
           "rgb(106,137,247)"
          ],
          [
           1,
           "rgb(220,220,220)"
          ]
         ],
         "connectgaps": true,
         "contours": {
          "coloring": "heatmap"
         },
         "hoverinfo": "none",
         "line": {
          "smoothing": 1.3
         },
         "reversescale": true,
         "showscale": false,
         "type": "contour",
         "x": [
          1.5066702283983606e-05,
          2.2555860239198034e-05,
          7.346300588244607e-05,
          0.07212455701669214,
          0.1079752819973055
         ],
         "xaxis": "x38",
         "y": [
          48.7,
          51,
          97,
          99.3
         ],
         "yaxis": "y38",
         "z": [
          [
           null,
           null,
           null,
           null,
           null
          ],
          [
           null,
           null,
           0.32484307885169983,
           null,
           null
          ],
          [
           null,
           null,
           null,
           1.1375892162322998,
           null
          ],
          [
           null,
           null,
           null,
           null,
           null
          ]
         ]
        },
        {
         "marker": {
          "color": "black",
          "line": {
           "color": "Grey",
           "width": 0.5
          }
         },
         "mode": "markers",
         "showlegend": false,
         "type": "scatter",
         "x": [
          0.07212455701669214,
          7.346300588244607e-05
         ],
         "xaxis": "x38",
         "y": [
          97,
          51
         ],
         "yaxis": "y38"
        },
        {
         "colorbar": {
          "title": {
           "text": "Objective Value"
          }
         },
         "colorscale": [
          [
           0,
           "rgb(5,10,172)"
          ],
          [
           0.35,
           "rgb(40,60,190)"
          ],
          [
           0.5,
           "rgb(70,100,245)"
          ],
          [
           0.6,
           "rgb(90,120,245)"
          ],
          [
           0.7,
           "rgb(106,137,247)"
          ],
          [
           1,
           "rgb(220,220,220)"
          ]
         ],
         "connectgaps": true,
         "contours": {
          "coloring": "heatmap"
         },
         "hoverinfo": "none",
         "line": {
          "smoothing": 1.3
         },
         "reversescale": true,
         "showscale": false,
         "type": "contour",
         "x": [
          1.5066702283983606e-05,
          2.2555860239198034e-05,
          7.346300588244607e-05,
          0.07212455701669214,
          0.1079752819973055
         ],
         "xaxis": "x45",
         "y": [
          "Adam",
          "RMSprop",
          "SGD"
         ],
         "yaxis": "y45",
         "z": [
          [
           null,
           null,
           0.32484307885169983,
           null,
           null
          ],
          [
           null,
           0.12034701555967331,
           null,
           null,
           null
          ],
          [
           null,
           null,
           null,
           1.1375892162322998,
           null
          ]
         ]
        },
        {
         "marker": {
          "color": "black",
          "line": {
           "color": "Grey",
           "width": 0.5
          }
         },
         "mode": "markers",
         "showlegend": false,
         "type": "scatter",
         "x": [
          0.07212455701669214,
          2.2555860239198034e-05,
          7.346300588244607e-05
         ],
         "xaxis": "x45",
         "y": [
          "SGD",
          "RMSprop",
          "Adam"
         ],
         "yaxis": "y45"
        },
        {
         "colorbar": {
          "title": {
           "text": "Objective Value"
          }
         },
         "colorscale": [
          [
           0,
           "rgb(5,10,172)"
          ],
          [
           0.35,
           "rgb(40,60,190)"
          ],
          [
           0.5,
           "rgb(70,100,245)"
          ],
          [
           0.6,
           "rgb(90,120,245)"
          ],
          [
           0.7,
           "rgb(106,137,247)"
          ],
          [
           1,
           "rgb(220,220,220)"
          ]
         ],
         "connectgaps": true,
         "contours": {
          "coloring": "heatmap"
         },
         "hoverinfo": "none",
         "line": {
          "smoothing": 1.3
         },
         "reversescale": true,
         "showscale": false,
         "type": "contour",
         "x": [
          0.95,
          1,
          2,
          2.05
         ],
         "xaxis": "x4",
         "y": [
          2,
          8,
          64,
          128,
          134
         ],
         "yaxis": "y4",
         "z": [
          [
           null,
           null,
           null,
           null
          ],
          [
           null,
           null,
           0.32484307885169983,
           null
          ],
          [
           null,
           0.12034701555967331,
           null,
           null
          ],
          [
           null,
           null,
           1.1375892162322998,
           null
          ],
          [
           null,
           null,
           null,
           null
          ]
         ]
        },
        {
         "marker": {
          "color": "black",
          "line": {
           "color": "Grey",
           "width": 0.5
          }
         },
         "mode": "markers",
         "showlegend": false,
         "type": "scatter",
         "x": [
          2,
          1,
          2
         ],
         "xaxis": "x4",
         "y": [
          128,
          64,
          8
         ],
         "yaxis": "y4"
        },
        {
         "colorbar": {
          "title": {
           "text": "Objective Value"
          }
         },
         "colorscale": [
          [
           0,
           "rgb(5,10,172)"
          ],
          [
           0.35,
           "rgb(40,60,190)"
          ],
          [
           0.5,
           "rgb(70,100,245)"
          ],
          [
           0.6,
           "rgb(90,120,245)"
          ],
          [
           0.7,
           "rgb(106,137,247)"
          ],
          [
           1,
           "rgb(220,220,220)"
          ]
         ],
         "connectgaps": true,
         "contours": {
          "coloring": "heatmap"
         },
         "hoverinfo": "none",
         "line": {
          "smoothing": 1.3
         },
         "reversescale": true,
         "showscale": false,
         "type": "contour",
         "x": [
          0.95,
          1,
          2,
          2.05
         ],
         "xaxis": "x11",
         "y": [
          0.19226498850113224,
          0.20482346427425893,
          0.2568743385059912,
          0.45599297973679265,
          0.46855145550991933
         ],
         "yaxis": "y11",
         "z": [
          [
           null,
           null,
           null,
           null
          ],
          [
           null,
           0.12034701555967331,
           null,
           null
          ],
          [
           null,
           null,
           1.1375892162322998,
           null
          ],
          [
           null,
           null,
           0.32484307885169983,
           null
          ],
          [
           null,
           null,
           null,
           null
          ]
         ]
        },
        {
         "marker": {
          "color": "black",
          "line": {
           "color": "Grey",
           "width": 0.5
          }
         },
         "mode": "markers",
         "showlegend": false,
         "type": "scatter",
         "x": [
          2,
          1,
          2
         ],
         "xaxis": "x11",
         "y": [
          0.2568743385059912,
          0.20482346427425893,
          0.45599297973679265
         ],
         "yaxis": "y11"
        },
        {
         "colorbar": {
          "title": {
           "text": "Objective Value"
          }
         },
         "colorscale": [
          [
           0,
           "rgb(5,10,172)"
          ],
          [
           0.35,
           "rgb(40,60,190)"
          ],
          [
           0.5,
           "rgb(70,100,245)"
          ],
          [
           0.6,
           "rgb(90,120,245)"
          ],
          [
           0.7,
           "rgb(106,137,247)"
          ],
          [
           1,
           "rgb(220,220,220)"
          ]
         ],
         "connectgaps": true,
         "contours": {
          "coloring": "heatmap"
         },
         "hoverinfo": "none",
         "line": {
          "smoothing": 1.3
         },
         "reversescale": true,
         "showscale": false,
         "type": "contour",
         "x": [
          0.95,
          1,
          2,
          2.05
         ],
         "xaxis": "x18",
         "y": [
          1.5066702283983606e-05,
          2.2555860239198034e-05,
          7.346300588244607e-05,
          0.07212455701669214,
          0.1079752819973055
         ],
         "yaxis": "y18",
         "z": [
          [
           null,
           null,
           null,
           null
          ],
          [
           null,
           0.12034701555967331,
           null,
           null
          ],
          [
           null,
           null,
           0.32484307885169983,
           null
          ],
          [
           null,
           null,
           1.1375892162322998,
           null
          ],
          [
           null,
           null,
           null,
           null
          ]
         ]
        },
        {
         "marker": {
          "color": "black",
          "line": {
           "color": "Grey",
           "width": 0.5
          }
         },
         "mode": "markers",
         "showlegend": false,
         "type": "scatter",
         "x": [
          2,
          1,
          2
         ],
         "xaxis": "x18",
         "y": [
          0.07212455701669214,
          2.2555860239198034e-05,
          7.346300588244607e-05
         ],
         "yaxis": "y18"
        },
        {
         "type": "scatter",
         "xaxis": "x25",
         "yaxis": "y25"
        },
        {
         "colorbar": {
          "title": {
           "text": "Objective Value"
          }
         },
         "colorscale": [
          [
           0,
           "rgb(5,10,172)"
          ],
          [
           0.35,
           "rgb(40,60,190)"
          ],
          [
           0.5,
           "rgb(70,100,245)"
          ],
          [
           0.6,
           "rgb(90,120,245)"
          ],
          [
           0.7,
           "rgb(106,137,247)"
          ],
          [
           1,
           "rgb(220,220,220)"
          ]
         ],
         "connectgaps": true,
         "contours": {
          "coloring": "heatmap"
         },
         "hoverinfo": "none",
         "line": {
          "smoothing": 1.3
         },
         "reversescale": true,
         "showscale": false,
         "type": "contour",
         "x": [
          0.95,
          1,
          2,
          2.05
         ],
         "xaxis": "x32",
         "y": [
          10.8,
          14,
          30,
          78,
          81.2
         ],
         "yaxis": "y32",
         "z": [
          [
           null,
           null,
           null,
           null
          ],
          [
           null,
           null,
           0.32484307885169983,
           null
          ],
          [
           null,
           0.12034701555967331,
           null,
           null
          ],
          [
           null,
           null,
           1.1375892162322998,
           null
          ],
          [
           null,
           null,
           null,
           null
          ]
         ]
        },
        {
         "marker": {
          "color": "black",
          "line": {
           "color": "Grey",
           "width": 0.5
          }
         },
         "mode": "markers",
         "showlegend": false,
         "type": "scatter",
         "x": [
          2,
          1,
          2
         ],
         "xaxis": "x32",
         "y": [
          78,
          30,
          14
         ],
         "yaxis": "y32"
        },
        {
         "colorbar": {
          "title": {
           "text": "Objective Value"
          }
         },
         "colorscale": [
          [
           0,
           "rgb(5,10,172)"
          ],
          [
           0.35,
           "rgb(40,60,190)"
          ],
          [
           0.5,
           "rgb(70,100,245)"
          ],
          [
           0.6,
           "rgb(90,120,245)"
          ],
          [
           0.7,
           "rgb(106,137,247)"
          ],
          [
           1,
           "rgb(220,220,220)"
          ]
         ],
         "connectgaps": true,
         "contours": {
          "coloring": "heatmap"
         },
         "hoverinfo": "none",
         "line": {
          "smoothing": 1.3
         },
         "reversescale": true,
         "showscale": false,
         "type": "contour",
         "x": [
          0.95,
          1,
          2,
          2.05
         ],
         "xaxis": "x39",
         "y": [
          48.7,
          51,
          97,
          99.3
         ],
         "yaxis": "y39",
         "z": [
          [
           null,
           null,
           null,
           null
          ],
          [
           null,
           null,
           0.32484307885169983,
           null
          ],
          [
           null,
           null,
           1.1375892162322998,
           null
          ],
          [
           null,
           null,
           null,
           null
          ]
         ]
        },
        {
         "marker": {
          "color": "black",
          "line": {
           "color": "Grey",
           "width": 0.5
          }
         },
         "mode": "markers",
         "showlegend": false,
         "type": "scatter",
         "x": [
          2,
          2
         ],
         "xaxis": "x39",
         "y": [
          97,
          51
         ],
         "yaxis": "y39"
        },
        {
         "colorbar": {
          "title": {
           "text": "Objective Value"
          }
         },
         "colorscale": [
          [
           0,
           "rgb(5,10,172)"
          ],
          [
           0.35,
           "rgb(40,60,190)"
          ],
          [
           0.5,
           "rgb(70,100,245)"
          ],
          [
           0.6,
           "rgb(90,120,245)"
          ],
          [
           0.7,
           "rgb(106,137,247)"
          ],
          [
           1,
           "rgb(220,220,220)"
          ]
         ],
         "connectgaps": true,
         "contours": {
          "coloring": "heatmap"
         },
         "hoverinfo": "none",
         "line": {
          "smoothing": 1.3
         },
         "reversescale": true,
         "showscale": false,
         "type": "contour",
         "x": [
          0.95,
          1,
          2,
          2.05
         ],
         "xaxis": "x46",
         "y": [
          "Adam",
          "RMSprop",
          "SGD"
         ],
         "yaxis": "y46",
         "z": [
          [
           null,
           null,
           0.32484307885169983,
           null
          ],
          [
           null,
           0.12034701555967331,
           null,
           null
          ],
          [
           null,
           null,
           1.1375892162322998,
           null
          ]
         ]
        },
        {
         "marker": {
          "color": "black",
          "line": {
           "color": "Grey",
           "width": 0.5
          }
         },
         "mode": "markers",
         "showlegend": false,
         "type": "scatter",
         "x": [
          2,
          1,
          2
         ],
         "xaxis": "x46",
         "y": [
          "SGD",
          "RMSprop",
          "Adam"
         ],
         "yaxis": "y46"
        },
        {
         "colorbar": {
          "title": {
           "text": "Objective Value"
          }
         },
         "colorscale": [
          [
           0,
           "rgb(5,10,172)"
          ],
          [
           0.35,
           "rgb(40,60,190)"
          ],
          [
           0.5,
           "rgb(70,100,245)"
          ],
          [
           0.6,
           "rgb(90,120,245)"
          ],
          [
           0.7,
           "rgb(106,137,247)"
          ],
          [
           1,
           "rgb(220,220,220)"
          ]
         ],
         "connectgaps": true,
         "contours": {
          "coloring": "heatmap"
         },
         "hoverinfo": "none",
         "line": {
          "smoothing": 1.3
         },
         "reversescale": true,
         "showscale": false,
         "type": "contour",
         "x": [
          10.8,
          14,
          30,
          78,
          81.2
         ],
         "xaxis": "x5",
         "y": [
          2,
          8,
          64,
          128,
          134
         ],
         "yaxis": "y5",
         "z": [
          [
           null,
           null,
           null,
           null,
           null
          ],
          [
           null,
           0.32484307885169983,
           null,
           null,
           null
          ],
          [
           null,
           null,
           0.12034701555967331,
           null,
           null
          ],
          [
           null,
           null,
           null,
           1.1375892162322998,
           null
          ],
          [
           null,
           null,
           null,
           null,
           null
          ]
         ]
        },
        {
         "marker": {
          "color": "black",
          "line": {
           "color": "Grey",
           "width": 0.5
          }
         },
         "mode": "markers",
         "showlegend": false,
         "type": "scatter",
         "x": [
          78,
          30,
          14
         ],
         "xaxis": "x5",
         "y": [
          128,
          64,
          8
         ],
         "yaxis": "y5"
        },
        {
         "colorbar": {
          "title": {
           "text": "Objective Value"
          }
         },
         "colorscale": [
          [
           0,
           "rgb(5,10,172)"
          ],
          [
           0.35,
           "rgb(40,60,190)"
          ],
          [
           0.5,
           "rgb(70,100,245)"
          ],
          [
           0.6,
           "rgb(90,120,245)"
          ],
          [
           0.7,
           "rgb(106,137,247)"
          ],
          [
           1,
           "rgb(220,220,220)"
          ]
         ],
         "connectgaps": true,
         "contours": {
          "coloring": "heatmap"
         },
         "hoverinfo": "none",
         "line": {
          "smoothing": 1.3
         },
         "reversescale": true,
         "showscale": false,
         "type": "contour",
         "x": [
          10.8,
          14,
          30,
          78,
          81.2
         ],
         "xaxis": "x12",
         "y": [
          0.19226498850113224,
          0.20482346427425893,
          0.2568743385059912,
          0.45599297973679265,
          0.46855145550991933
         ],
         "yaxis": "y12",
         "z": [
          [
           null,
           null,
           null,
           null,
           null
          ],
          [
           null,
           null,
           0.12034701555967331,
           null,
           null
          ],
          [
           null,
           null,
           null,
           1.1375892162322998,
           null
          ],
          [
           null,
           0.32484307885169983,
           null,
           null,
           null
          ],
          [
           null,
           null,
           null,
           null,
           null
          ]
         ]
        },
        {
         "marker": {
          "color": "black",
          "line": {
           "color": "Grey",
           "width": 0.5
          }
         },
         "mode": "markers",
         "showlegend": false,
         "type": "scatter",
         "x": [
          78,
          30,
          14
         ],
         "xaxis": "x12",
         "y": [
          0.2568743385059912,
          0.20482346427425893,
          0.45599297973679265
         ],
         "yaxis": "y12"
        },
        {
         "colorbar": {
          "title": {
           "text": "Objective Value"
          }
         },
         "colorscale": [
          [
           0,
           "rgb(5,10,172)"
          ],
          [
           0.35,
           "rgb(40,60,190)"
          ],
          [
           0.5,
           "rgb(70,100,245)"
          ],
          [
           0.6,
           "rgb(90,120,245)"
          ],
          [
           0.7,
           "rgb(106,137,247)"
          ],
          [
           1,
           "rgb(220,220,220)"
          ]
         ],
         "connectgaps": true,
         "contours": {
          "coloring": "heatmap"
         },
         "hoverinfo": "none",
         "line": {
          "smoothing": 1.3
         },
         "reversescale": true,
         "showscale": false,
         "type": "contour",
         "x": [
          10.8,
          14,
          30,
          78,
          81.2
         ],
         "xaxis": "x19",
         "y": [
          1.5066702283983606e-05,
          2.2555860239198034e-05,
          7.346300588244607e-05,
          0.07212455701669214,
          0.1079752819973055
         ],
         "yaxis": "y19",
         "z": [
          [
           null,
           null,
           null,
           null,
           null
          ],
          [
           null,
           null,
           0.12034701555967331,
           null,
           null
          ],
          [
           null,
           0.32484307885169983,
           null,
           null,
           null
          ],
          [
           null,
           null,
           null,
           1.1375892162322998,
           null
          ],
          [
           null,
           null,
           null,
           null,
           null
          ]
         ]
        },
        {
         "marker": {
          "color": "black",
          "line": {
           "color": "Grey",
           "width": 0.5
          }
         },
         "mode": "markers",
         "showlegend": false,
         "type": "scatter",
         "x": [
          78,
          30,
          14
         ],
         "xaxis": "x19",
         "y": [
          0.07212455701669214,
          2.2555860239198034e-05,
          7.346300588244607e-05
         ],
         "yaxis": "y19"
        },
        {
         "colorbar": {
          "title": {
           "text": "Objective Value"
          }
         },
         "colorscale": [
          [
           0,
           "rgb(5,10,172)"
          ],
          [
           0.35,
           "rgb(40,60,190)"
          ],
          [
           0.5,
           "rgb(70,100,245)"
          ],
          [
           0.6,
           "rgb(90,120,245)"
          ],
          [
           0.7,
           "rgb(106,137,247)"
          ],
          [
           1,
           "rgb(220,220,220)"
          ]
         ],
         "connectgaps": true,
         "contours": {
          "coloring": "heatmap"
         },
         "hoverinfo": "none",
         "line": {
          "smoothing": 1.3
         },
         "reversescale": true,
         "showscale": false,
         "type": "contour",
         "x": [
          10.8,
          14,
          30,
          78,
          81.2
         ],
         "xaxis": "x26",
         "y": [
          0.95,
          1,
          2,
          2.05
         ],
         "yaxis": "y26",
         "z": [
          [
           null,
           null,
           null,
           null,
           null
          ],
          [
           null,
           null,
           0.12034701555967331,
           null,
           null
          ],
          [
           null,
           0.32484307885169983,
           null,
           1.1375892162322998,
           null
          ],
          [
           null,
           null,
           null,
           null,
           null
          ]
         ]
        },
        {
         "marker": {
          "color": "black",
          "line": {
           "color": "Grey",
           "width": 0.5
          }
         },
         "mode": "markers",
         "showlegend": false,
         "type": "scatter",
         "x": [
          78,
          30,
          14
         ],
         "xaxis": "x26",
         "y": [
          2,
          1,
          2
         ],
         "yaxis": "y26"
        },
        {
         "type": "scatter",
         "xaxis": "x33",
         "yaxis": "y33"
        },
        {
         "colorbar": {
          "title": {
           "text": "Objective Value"
          }
         },
         "colorscale": [
          [
           0,
           "rgb(5,10,172)"
          ],
          [
           0.35,
           "rgb(40,60,190)"
          ],
          [
           0.5,
           "rgb(70,100,245)"
          ],
          [
           0.6,
           "rgb(90,120,245)"
          ],
          [
           0.7,
           "rgb(106,137,247)"
          ],
          [
           1,
           "rgb(220,220,220)"
          ]
         ],
         "connectgaps": true,
         "contours": {
          "coloring": "heatmap"
         },
         "hoverinfo": "none",
         "line": {
          "smoothing": 1.3
         },
         "reversescale": true,
         "showscale": false,
         "type": "contour",
         "x": [
          10.8,
          14,
          30,
          78,
          81.2
         ],
         "xaxis": "x40",
         "y": [
          48.7,
          51,
          97,
          99.3
         ],
         "yaxis": "y40",
         "z": [
          [
           null,
           null,
           null,
           null,
           null
          ],
          [
           null,
           0.32484307885169983,
           null,
           null,
           null
          ],
          [
           null,
           null,
           null,
           1.1375892162322998,
           null
          ],
          [
           null,
           null,
           null,
           null,
           null
          ]
         ]
        },
        {
         "marker": {
          "color": "black",
          "line": {
           "color": "Grey",
           "width": 0.5
          }
         },
         "mode": "markers",
         "showlegend": false,
         "type": "scatter",
         "x": [
          78,
          14
         ],
         "xaxis": "x40",
         "y": [
          97,
          51
         ],
         "yaxis": "y40"
        },
        {
         "colorbar": {
          "title": {
           "text": "Objective Value"
          }
         },
         "colorscale": [
          [
           0,
           "rgb(5,10,172)"
          ],
          [
           0.35,
           "rgb(40,60,190)"
          ],
          [
           0.5,
           "rgb(70,100,245)"
          ],
          [
           0.6,
           "rgb(90,120,245)"
          ],
          [
           0.7,
           "rgb(106,137,247)"
          ],
          [
           1,
           "rgb(220,220,220)"
          ]
         ],
         "connectgaps": true,
         "contours": {
          "coloring": "heatmap"
         },
         "hoverinfo": "none",
         "line": {
          "smoothing": 1.3
         },
         "reversescale": true,
         "showscale": false,
         "type": "contour",
         "x": [
          10.8,
          14,
          30,
          78,
          81.2
         ],
         "xaxis": "x47",
         "y": [
          "Adam",
          "RMSprop",
          "SGD"
         ],
         "yaxis": "y47",
         "z": [
          [
           null,
           0.32484307885169983,
           null,
           null,
           null
          ],
          [
           null,
           null,
           0.12034701555967331,
           null,
           null
          ],
          [
           null,
           null,
           null,
           1.1375892162322998,
           null
          ]
         ]
        },
        {
         "marker": {
          "color": "black",
          "line": {
           "color": "Grey",
           "width": 0.5
          }
         },
         "mode": "markers",
         "showlegend": false,
         "type": "scatter",
         "x": [
          78,
          30,
          14
         ],
         "xaxis": "x47",
         "y": [
          "SGD",
          "RMSprop",
          "Adam"
         ],
         "yaxis": "y47"
        },
        {
         "colorbar": {
          "title": {
           "text": "Objective Value"
          }
         },
         "colorscale": [
          [
           0,
           "rgb(5,10,172)"
          ],
          [
           0.35,
           "rgb(40,60,190)"
          ],
          [
           0.5,
           "rgb(70,100,245)"
          ],
          [
           0.6,
           "rgb(90,120,245)"
          ],
          [
           0.7,
           "rgb(106,137,247)"
          ],
          [
           1,
           "rgb(220,220,220)"
          ]
         ],
         "connectgaps": true,
         "contours": {
          "coloring": "heatmap"
         },
         "hoverinfo": "none",
         "line": {
          "smoothing": 1.3
         },
         "reversescale": true,
         "showscale": false,
         "type": "contour",
         "x": [
          48.7,
          51,
          97,
          99.3
         ],
         "xaxis": "x6",
         "y": [
          2,
          8,
          64,
          128,
          134
         ],
         "yaxis": "y6",
         "z": [
          [
           null,
           null,
           null,
           null
          ],
          [
           null,
           0.32484307885169983,
           null,
           null
          ],
          [
           null,
           null,
           null,
           null
          ],
          [
           null,
           null,
           1.1375892162322998,
           null
          ],
          [
           null,
           null,
           null,
           null
          ]
         ]
        },
        {
         "marker": {
          "color": "black",
          "line": {
           "color": "Grey",
           "width": 0.5
          }
         },
         "mode": "markers",
         "showlegend": false,
         "type": "scatter",
         "x": [
          97,
          51
         ],
         "xaxis": "x6",
         "y": [
          128,
          8
         ],
         "yaxis": "y6"
        },
        {
         "colorbar": {
          "title": {
           "text": "Objective Value"
          }
         },
         "colorscale": [
          [
           0,
           "rgb(5,10,172)"
          ],
          [
           0.35,
           "rgb(40,60,190)"
          ],
          [
           0.5,
           "rgb(70,100,245)"
          ],
          [
           0.6,
           "rgb(90,120,245)"
          ],
          [
           0.7,
           "rgb(106,137,247)"
          ],
          [
           1,
           "rgb(220,220,220)"
          ]
         ],
         "connectgaps": true,
         "contours": {
          "coloring": "heatmap"
         },
         "hoverinfo": "none",
         "line": {
          "smoothing": 1.3
         },
         "reversescale": true,
         "showscale": false,
         "type": "contour",
         "x": [
          48.7,
          51,
          97,
          99.3
         ],
         "xaxis": "x13",
         "y": [
          0.19226498850113224,
          0.20482346427425893,
          0.2568743385059912,
          0.45599297973679265,
          0.46855145550991933
         ],
         "yaxis": "y13",
         "z": [
          [
           null,
           null,
           null,
           null
          ],
          [
           null,
           null,
           null,
           null
          ],
          [
           null,
           null,
           1.1375892162322998,
           null
          ],
          [
           null,
           0.32484307885169983,
           null,
           null
          ],
          [
           null,
           null,
           null,
           null
          ]
         ]
        },
        {
         "marker": {
          "color": "black",
          "line": {
           "color": "Grey",
           "width": 0.5
          }
         },
         "mode": "markers",
         "showlegend": false,
         "type": "scatter",
         "x": [
          97,
          51
         ],
         "xaxis": "x13",
         "y": [
          0.2568743385059912,
          0.45599297973679265
         ],
         "yaxis": "y13"
        },
        {
         "colorbar": {
          "title": {
           "text": "Objective Value"
          }
         },
         "colorscale": [
          [
           0,
           "rgb(5,10,172)"
          ],
          [
           0.35,
           "rgb(40,60,190)"
          ],
          [
           0.5,
           "rgb(70,100,245)"
          ],
          [
           0.6,
           "rgb(90,120,245)"
          ],
          [
           0.7,
           "rgb(106,137,247)"
          ],
          [
           1,
           "rgb(220,220,220)"
          ]
         ],
         "connectgaps": true,
         "contours": {
          "coloring": "heatmap"
         },
         "hoverinfo": "none",
         "line": {
          "smoothing": 1.3
         },
         "reversescale": true,
         "showscale": false,
         "type": "contour",
         "x": [
          48.7,
          51,
          97,
          99.3
         ],
         "xaxis": "x20",
         "y": [
          1.5066702283983606e-05,
          2.2555860239198034e-05,
          7.346300588244607e-05,
          0.07212455701669214,
          0.1079752819973055
         ],
         "yaxis": "y20",
         "z": [
          [
           null,
           null,
           null,
           null
          ],
          [
           null,
           null,
           null,
           null
          ],
          [
           null,
           0.32484307885169983,
           null,
           null
          ],
          [
           null,
           null,
           1.1375892162322998,
           null
          ],
          [
           null,
           null,
           null,
           null
          ]
         ]
        },
        {
         "marker": {
          "color": "black",
          "line": {
           "color": "Grey",
           "width": 0.5
          }
         },
         "mode": "markers",
         "showlegend": false,
         "type": "scatter",
         "x": [
          97,
          51
         ],
         "xaxis": "x20",
         "y": [
          0.07212455701669214,
          7.346300588244607e-05
         ],
         "yaxis": "y20"
        },
        {
         "colorbar": {
          "title": {
           "text": "Objective Value"
          }
         },
         "colorscale": [
          [
           0,
           "rgb(5,10,172)"
          ],
          [
           0.35,
           "rgb(40,60,190)"
          ],
          [
           0.5,
           "rgb(70,100,245)"
          ],
          [
           0.6,
           "rgb(90,120,245)"
          ],
          [
           0.7,
           "rgb(106,137,247)"
          ],
          [
           1,
           "rgb(220,220,220)"
          ]
         ],
         "connectgaps": true,
         "contours": {
          "coloring": "heatmap"
         },
         "hoverinfo": "none",
         "line": {
          "smoothing": 1.3
         },
         "reversescale": true,
         "showscale": false,
         "type": "contour",
         "x": [
          48.7,
          51,
          97,
          99.3
         ],
         "xaxis": "x27",
         "y": [
          0.95,
          1,
          2,
          2.05
         ],
         "yaxis": "y27",
         "z": [
          [
           null,
           null,
           null,
           null
          ],
          [
           null,
           null,
           null,
           null
          ],
          [
           null,
           0.32484307885169983,
           1.1375892162322998,
           null
          ],
          [
           null,
           null,
           null,
           null
          ]
         ]
        },
        {
         "marker": {
          "color": "black",
          "line": {
           "color": "Grey",
           "width": 0.5
          }
         },
         "mode": "markers",
         "showlegend": false,
         "type": "scatter",
         "x": [
          97,
          51
         ],
         "xaxis": "x27",
         "y": [
          2,
          2
         ],
         "yaxis": "y27"
        },
        {
         "colorbar": {
          "title": {
           "text": "Objective Value"
          }
         },
         "colorscale": [
          [
           0,
           "rgb(5,10,172)"
          ],
          [
           0.35,
           "rgb(40,60,190)"
          ],
          [
           0.5,
           "rgb(70,100,245)"
          ],
          [
           0.6,
           "rgb(90,120,245)"
          ],
          [
           0.7,
           "rgb(106,137,247)"
          ],
          [
           1,
           "rgb(220,220,220)"
          ]
         ],
         "connectgaps": true,
         "contours": {
          "coloring": "heatmap"
         },
         "hoverinfo": "none",
         "line": {
          "smoothing": 1.3
         },
         "reversescale": true,
         "showscale": false,
         "type": "contour",
         "x": [
          48.7,
          51,
          97,
          99.3
         ],
         "xaxis": "x34",
         "y": [
          10.8,
          14,
          30,
          78,
          81.2
         ],
         "yaxis": "y34",
         "z": [
          [
           null,
           null,
           null,
           null
          ],
          [
           null,
           0.32484307885169983,
           null,
           null
          ],
          [
           null,
           null,
           null,
           null
          ],
          [
           null,
           null,
           1.1375892162322998,
           null
          ],
          [
           null,
           null,
           null,
           null
          ]
         ]
        },
        {
         "marker": {
          "color": "black",
          "line": {
           "color": "Grey",
           "width": 0.5
          }
         },
         "mode": "markers",
         "showlegend": false,
         "type": "scatter",
         "x": [
          97,
          51
         ],
         "xaxis": "x34",
         "y": [
          78,
          14
         ],
         "yaxis": "y34"
        },
        {
         "type": "scatter",
         "xaxis": "x41",
         "yaxis": "y41"
        },
        {
         "colorbar": {
          "title": {
           "text": "Objective Value"
          }
         },
         "colorscale": [
          [
           0,
           "rgb(5,10,172)"
          ],
          [
           0.35,
           "rgb(40,60,190)"
          ],
          [
           0.5,
           "rgb(70,100,245)"
          ],
          [
           0.6,
           "rgb(90,120,245)"
          ],
          [
           0.7,
           "rgb(106,137,247)"
          ],
          [
           1,
           "rgb(220,220,220)"
          ]
         ],
         "connectgaps": true,
         "contours": {
          "coloring": "heatmap"
         },
         "hoverinfo": "none",
         "line": {
          "smoothing": 1.3
         },
         "reversescale": true,
         "showscale": false,
         "type": "contour",
         "x": [
          48.7,
          51,
          97,
          99.3
         ],
         "xaxis": "x48",
         "y": [
          "Adam",
          "RMSprop",
          "SGD"
         ],
         "yaxis": "y48",
         "z": [
          [
           null,
           0.32484307885169983,
           null,
           null
          ],
          [
           null,
           null,
           null,
           null
          ],
          [
           null,
           null,
           1.1375892162322998,
           null
          ]
         ]
        },
        {
         "marker": {
          "color": "black",
          "line": {
           "color": "Grey",
           "width": 0.5
          }
         },
         "mode": "markers",
         "showlegend": false,
         "type": "scatter",
         "x": [
          97,
          51
         ],
         "xaxis": "x48",
         "y": [
          "SGD",
          "Adam"
         ],
         "yaxis": "y48"
        },
        {
         "colorbar": {
          "title": {
           "text": "Objective Value"
          }
         },
         "colorscale": [
          [
           0,
           "rgb(5,10,172)"
          ],
          [
           0.35,
           "rgb(40,60,190)"
          ],
          [
           0.5,
           "rgb(70,100,245)"
          ],
          [
           0.6,
           "rgb(90,120,245)"
          ],
          [
           0.7,
           "rgb(106,137,247)"
          ],
          [
           1,
           "rgb(220,220,220)"
          ]
         ],
         "connectgaps": true,
         "contours": {
          "coloring": "heatmap"
         },
         "hoverinfo": "none",
         "line": {
          "smoothing": 1.3
         },
         "reversescale": true,
         "showscale": false,
         "type": "contour",
         "x": [
          "Adam",
          "RMSprop",
          "SGD"
         ],
         "xaxis": "x7",
         "y": [
          2,
          8,
          64,
          128,
          134
         ],
         "yaxis": "y7",
         "z": [
          [
           null,
           null,
           null
          ],
          [
           0.32484307885169983,
           null,
           null
          ],
          [
           null,
           0.12034701555967331,
           null
          ],
          [
           null,
           null,
           1.1375892162322998
          ],
          [
           null,
           null,
           null
          ]
         ]
        },
        {
         "marker": {
          "color": "black",
          "line": {
           "color": "Grey",
           "width": 0.5
          }
         },
         "mode": "markers",
         "showlegend": false,
         "type": "scatter",
         "x": [
          "SGD",
          "RMSprop",
          "Adam"
         ],
         "xaxis": "x7",
         "y": [
          128,
          64,
          8
         ],
         "yaxis": "y7"
        },
        {
         "colorbar": {
          "title": {
           "text": "Objective Value"
          }
         },
         "colorscale": [
          [
           0,
           "rgb(5,10,172)"
          ],
          [
           0.35,
           "rgb(40,60,190)"
          ],
          [
           0.5,
           "rgb(70,100,245)"
          ],
          [
           0.6,
           "rgb(90,120,245)"
          ],
          [
           0.7,
           "rgb(106,137,247)"
          ],
          [
           1,
           "rgb(220,220,220)"
          ]
         ],
         "connectgaps": true,
         "contours": {
          "coloring": "heatmap"
         },
         "hoverinfo": "none",
         "line": {
          "smoothing": 1.3
         },
         "reversescale": true,
         "showscale": false,
         "type": "contour",
         "x": [
          "Adam",
          "RMSprop",
          "SGD"
         ],
         "xaxis": "x14",
         "y": [
          0.19226498850113224,
          0.20482346427425893,
          0.2568743385059912,
          0.45599297973679265,
          0.46855145550991933
         ],
         "yaxis": "y14",
         "z": [
          [
           null,
           null,
           null
          ],
          [
           null,
           0.12034701555967331,
           null
          ],
          [
           null,
           null,
           1.1375892162322998
          ],
          [
           0.32484307885169983,
           null,
           null
          ],
          [
           null,
           null,
           null
          ]
         ]
        },
        {
         "marker": {
          "color": "black",
          "line": {
           "color": "Grey",
           "width": 0.5
          }
         },
         "mode": "markers",
         "showlegend": false,
         "type": "scatter",
         "x": [
          "SGD",
          "RMSprop",
          "Adam"
         ],
         "xaxis": "x14",
         "y": [
          0.2568743385059912,
          0.20482346427425893,
          0.45599297973679265
         ],
         "yaxis": "y14"
        },
        {
         "colorbar": {
          "title": {
           "text": "Objective Value"
          }
         },
         "colorscale": [
          [
           0,
           "rgb(5,10,172)"
          ],
          [
           0.35,
           "rgb(40,60,190)"
          ],
          [
           0.5,
           "rgb(70,100,245)"
          ],
          [
           0.6,
           "rgb(90,120,245)"
          ],
          [
           0.7,
           "rgb(106,137,247)"
          ],
          [
           1,
           "rgb(220,220,220)"
          ]
         ],
         "connectgaps": true,
         "contours": {
          "coloring": "heatmap"
         },
         "hoverinfo": "none",
         "line": {
          "smoothing": 1.3
         },
         "reversescale": true,
         "showscale": false,
         "type": "contour",
         "x": [
          "Adam",
          "RMSprop",
          "SGD"
         ],
         "xaxis": "x21",
         "y": [
          1.5066702283983606e-05,
          2.2555860239198034e-05,
          7.346300588244607e-05,
          0.07212455701669214,
          0.1079752819973055
         ],
         "yaxis": "y21",
         "z": [
          [
           null,
           null,
           null
          ],
          [
           null,
           0.12034701555967331,
           null
          ],
          [
           0.32484307885169983,
           null,
           null
          ],
          [
           null,
           null,
           1.1375892162322998
          ],
          [
           null,
           null,
           null
          ]
         ]
        },
        {
         "marker": {
          "color": "black",
          "line": {
           "color": "Grey",
           "width": 0.5
          }
         },
         "mode": "markers",
         "showlegend": false,
         "type": "scatter",
         "x": [
          "SGD",
          "RMSprop",
          "Adam"
         ],
         "xaxis": "x21",
         "y": [
          0.07212455701669214,
          2.2555860239198034e-05,
          7.346300588244607e-05
         ],
         "yaxis": "y21"
        },
        {
         "colorbar": {
          "title": {
           "text": "Objective Value"
          }
         },
         "colorscale": [
          [
           0,
           "rgb(5,10,172)"
          ],
          [
           0.35,
           "rgb(40,60,190)"
          ],
          [
           0.5,
           "rgb(70,100,245)"
          ],
          [
           0.6,
           "rgb(90,120,245)"
          ],
          [
           0.7,
           "rgb(106,137,247)"
          ],
          [
           1,
           "rgb(220,220,220)"
          ]
         ],
         "connectgaps": true,
         "contours": {
          "coloring": "heatmap"
         },
         "hoverinfo": "none",
         "line": {
          "smoothing": 1.3
         },
         "reversescale": true,
         "showscale": false,
         "type": "contour",
         "x": [
          "Adam",
          "RMSprop",
          "SGD"
         ],
         "xaxis": "x28",
         "y": [
          0.95,
          1,
          2,
          2.05
         ],
         "yaxis": "y28",
         "z": [
          [
           null,
           null,
           null
          ],
          [
           null,
           0.12034701555967331,
           null
          ],
          [
           0.32484307885169983,
           null,
           1.1375892162322998
          ],
          [
           null,
           null,
           null
          ]
         ]
        },
        {
         "marker": {
          "color": "black",
          "line": {
           "color": "Grey",
           "width": 0.5
          }
         },
         "mode": "markers",
         "showlegend": false,
         "type": "scatter",
         "x": [
          "SGD",
          "RMSprop",
          "Adam"
         ],
         "xaxis": "x28",
         "y": [
          2,
          1,
          2
         ],
         "yaxis": "y28"
        },
        {
         "colorbar": {
          "title": {
           "text": "Objective Value"
          }
         },
         "colorscale": [
          [
           0,
           "rgb(5,10,172)"
          ],
          [
           0.35,
           "rgb(40,60,190)"
          ],
          [
           0.5,
           "rgb(70,100,245)"
          ],
          [
           0.6,
           "rgb(90,120,245)"
          ],
          [
           0.7,
           "rgb(106,137,247)"
          ],
          [
           1,
           "rgb(220,220,220)"
          ]
         ],
         "connectgaps": true,
         "contours": {
          "coloring": "heatmap"
         },
         "hoverinfo": "none",
         "line": {
          "smoothing": 1.3
         },
         "reversescale": true,
         "showscale": false,
         "type": "contour",
         "x": [
          "Adam",
          "RMSprop",
          "SGD"
         ],
         "xaxis": "x35",
         "y": [
          10.8,
          14,
          30,
          78,
          81.2
         ],
         "yaxis": "y35",
         "z": [
          [
           null,
           null,
           null
          ],
          [
           0.32484307885169983,
           null,
           null
          ],
          [
           null,
           0.12034701555967331,
           null
          ],
          [
           null,
           null,
           1.1375892162322998
          ],
          [
           null,
           null,
           null
          ]
         ]
        },
        {
         "marker": {
          "color": "black",
          "line": {
           "color": "Grey",
           "width": 0.5
          }
         },
         "mode": "markers",
         "showlegend": false,
         "type": "scatter",
         "x": [
          "SGD",
          "RMSprop",
          "Adam"
         ],
         "xaxis": "x35",
         "y": [
          78,
          30,
          14
         ],
         "yaxis": "y35"
        },
        {
         "colorbar": {
          "title": {
           "text": "Objective Value"
          }
         },
         "colorscale": [
          [
           0,
           "rgb(5,10,172)"
          ],
          [
           0.35,
           "rgb(40,60,190)"
          ],
          [
           0.5,
           "rgb(70,100,245)"
          ],
          [
           0.6,
           "rgb(90,120,245)"
          ],
          [
           0.7,
           "rgb(106,137,247)"
          ],
          [
           1,
           "rgb(220,220,220)"
          ]
         ],
         "connectgaps": true,
         "contours": {
          "coloring": "heatmap"
         },
         "hoverinfo": "none",
         "line": {
          "smoothing": 1.3
         },
         "reversescale": true,
         "showscale": false,
         "type": "contour",
         "x": [
          "Adam",
          "RMSprop",
          "SGD"
         ],
         "xaxis": "x42",
         "y": [
          48.7,
          51,
          97,
          99.3
         ],
         "yaxis": "y42",
         "z": [
          [
           null,
           null,
           null
          ],
          [
           0.32484307885169983,
           null,
           null
          ],
          [
           null,
           null,
           1.1375892162322998
          ],
          [
           null,
           null,
           null
          ]
         ]
        },
        {
         "marker": {
          "color": "black",
          "line": {
           "color": "Grey",
           "width": 0.5
          }
         },
         "mode": "markers",
         "showlegend": false,
         "type": "scatter",
         "x": [
          "SGD",
          "Adam"
         ],
         "xaxis": "x42",
         "y": [
          97,
          51
         ],
         "yaxis": "y42"
        },
        {
         "type": "scatter",
         "xaxis": "x49",
         "yaxis": "y49"
        }
       ],
       "layout": {
        "template": {
         "data": {
          "bar": [
           {
            "error_x": {
             "color": "#2a3f5f"
            },
            "error_y": {
             "color": "#2a3f5f"
            },
            "marker": {
             "line": {
              "color": "#E5ECF6",
              "width": 0.5
             },
             "pattern": {
              "fillmode": "overlay",
              "size": 10,
              "solidity": 0.2
             }
            },
            "type": "bar"
           }
          ],
          "barpolar": [
           {
            "marker": {
             "line": {
              "color": "#E5ECF6",
              "width": 0.5
             },
             "pattern": {
              "fillmode": "overlay",
              "size": 10,
              "solidity": 0.2
             }
            },
            "type": "barpolar"
           }
          ],
          "carpet": [
           {
            "aaxis": {
             "endlinecolor": "#2a3f5f",
             "gridcolor": "white",
             "linecolor": "white",
             "minorgridcolor": "white",
             "startlinecolor": "#2a3f5f"
            },
            "baxis": {
             "endlinecolor": "#2a3f5f",
             "gridcolor": "white",
             "linecolor": "white",
             "minorgridcolor": "white",
             "startlinecolor": "#2a3f5f"
            },
            "type": "carpet"
           }
          ],
          "choropleth": [
           {
            "colorbar": {
             "outlinewidth": 0,
             "ticks": ""
            },
            "type": "choropleth"
           }
          ],
          "contour": [
           {
            "colorbar": {
             "outlinewidth": 0,
             "ticks": ""
            },
            "colorscale": [
             [
              0,
              "#0d0887"
             ],
             [
              0.1111111111111111,
              "#46039f"
             ],
             [
              0.2222222222222222,
              "#7201a8"
             ],
             [
              0.3333333333333333,
              "#9c179e"
             ],
             [
              0.4444444444444444,
              "#bd3786"
             ],
             [
              0.5555555555555556,
              "#d8576b"
             ],
             [
              0.6666666666666666,
              "#ed7953"
             ],
             [
              0.7777777777777778,
              "#fb9f3a"
             ],
             [
              0.8888888888888888,
              "#fdca26"
             ],
             [
              1,
              "#f0f921"
             ]
            ],
            "type": "contour"
           }
          ],
          "contourcarpet": [
           {
            "colorbar": {
             "outlinewidth": 0,
             "ticks": ""
            },
            "type": "contourcarpet"
           }
          ],
          "heatmap": [
           {
            "colorbar": {
             "outlinewidth": 0,
             "ticks": ""
            },
            "colorscale": [
             [
              0,
              "#0d0887"
             ],
             [
              0.1111111111111111,
              "#46039f"
             ],
             [
              0.2222222222222222,
              "#7201a8"
             ],
             [
              0.3333333333333333,
              "#9c179e"
             ],
             [
              0.4444444444444444,
              "#bd3786"
             ],
             [
              0.5555555555555556,
              "#d8576b"
             ],
             [
              0.6666666666666666,
              "#ed7953"
             ],
             [
              0.7777777777777778,
              "#fb9f3a"
             ],
             [
              0.8888888888888888,
              "#fdca26"
             ],
             [
              1,
              "#f0f921"
             ]
            ],
            "type": "heatmap"
           }
          ],
          "heatmapgl": [
           {
            "colorbar": {
             "outlinewidth": 0,
             "ticks": ""
            },
            "colorscale": [
             [
              0,
              "#0d0887"
             ],
             [
              0.1111111111111111,
              "#46039f"
             ],
             [
              0.2222222222222222,
              "#7201a8"
             ],
             [
              0.3333333333333333,
              "#9c179e"
             ],
             [
              0.4444444444444444,
              "#bd3786"
             ],
             [
              0.5555555555555556,
              "#d8576b"
             ],
             [
              0.6666666666666666,
              "#ed7953"
             ],
             [
              0.7777777777777778,
              "#fb9f3a"
             ],
             [
              0.8888888888888888,
              "#fdca26"
             ],
             [
              1,
              "#f0f921"
             ]
            ],
            "type": "heatmapgl"
           }
          ],
          "histogram": [
           {
            "marker": {
             "pattern": {
              "fillmode": "overlay",
              "size": 10,
              "solidity": 0.2
             }
            },
            "type": "histogram"
           }
          ],
          "histogram2d": [
           {
            "colorbar": {
             "outlinewidth": 0,
             "ticks": ""
            },
            "colorscale": [
             [
              0,
              "#0d0887"
             ],
             [
              0.1111111111111111,
              "#46039f"
             ],
             [
              0.2222222222222222,
              "#7201a8"
             ],
             [
              0.3333333333333333,
              "#9c179e"
             ],
             [
              0.4444444444444444,
              "#bd3786"
             ],
             [
              0.5555555555555556,
              "#d8576b"
             ],
             [
              0.6666666666666666,
              "#ed7953"
             ],
             [
              0.7777777777777778,
              "#fb9f3a"
             ],
             [
              0.8888888888888888,
              "#fdca26"
             ],
             [
              1,
              "#f0f921"
             ]
            ],
            "type": "histogram2d"
           }
          ],
          "histogram2dcontour": [
           {
            "colorbar": {
             "outlinewidth": 0,
             "ticks": ""
            },
            "colorscale": [
             [
              0,
              "#0d0887"
             ],
             [
              0.1111111111111111,
              "#46039f"
             ],
             [
              0.2222222222222222,
              "#7201a8"
             ],
             [
              0.3333333333333333,
              "#9c179e"
             ],
             [
              0.4444444444444444,
              "#bd3786"
             ],
             [
              0.5555555555555556,
              "#d8576b"
             ],
             [
              0.6666666666666666,
              "#ed7953"
             ],
             [
              0.7777777777777778,
              "#fb9f3a"
             ],
             [
              0.8888888888888888,
              "#fdca26"
             ],
             [
              1,
              "#f0f921"
             ]
            ],
            "type": "histogram2dcontour"
           }
          ],
          "mesh3d": [
           {
            "colorbar": {
             "outlinewidth": 0,
             "ticks": ""
            },
            "type": "mesh3d"
           }
          ],
          "parcoords": [
           {
            "line": {
             "colorbar": {
              "outlinewidth": 0,
              "ticks": ""
             }
            },
            "type": "parcoords"
           }
          ],
          "pie": [
           {
            "automargin": true,
            "type": "pie"
           }
          ],
          "scatter": [
           {
            "fillpattern": {
             "fillmode": "overlay",
             "size": 10,
             "solidity": 0.2
            },
            "type": "scatter"
           }
          ],
          "scatter3d": [
           {
            "line": {
             "colorbar": {
              "outlinewidth": 0,
              "ticks": ""
             }
            },
            "marker": {
             "colorbar": {
              "outlinewidth": 0,
              "ticks": ""
             }
            },
            "type": "scatter3d"
           }
          ],
          "scattercarpet": [
           {
            "marker": {
             "colorbar": {
              "outlinewidth": 0,
              "ticks": ""
             }
            },
            "type": "scattercarpet"
           }
          ],
          "scattergeo": [
           {
            "marker": {
             "colorbar": {
              "outlinewidth": 0,
              "ticks": ""
             }
            },
            "type": "scattergeo"
           }
          ],
          "scattergl": [
           {
            "marker": {
             "colorbar": {
              "outlinewidth": 0,
              "ticks": ""
             }
            },
            "type": "scattergl"
           }
          ],
          "scattermapbox": [
           {
            "marker": {
             "colorbar": {
              "outlinewidth": 0,
              "ticks": ""
             }
            },
            "type": "scattermapbox"
           }
          ],
          "scatterpolar": [
           {
            "marker": {
             "colorbar": {
              "outlinewidth": 0,
              "ticks": ""
             }
            },
            "type": "scatterpolar"
           }
          ],
          "scatterpolargl": [
           {
            "marker": {
             "colorbar": {
              "outlinewidth": 0,
              "ticks": ""
             }
            },
            "type": "scatterpolargl"
           }
          ],
          "scatterternary": [
           {
            "marker": {
             "colorbar": {
              "outlinewidth": 0,
              "ticks": ""
             }
            },
            "type": "scatterternary"
           }
          ],
          "surface": [
           {
            "colorbar": {
             "outlinewidth": 0,
             "ticks": ""
            },
            "colorscale": [
             [
              0,
              "#0d0887"
             ],
             [
              0.1111111111111111,
              "#46039f"
             ],
             [
              0.2222222222222222,
              "#7201a8"
             ],
             [
              0.3333333333333333,
              "#9c179e"
             ],
             [
              0.4444444444444444,
              "#bd3786"
             ],
             [
              0.5555555555555556,
              "#d8576b"
             ],
             [
              0.6666666666666666,
              "#ed7953"
             ],
             [
              0.7777777777777778,
              "#fb9f3a"
             ],
             [
              0.8888888888888888,
              "#fdca26"
             ],
             [
              1,
              "#f0f921"
             ]
            ],
            "type": "surface"
           }
          ],
          "table": [
           {
            "cells": {
             "fill": {
              "color": "#EBF0F8"
             },
             "line": {
              "color": "white"
             }
            },
            "header": {
             "fill": {
              "color": "#C8D4E3"
             },
             "line": {
              "color": "white"
             }
            },
            "type": "table"
           }
          ]
         },
         "layout": {
          "annotationdefaults": {
           "arrowcolor": "#2a3f5f",
           "arrowhead": 0,
           "arrowwidth": 1
          },
          "autotypenumbers": "strict",
          "coloraxis": {
           "colorbar": {
            "outlinewidth": 0,
            "ticks": ""
           }
          },
          "colorscale": {
           "diverging": [
            [
             0,
             "#8e0152"
            ],
            [
             0.1,
             "#c51b7d"
            ],
            [
             0.2,
             "#de77ae"
            ],
            [
             0.3,
             "#f1b6da"
            ],
            [
             0.4,
             "#fde0ef"
            ],
            [
             0.5,
             "#f7f7f7"
            ],
            [
             0.6,
             "#e6f5d0"
            ],
            [
             0.7,
             "#b8e186"
            ],
            [
             0.8,
             "#7fbc41"
            ],
            [
             0.9,
             "#4d9221"
            ],
            [
             1,
             "#276419"
            ]
           ],
           "sequential": [
            [
             0,
             "#0d0887"
            ],
            [
             0.1111111111111111,
             "#46039f"
            ],
            [
             0.2222222222222222,
             "#7201a8"
            ],
            [
             0.3333333333333333,
             "#9c179e"
            ],
            [
             0.4444444444444444,
             "#bd3786"
            ],
            [
             0.5555555555555556,
             "#d8576b"
            ],
            [
             0.6666666666666666,
             "#ed7953"
            ],
            [
             0.7777777777777778,
             "#fb9f3a"
            ],
            [
             0.8888888888888888,
             "#fdca26"
            ],
            [
             1,
             "#f0f921"
            ]
           ],
           "sequentialminus": [
            [
             0,
             "#0d0887"
            ],
            [
             0.1111111111111111,
             "#46039f"
            ],
            [
             0.2222222222222222,
             "#7201a8"
            ],
            [
             0.3333333333333333,
             "#9c179e"
            ],
            [
             0.4444444444444444,
             "#bd3786"
            ],
            [
             0.5555555555555556,
             "#d8576b"
            ],
            [
             0.6666666666666666,
             "#ed7953"
            ],
            [
             0.7777777777777778,
             "#fb9f3a"
            ],
            [
             0.8888888888888888,
             "#fdca26"
            ],
            [
             1,
             "#f0f921"
            ]
           ]
          },
          "colorway": [
           "#636efa",
           "#EF553B",
           "#00cc96",
           "#ab63fa",
           "#FFA15A",
           "#19d3f3",
           "#FF6692",
           "#B6E880",
           "#FF97FF",
           "#FECB52"
          ],
          "font": {
           "color": "#2a3f5f"
          },
          "geo": {
           "bgcolor": "white",
           "lakecolor": "white",
           "landcolor": "#E5ECF6",
           "showlakes": true,
           "showland": true,
           "subunitcolor": "white"
          },
          "hoverlabel": {
           "align": "left"
          },
          "hovermode": "closest",
          "mapbox": {
           "style": "light"
          },
          "paper_bgcolor": "white",
          "plot_bgcolor": "#E5ECF6",
          "polar": {
           "angularaxis": {
            "gridcolor": "white",
            "linecolor": "white",
            "ticks": ""
           },
           "bgcolor": "#E5ECF6",
           "radialaxis": {
            "gridcolor": "white",
            "linecolor": "white",
            "ticks": ""
           }
          },
          "scene": {
           "xaxis": {
            "backgroundcolor": "#E5ECF6",
            "gridcolor": "white",
            "gridwidth": 2,
            "linecolor": "white",
            "showbackground": true,
            "ticks": "",
            "zerolinecolor": "white"
           },
           "yaxis": {
            "backgroundcolor": "#E5ECF6",
            "gridcolor": "white",
            "gridwidth": 2,
            "linecolor": "white",
            "showbackground": true,
            "ticks": "",
            "zerolinecolor": "white"
           },
           "zaxis": {
            "backgroundcolor": "#E5ECF6",
            "gridcolor": "white",
            "gridwidth": 2,
            "linecolor": "white",
            "showbackground": true,
            "ticks": "",
            "zerolinecolor": "white"
           }
          },
          "shapedefaults": {
           "line": {
            "color": "#2a3f5f"
           }
          },
          "ternary": {
           "aaxis": {
            "gridcolor": "white",
            "linecolor": "white",
            "ticks": ""
           },
           "baxis": {
            "gridcolor": "white",
            "linecolor": "white",
            "ticks": ""
           },
           "bgcolor": "#E5ECF6",
           "caxis": {
            "gridcolor": "white",
            "linecolor": "white",
            "ticks": ""
           }
          },
          "title": {
           "x": 0.05
          },
          "xaxis": {
           "automargin": true,
           "gridcolor": "white",
           "linecolor": "white",
           "ticks": "",
           "title": {
            "standoff": 15
           },
           "zerolinecolor": "white",
           "zerolinewidth": 2
          },
          "yaxis": {
           "automargin": true,
           "gridcolor": "white",
           "linecolor": "white",
           "ticks": "",
           "title": {
            "standoff": 15
           },
           "zerolinecolor": "white",
           "zerolinewidth": 2
          }
         }
        },
        "title": {
         "text": "Contour Plot"
        },
        "xaxis": {
         "anchor": "y",
         "domain": [
          0,
          0.1183673469387755
         ],
         "matches": "x43",
         "range": [
          2,
          134
         ],
         "showticklabels": false
        },
        "xaxis10": {
         "anchor": "y10",
         "domain": [
          0.29387755102040813,
          0.4122448979591836
         ],
         "matches": "x45",
         "range": [
          -4.821981793245498,
          -0.9666756530390769
         ],
         "showticklabels": false,
         "type": "log"
        },
        "xaxis11": {
         "anchor": "y11",
         "domain": [
          0.4408163265306122,
          0.5591836734693877
         ],
         "matches": "x46",
         "range": [
          0.95,
          2.05
         ],
         "showticklabels": false
        },
        "xaxis12": {
         "anchor": "y12",
         "domain": [
          0.5877551020408163,
          0.7061224489795918
         ],
         "matches": "x47",
         "range": [
          10.8,
          81.2
         ],
         "showticklabels": false
        },
        "xaxis13": {
         "anchor": "y13",
         "domain": [
          0.7346938775510204,
          0.8530612244897959
         ],
         "matches": "x48",
         "range": [
          48.7,
          99.3
         ],
         "showticklabels": false
        },
        "xaxis14": {
         "anchor": "y14",
         "domain": [
          0.8816326530612244,
          0.9999999999999999
         ],
         "matches": "x49",
         "range": [
          -0.1,
          2.1
         ],
         "showticklabels": false,
         "type": "category"
        },
        "xaxis15": {
         "anchor": "y15",
         "domain": [
          0,
          0.1183673469387755
         ],
         "matches": "x43",
         "range": [
          2,
          134
         ],
         "showticklabels": false
        },
        "xaxis16": {
         "anchor": "y16",
         "domain": [
          0.14693877551020407,
          0.26530612244897955
         ],
         "matches": "x44",
         "range": [
          0.19226498850113224,
          0.46855145550991933
         ],
         "showticklabels": false
        },
        "xaxis17": {
         "anchor": "y17",
         "domain": [
          0.29387755102040813,
          0.4122448979591836
         ],
         "matches": "x45",
         "range": [
          -4.821981793245498,
          -0.9666756530390769
         ],
         "showticklabels": false,
         "type": "log"
        },
        "xaxis18": {
         "anchor": "y18",
         "domain": [
          0.4408163265306122,
          0.5591836734693877
         ],
         "matches": "x46",
         "range": [
          0.95,
          2.05
         ],
         "showticklabels": false
        },
        "xaxis19": {
         "anchor": "y19",
         "domain": [
          0.5877551020408163,
          0.7061224489795918
         ],
         "matches": "x47",
         "range": [
          10.8,
          81.2
         ],
         "showticklabels": false
        },
        "xaxis2": {
         "anchor": "y2",
         "domain": [
          0.14693877551020407,
          0.26530612244897955
         ],
         "matches": "x44",
         "range": [
          0.19226498850113224,
          0.46855145550991933
         ],
         "showticklabels": false
        },
        "xaxis20": {
         "anchor": "y20",
         "domain": [
          0.7346938775510204,
          0.8530612244897959
         ],
         "matches": "x48",
         "range": [
          48.7,
          99.3
         ],
         "showticklabels": false
        },
        "xaxis21": {
         "anchor": "y21",
         "domain": [
          0.8816326530612244,
          0.9999999999999999
         ],
         "matches": "x49",
         "range": [
          -0.1,
          2.1
         ],
         "showticklabels": false,
         "type": "category"
        },
        "xaxis22": {
         "anchor": "y22",
         "domain": [
          0,
          0.1183673469387755
         ],
         "matches": "x43",
         "range": [
          2,
          134
         ],
         "showticklabels": false
        },
        "xaxis23": {
         "anchor": "y23",
         "domain": [
          0.14693877551020407,
          0.26530612244897955
         ],
         "matches": "x44",
         "range": [
          0.19226498850113224,
          0.46855145550991933
         ],
         "showticklabels": false
        },
        "xaxis24": {
         "anchor": "y24",
         "domain": [
          0.29387755102040813,
          0.4122448979591836
         ],
         "matches": "x45",
         "range": [
          -4.821981793245498,
          -0.9666756530390769
         ],
         "showticklabels": false,
         "type": "log"
        },
        "xaxis25": {
         "anchor": "y25",
         "domain": [
          0.4408163265306122,
          0.5591836734693877
         ],
         "matches": "x46",
         "range": [
          0.95,
          2.05
         ],
         "showticklabels": false
        },
        "xaxis26": {
         "anchor": "y26",
         "domain": [
          0.5877551020408163,
          0.7061224489795918
         ],
         "matches": "x47",
         "range": [
          10.8,
          81.2
         ],
         "showticklabels": false
        },
        "xaxis27": {
         "anchor": "y27",
         "domain": [
          0.7346938775510204,
          0.8530612244897959
         ],
         "matches": "x48",
         "range": [
          48.7,
          99.3
         ],
         "showticklabels": false
        },
        "xaxis28": {
         "anchor": "y28",
         "domain": [
          0.8816326530612244,
          0.9999999999999999
         ],
         "matches": "x49",
         "range": [
          -0.1,
          2.1
         ],
         "showticklabels": false,
         "type": "category"
        },
        "xaxis29": {
         "anchor": "y29",
         "domain": [
          0,
          0.1183673469387755
         ],
         "matches": "x43",
         "range": [
          2,
          134
         ],
         "showticklabels": false
        },
        "xaxis3": {
         "anchor": "y3",
         "domain": [
          0.29387755102040813,
          0.4122448979591836
         ],
         "matches": "x45",
         "range": [
          -4.821981793245498,
          -0.9666756530390769
         ],
         "showticklabels": false,
         "type": "log"
        },
        "xaxis30": {
         "anchor": "y30",
         "domain": [
          0.14693877551020407,
          0.26530612244897955
         ],
         "matches": "x44",
         "range": [
          0.19226498850113224,
          0.46855145550991933
         ],
         "showticklabels": false
        },
        "xaxis31": {
         "anchor": "y31",
         "domain": [
          0.29387755102040813,
          0.4122448979591836
         ],
         "matches": "x45",
         "range": [
          -4.821981793245498,
          -0.9666756530390769
         ],
         "showticklabels": false,
         "type": "log"
        },
        "xaxis32": {
         "anchor": "y32",
         "domain": [
          0.4408163265306122,
          0.5591836734693877
         ],
         "matches": "x46",
         "range": [
          0.95,
          2.05
         ],
         "showticklabels": false
        },
        "xaxis33": {
         "anchor": "y33",
         "domain": [
          0.5877551020408163,
          0.7061224489795918
         ],
         "matches": "x47",
         "range": [
          10.8,
          81.2
         ],
         "showticklabels": false
        },
        "xaxis34": {
         "anchor": "y34",
         "domain": [
          0.7346938775510204,
          0.8530612244897959
         ],
         "matches": "x48",
         "range": [
          48.7,
          99.3
         ],
         "showticklabels": false
        },
        "xaxis35": {
         "anchor": "y35",
         "domain": [
          0.8816326530612244,
          0.9999999999999999
         ],
         "matches": "x49",
         "range": [
          -0.1,
          2.1
         ],
         "showticklabels": false,
         "type": "category"
        },
        "xaxis36": {
         "anchor": "y36",
         "domain": [
          0,
          0.1183673469387755
         ],
         "matches": "x43",
         "range": [
          2,
          134
         ],
         "showticklabels": false
        },
        "xaxis37": {
         "anchor": "y37",
         "domain": [
          0.14693877551020407,
          0.26530612244897955
         ],
         "matches": "x44",
         "range": [
          0.19226498850113224,
          0.46855145550991933
         ],
         "showticklabels": false
        },
        "xaxis38": {
         "anchor": "y38",
         "domain": [
          0.29387755102040813,
          0.4122448979591836
         ],
         "matches": "x45",
         "range": [
          -4.821981793245498,
          -0.9666756530390769
         ],
         "showticklabels": false,
         "type": "log"
        },
        "xaxis39": {
         "anchor": "y39",
         "domain": [
          0.4408163265306122,
          0.5591836734693877
         ],
         "matches": "x46",
         "range": [
          0.95,
          2.05
         ],
         "showticklabels": false
        },
        "xaxis4": {
         "anchor": "y4",
         "domain": [
          0.4408163265306122,
          0.5591836734693877
         ],
         "matches": "x46",
         "range": [
          0.95,
          2.05
         ],
         "showticklabels": false
        },
        "xaxis40": {
         "anchor": "y40",
         "domain": [
          0.5877551020408163,
          0.7061224489795918
         ],
         "matches": "x47",
         "range": [
          10.8,
          81.2
         ],
         "showticklabels": false
        },
        "xaxis41": {
         "anchor": "y41",
         "domain": [
          0.7346938775510204,
          0.8530612244897959
         ],
         "matches": "x48",
         "range": [
          48.7,
          99.3
         ],
         "showticklabels": false
        },
        "xaxis42": {
         "anchor": "y42",
         "domain": [
          0.8816326530612244,
          0.9999999999999999
         ],
         "matches": "x49",
         "range": [
          -0.1,
          2.1
         ],
         "showticklabels": false,
         "type": "category"
        },
        "xaxis43": {
         "anchor": "y43",
         "domain": [
          0,
          0.1183673469387755
         ],
         "range": [
          2,
          134
         ],
         "title": {
          "text": "batch_size"
         }
        },
        "xaxis44": {
         "anchor": "y44",
         "domain": [
          0.14693877551020407,
          0.26530612244897955
         ],
         "range": [
          0.19226498850113224,
          0.46855145550991933
         ],
         "title": {
          "text": "dropout"
         }
        },
        "xaxis45": {
         "anchor": "y45",
         "domain": [
          0.29387755102040813,
          0.4122448979591836
         ],
         "range": [
          -4.821981793245498,
          -0.9666756530390769
         ],
         "title": {
          "text": "learning_rate"
         },
         "type": "log"
        },
        "xaxis46": {
         "anchor": "y46",
         "domain": [
          0.4408163265306122,
          0.5591836734693877
         ],
         "range": [
          0.95,
          2.05
         ],
         "title": {
          "text": "n_layers"
         }
        },
        "xaxis47": {
         "anchor": "y47",
         "domain": [
          0.5877551020408163,
          0.7061224489795918
         ],
         "range": [
          10.8,
          81.2
         ],
         "title": {
          "text": "n_units_l0"
         }
        },
        "xaxis48": {
         "anchor": "y48",
         "domain": [
          0.7346938775510204,
          0.8530612244897959
         ],
         "range": [
          48.7,
          99.3
         ],
         "title": {
          "text": "n_units_l1"
         }
        },
        "xaxis49": {
         "anchor": "y49",
         "domain": [
          0.8816326530612244,
          0.9999999999999999
         ],
         "range": [
          -0.1,
          2.1
         ],
         "title": {
          "text": "optimizer"
         },
         "type": "category"
        },
        "xaxis5": {
         "anchor": "y5",
         "domain": [
          0.5877551020408163,
          0.7061224489795918
         ],
         "matches": "x47",
         "range": [
          10.8,
          81.2
         ],
         "showticklabels": false
        },
        "xaxis6": {
         "anchor": "y6",
         "domain": [
          0.7346938775510204,
          0.8530612244897959
         ],
         "matches": "x48",
         "range": [
          48.7,
          99.3
         ],
         "showticklabels": false
        },
        "xaxis7": {
         "anchor": "y7",
         "domain": [
          0.8816326530612244,
          0.9999999999999999
         ],
         "matches": "x49",
         "range": [
          -0.1,
          2.1
         ],
         "showticklabels": false,
         "type": "category"
        },
        "xaxis8": {
         "anchor": "y8",
         "domain": [
          0,
          0.1183673469387755
         ],
         "matches": "x43",
         "range": [
          2,
          134
         ],
         "showticklabels": false
        },
        "xaxis9": {
         "anchor": "y9",
         "domain": [
          0.14693877551020407,
          0.26530612244897955
         ],
         "matches": "x44",
         "range": [
          0.19226498850113224,
          0.46855145550991933
         ],
         "showticklabels": false
        },
        "yaxis": {
         "anchor": "x",
         "domain": [
          0.8938775510204082,
          1
         ],
         "range": [
          2,
          134
         ],
         "title": {
          "text": "batch_size"
         }
        },
        "yaxis10": {
         "anchor": "x10",
         "domain": [
          0.7448979591836735,
          0.8510204081632654
         ],
         "matches": "y8",
         "range": [
          0.19226498850113224,
          0.46855145550991933
         ],
         "showticklabels": false
        },
        "yaxis11": {
         "anchor": "x11",
         "domain": [
          0.7448979591836735,
          0.8510204081632654
         ],
         "matches": "y8",
         "range": [
          0.19226498850113224,
          0.46855145550991933
         ],
         "showticklabels": false
        },
        "yaxis12": {
         "anchor": "x12",
         "domain": [
          0.7448979591836735,
          0.8510204081632654
         ],
         "matches": "y8",
         "range": [
          0.19226498850113224,
          0.46855145550991933
         ],
         "showticklabels": false
        },
        "yaxis13": {
         "anchor": "x13",
         "domain": [
          0.7448979591836735,
          0.8510204081632654
         ],
         "matches": "y8",
         "range": [
          0.19226498850113224,
          0.46855145550991933
         ],
         "showticklabels": false
        },
        "yaxis14": {
         "anchor": "x14",
         "domain": [
          0.7448979591836735,
          0.8510204081632654
         ],
         "matches": "y8",
         "range": [
          0.19226498850113224,
          0.46855145550991933
         ],
         "showticklabels": false
        },
        "yaxis15": {
         "anchor": "x15",
         "domain": [
          0.5959183673469388,
          0.7020408163265307
         ],
         "range": [
          -4.821981793245498,
          -0.9666756530390769
         ],
         "title": {
          "text": "learning_rate"
         },
         "type": "log"
        },
        "yaxis16": {
         "anchor": "x16",
         "domain": [
          0.5959183673469388,
          0.7020408163265307
         ],
         "matches": "y15",
         "range": [
          -4.821981793245498,
          -0.9666756530390769
         ],
         "showticklabels": false,
         "type": "log"
        },
        "yaxis17": {
         "anchor": "x17",
         "domain": [
          0.5959183673469388,
          0.7020408163265307
         ],
         "matches": "y15",
         "range": [
          -4.821981793245498,
          -0.9666756530390769
         ],
         "showticklabels": false,
         "type": "log"
        },
        "yaxis18": {
         "anchor": "x18",
         "domain": [
          0.5959183673469388,
          0.7020408163265307
         ],
         "matches": "y15",
         "range": [
          -4.821981793245498,
          -0.9666756530390769
         ],
         "showticklabels": false,
         "type": "log"
        },
        "yaxis19": {
         "anchor": "x19",
         "domain": [
          0.5959183673469388,
          0.7020408163265307
         ],
         "matches": "y15",
         "range": [
          -4.821981793245498,
          -0.9666756530390769
         ],
         "showticklabels": false,
         "type": "log"
        },
        "yaxis2": {
         "anchor": "x2",
         "domain": [
          0.8938775510204082,
          1
         ],
         "matches": "y",
         "range": [
          2,
          134
         ],
         "showticklabels": false
        },
        "yaxis20": {
         "anchor": "x20",
         "domain": [
          0.5959183673469388,
          0.7020408163265307
         ],
         "matches": "y15",
         "range": [
          -4.821981793245498,
          -0.9666756530390769
         ],
         "showticklabels": false,
         "type": "log"
        },
        "yaxis21": {
         "anchor": "x21",
         "domain": [
          0.5959183673469388,
          0.7020408163265307
         ],
         "matches": "y15",
         "range": [
          -4.821981793245498,
          -0.9666756530390769
         ],
         "showticklabels": false,
         "type": "log"
        },
        "yaxis22": {
         "anchor": "x22",
         "domain": [
          0.4469387755102041,
          0.553061224489796
         ],
         "range": [
          0.95,
          2.05
         ],
         "title": {
          "text": "n_layers"
         }
        },
        "yaxis23": {
         "anchor": "x23",
         "domain": [
          0.4469387755102041,
          0.553061224489796
         ],
         "matches": "y22",
         "range": [
          0.95,
          2.05
         ],
         "showticklabels": false
        },
        "yaxis24": {
         "anchor": "x24",
         "domain": [
          0.4469387755102041,
          0.553061224489796
         ],
         "matches": "y22",
         "range": [
          0.95,
          2.05
         ],
         "showticklabels": false
        },
        "yaxis25": {
         "anchor": "x25",
         "domain": [
          0.4469387755102041,
          0.553061224489796
         ],
         "matches": "y22",
         "range": [
          0.95,
          2.05
         ],
         "showticklabels": false
        },
        "yaxis26": {
         "anchor": "x26",
         "domain": [
          0.4469387755102041,
          0.553061224489796
         ],
         "matches": "y22",
         "range": [
          0.95,
          2.05
         ],
         "showticklabels": false
        },
        "yaxis27": {
         "anchor": "x27",
         "domain": [
          0.4469387755102041,
          0.553061224489796
         ],
         "matches": "y22",
         "range": [
          0.95,
          2.05
         ],
         "showticklabels": false
        },
        "yaxis28": {
         "anchor": "x28",
         "domain": [
          0.4469387755102041,
          0.553061224489796
         ],
         "matches": "y22",
         "range": [
          0.95,
          2.05
         ],
         "showticklabels": false
        },
        "yaxis29": {
         "anchor": "x29",
         "domain": [
          0.2979591836734694,
          0.40408163265306124
         ],
         "range": [
          10.8,
          81.2
         ],
         "title": {
          "text": "n_units_l0"
         }
        },
        "yaxis3": {
         "anchor": "x3",
         "domain": [
          0.8938775510204082,
          1
         ],
         "matches": "y",
         "range": [
          2,
          134
         ],
         "showticklabels": false
        },
        "yaxis30": {
         "anchor": "x30",
         "domain": [
          0.2979591836734694,
          0.40408163265306124
         ],
         "matches": "y29",
         "range": [
          10.8,
          81.2
         ],
         "showticklabels": false
        },
        "yaxis31": {
         "anchor": "x31",
         "domain": [
          0.2979591836734694,
          0.40408163265306124
         ],
         "matches": "y29",
         "range": [
          10.8,
          81.2
         ],
         "showticklabels": false
        },
        "yaxis32": {
         "anchor": "x32",
         "domain": [
          0.2979591836734694,
          0.40408163265306124
         ],
         "matches": "y29",
         "range": [
          10.8,
          81.2
         ],
         "showticklabels": false
        },
        "yaxis33": {
         "anchor": "x33",
         "domain": [
          0.2979591836734694,
          0.40408163265306124
         ],
         "matches": "y29",
         "range": [
          10.8,
          81.2
         ],
         "showticklabels": false
        },
        "yaxis34": {
         "anchor": "x34",
         "domain": [
          0.2979591836734694,
          0.40408163265306124
         ],
         "matches": "y29",
         "range": [
          10.8,
          81.2
         ],
         "showticklabels": false
        },
        "yaxis35": {
         "anchor": "x35",
         "domain": [
          0.2979591836734694,
          0.40408163265306124
         ],
         "matches": "y29",
         "range": [
          10.8,
          81.2
         ],
         "showticklabels": false
        },
        "yaxis36": {
         "anchor": "x36",
         "domain": [
          0.1489795918367347,
          0.25510204081632654
         ],
         "range": [
          48.7,
          99.3
         ],
         "title": {
          "text": "n_units_l1"
         }
        },
        "yaxis37": {
         "anchor": "x37",
         "domain": [
          0.1489795918367347,
          0.25510204081632654
         ],
         "matches": "y36",
         "range": [
          48.7,
          99.3
         ],
         "showticklabels": false
        },
        "yaxis38": {
         "anchor": "x38",
         "domain": [
          0.1489795918367347,
          0.25510204081632654
         ],
         "matches": "y36",
         "range": [
          48.7,
          99.3
         ],
         "showticklabels": false
        },
        "yaxis39": {
         "anchor": "x39",
         "domain": [
          0.1489795918367347,
          0.25510204081632654
         ],
         "matches": "y36",
         "range": [
          48.7,
          99.3
         ],
         "showticklabels": false
        },
        "yaxis4": {
         "anchor": "x4",
         "domain": [
          0.8938775510204082,
          1
         ],
         "matches": "y",
         "range": [
          2,
          134
         ],
         "showticklabels": false
        },
        "yaxis40": {
         "anchor": "x40",
         "domain": [
          0.1489795918367347,
          0.25510204081632654
         ],
         "matches": "y36",
         "range": [
          48.7,
          99.3
         ],
         "showticklabels": false
        },
        "yaxis41": {
         "anchor": "x41",
         "domain": [
          0.1489795918367347,
          0.25510204081632654
         ],
         "matches": "y36",
         "range": [
          48.7,
          99.3
         ],
         "showticklabels": false
        },
        "yaxis42": {
         "anchor": "x42",
         "domain": [
          0.1489795918367347,
          0.25510204081632654
         ],
         "matches": "y36",
         "range": [
          48.7,
          99.3
         ],
         "showticklabels": false
        },
        "yaxis43": {
         "anchor": "x43",
         "domain": [
          0,
          0.10612244897959185
         ],
         "range": [
          -0.1,
          2.1
         ],
         "title": {
          "text": "optimizer"
         },
         "type": "category"
        },
        "yaxis44": {
         "anchor": "x44",
         "domain": [
          0,
          0.10612244897959185
         ],
         "matches": "y43",
         "range": [
          -0.1,
          2.1
         ],
         "showticklabels": false,
         "type": "category"
        },
        "yaxis45": {
         "anchor": "x45",
         "domain": [
          0,
          0.10612244897959185
         ],
         "matches": "y43",
         "range": [
          -0.1,
          2.1
         ],
         "showticklabels": false,
         "type": "category"
        },
        "yaxis46": {
         "anchor": "x46",
         "domain": [
          0,
          0.10612244897959185
         ],
         "matches": "y43",
         "range": [
          -0.1,
          2.1
         ],
         "showticklabels": false,
         "type": "category"
        },
        "yaxis47": {
         "anchor": "x47",
         "domain": [
          0,
          0.10612244897959185
         ],
         "matches": "y43",
         "range": [
          -0.1,
          2.1
         ],
         "showticklabels": false,
         "type": "category"
        },
        "yaxis48": {
         "anchor": "x48",
         "domain": [
          0,
          0.10612244897959185
         ],
         "matches": "y43",
         "range": [
          -0.1,
          2.1
         ],
         "showticklabels": false,
         "type": "category"
        },
        "yaxis49": {
         "anchor": "x49",
         "domain": [
          0,
          0.10612244897959185
         ],
         "matches": "y43",
         "range": [
          -0.1,
          2.1
         ],
         "showticklabels": false,
         "type": "category"
        },
        "yaxis5": {
         "anchor": "x5",
         "domain": [
          0.8938775510204082,
          1
         ],
         "matches": "y",
         "range": [
          2,
          134
         ],
         "showticklabels": false
        },
        "yaxis6": {
         "anchor": "x6",
         "domain": [
          0.8938775510204082,
          1
         ],
         "matches": "y",
         "range": [
          2,
          134
         ],
         "showticklabels": false
        },
        "yaxis7": {
         "anchor": "x7",
         "domain": [
          0.8938775510204082,
          1
         ],
         "matches": "y",
         "range": [
          2,
          134
         ],
         "showticklabels": false
        },
        "yaxis8": {
         "anchor": "x8",
         "domain": [
          0.7448979591836735,
          0.8510204081632654
         ],
         "range": [
          0.19226498850113224,
          0.46855145550991933
         ],
         "title": {
          "text": "dropout"
         }
        },
        "yaxis9": {
         "anchor": "x9",
         "domain": [
          0.7448979591836735,
          0.8510204081632654
         ],
         "matches": "y8",
         "range": [
          0.19226498850113224,
          0.46855145550991933
         ],
         "showticklabels": false
        }
       }
      },
      "text/html": [
       "<div>                            <div id=\"93667a4d-d051-4d7d-a3a3-4d1bbaed8113\" class=\"plotly-graph-div\" style=\"height:525px; width:100%;\"></div>            <script type=\"text/javascript\">                require([\"plotly\"], function(Plotly) {                    window.PLOTLYENV=window.PLOTLYENV || {};                                    if (document.getElementById(\"93667a4d-d051-4d7d-a3a3-4d1bbaed8113\")) {                    Plotly.newPlot(                        \"93667a4d-d051-4d7d-a3a3-4d1bbaed8113\",                        [{\"type\":\"scatter\",\"xaxis\":\"x\",\"yaxis\":\"y\"},{\"colorbar\":{\"title\":{\"text\":\"Objective Value\"}},\"colorscale\":[[0,\"rgb(5,10,172)\"],[0.35,\"rgb(40,60,190)\"],[0.5,\"rgb(70,100,245)\"],[0.6,\"rgb(90,120,245)\"],[0.7,\"rgb(106,137,247)\"],[1,\"rgb(220,220,220)\"]],\"connectgaps\":true,\"contours\":{\"coloring\":\"heatmap\"},\"hoverinfo\":\"none\",\"line\":{\"smoothing\":1.3},\"reversescale\":true,\"showscale\":true,\"x\":[2.0,8,64,128,134.0],\"y\":[0.19226498850113224,0.20482346427425893,0.2568743385059912,0.45599297973679265,0.46855145550991933],\"z\":[[null,null,null,null,null],[null,null,0.12034701555967331,null,null],[null,null,null,1.1375892162322998,null],[null,0.32484307885169983,null,null,null],[null,null,null,null,null]],\"type\":\"contour\",\"xaxis\":\"x8\",\"yaxis\":\"y8\"},{\"marker\":{\"color\":\"black\",\"line\":{\"color\":\"Grey\",\"width\":0.5}},\"mode\":\"markers\",\"showlegend\":false,\"x\":[128,64,8],\"y\":[0.2568743385059912,0.20482346427425893,0.45599297973679265],\"type\":\"scatter\",\"xaxis\":\"x8\",\"yaxis\":\"y8\"},{\"colorbar\":{\"title\":{\"text\":\"Objective Value\"}},\"colorscale\":[[0,\"rgb(5,10,172)\"],[0.35,\"rgb(40,60,190)\"],[0.5,\"rgb(70,100,245)\"],[0.6,\"rgb(90,120,245)\"],[0.7,\"rgb(106,137,247)\"],[1,\"rgb(220,220,220)\"]],\"connectgaps\":true,\"contours\":{\"coloring\":\"heatmap\"},\"hoverinfo\":\"none\",\"line\":{\"smoothing\":1.3},\"reversescale\":true,\"showscale\":false,\"x\":[2.0,8,64,128,134.0],\"y\":[1.5066702283983606e-05,2.2555860239198034e-05,7.346300588244607e-05,0.07212455701669214,0.1079752819973055],\"z\":[[null,null,null,null,null],[null,null,0.12034701555967331,null,null],[null,0.32484307885169983,null,null,null],[null,null,null,1.1375892162322998,null],[null,null,null,null,null]],\"type\":\"contour\",\"xaxis\":\"x15\",\"yaxis\":\"y15\"},{\"marker\":{\"color\":\"black\",\"line\":{\"color\":\"Grey\",\"width\":0.5}},\"mode\":\"markers\",\"showlegend\":false,\"x\":[128,64,8],\"y\":[0.07212455701669214,2.2555860239198034e-05,7.346300588244607e-05],\"type\":\"scatter\",\"xaxis\":\"x15\",\"yaxis\":\"y15\"},{\"colorbar\":{\"title\":{\"text\":\"Objective Value\"}},\"colorscale\":[[0,\"rgb(5,10,172)\"],[0.35,\"rgb(40,60,190)\"],[0.5,\"rgb(70,100,245)\"],[0.6,\"rgb(90,120,245)\"],[0.7,\"rgb(106,137,247)\"],[1,\"rgb(220,220,220)\"]],\"connectgaps\":true,\"contours\":{\"coloring\":\"heatmap\"},\"hoverinfo\":\"none\",\"line\":{\"smoothing\":1.3},\"reversescale\":true,\"showscale\":false,\"x\":[2.0,8,64,128,134.0],\"y\":[0.95,1,2,2.05],\"z\":[[null,null,null,null,null],[null,null,0.12034701555967331,null,null],[null,0.32484307885169983,null,1.1375892162322998,null],[null,null,null,null,null]],\"type\":\"contour\",\"xaxis\":\"x22\",\"yaxis\":\"y22\"},{\"marker\":{\"color\":\"black\",\"line\":{\"color\":\"Grey\",\"width\":0.5}},\"mode\":\"markers\",\"showlegend\":false,\"x\":[128,64,8],\"y\":[2,1,2],\"type\":\"scatter\",\"xaxis\":\"x22\",\"yaxis\":\"y22\"},{\"colorbar\":{\"title\":{\"text\":\"Objective Value\"}},\"colorscale\":[[0,\"rgb(5,10,172)\"],[0.35,\"rgb(40,60,190)\"],[0.5,\"rgb(70,100,245)\"],[0.6,\"rgb(90,120,245)\"],[0.7,\"rgb(106,137,247)\"],[1,\"rgb(220,220,220)\"]],\"connectgaps\":true,\"contours\":{\"coloring\":\"heatmap\"},\"hoverinfo\":\"none\",\"line\":{\"smoothing\":1.3},\"reversescale\":true,\"showscale\":false,\"x\":[2.0,8,64,128,134.0],\"y\":[10.8,14,30,78,81.2],\"z\":[[null,null,null,null,null],[null,0.32484307885169983,null,null,null],[null,null,0.12034701555967331,null,null],[null,null,null,1.1375892162322998,null],[null,null,null,null,null]],\"type\":\"contour\",\"xaxis\":\"x29\",\"yaxis\":\"y29\"},{\"marker\":{\"color\":\"black\",\"line\":{\"color\":\"Grey\",\"width\":0.5}},\"mode\":\"markers\",\"showlegend\":false,\"x\":[128,64,8],\"y\":[78,30,14],\"type\":\"scatter\",\"xaxis\":\"x29\",\"yaxis\":\"y29\"},{\"colorbar\":{\"title\":{\"text\":\"Objective Value\"}},\"colorscale\":[[0,\"rgb(5,10,172)\"],[0.35,\"rgb(40,60,190)\"],[0.5,\"rgb(70,100,245)\"],[0.6,\"rgb(90,120,245)\"],[0.7,\"rgb(106,137,247)\"],[1,\"rgb(220,220,220)\"]],\"connectgaps\":true,\"contours\":{\"coloring\":\"heatmap\"},\"hoverinfo\":\"none\",\"line\":{\"smoothing\":1.3},\"reversescale\":true,\"showscale\":false,\"x\":[2.0,8,64,128,134.0],\"y\":[48.7,51,97,99.3],\"z\":[[null,null,null,null,null],[null,0.32484307885169983,null,null,null],[null,null,null,1.1375892162322998,null],[null,null,null,null,null]],\"type\":\"contour\",\"xaxis\":\"x36\",\"yaxis\":\"y36\"},{\"marker\":{\"color\":\"black\",\"line\":{\"color\":\"Grey\",\"width\":0.5}},\"mode\":\"markers\",\"showlegend\":false,\"x\":[128,8],\"y\":[97,51],\"type\":\"scatter\",\"xaxis\":\"x36\",\"yaxis\":\"y36\"},{\"colorbar\":{\"title\":{\"text\":\"Objective Value\"}},\"colorscale\":[[0,\"rgb(5,10,172)\"],[0.35,\"rgb(40,60,190)\"],[0.5,\"rgb(70,100,245)\"],[0.6,\"rgb(90,120,245)\"],[0.7,\"rgb(106,137,247)\"],[1,\"rgb(220,220,220)\"]],\"connectgaps\":true,\"contours\":{\"coloring\":\"heatmap\"},\"hoverinfo\":\"none\",\"line\":{\"smoothing\":1.3},\"reversescale\":true,\"showscale\":false,\"x\":[2.0,8,64,128,134.0],\"y\":[\"Adam\",\"RMSprop\",\"SGD\"],\"z\":[[null,0.32484307885169983,null,null,null],[null,null,0.12034701555967331,null,null],[null,null,null,1.1375892162322998,null]],\"type\":\"contour\",\"xaxis\":\"x43\",\"yaxis\":\"y43\"},{\"marker\":{\"color\":\"black\",\"line\":{\"color\":\"Grey\",\"width\":0.5}},\"mode\":\"markers\",\"showlegend\":false,\"x\":[128,64,8],\"y\":[\"SGD\",\"RMSprop\",\"Adam\"],\"type\":\"scatter\",\"xaxis\":\"x43\",\"yaxis\":\"y43\"},{\"colorbar\":{\"title\":{\"text\":\"Objective Value\"}},\"colorscale\":[[0,\"rgb(5,10,172)\"],[0.35,\"rgb(40,60,190)\"],[0.5,\"rgb(70,100,245)\"],[0.6,\"rgb(90,120,245)\"],[0.7,\"rgb(106,137,247)\"],[1,\"rgb(220,220,220)\"]],\"connectgaps\":true,\"contours\":{\"coloring\":\"heatmap\"},\"hoverinfo\":\"none\",\"line\":{\"smoothing\":1.3},\"reversescale\":true,\"showscale\":false,\"x\":[0.19226498850113224,0.20482346427425893,0.2568743385059912,0.45599297973679265,0.46855145550991933],\"y\":[2.0,8,64,128,134.0],\"z\":[[null,null,null,null,null],[null,null,null,0.32484307885169983,null],[null,0.12034701555967331,null,null,null],[null,null,1.1375892162322998,null,null],[null,null,null,null,null]],\"type\":\"contour\",\"xaxis\":\"x2\",\"yaxis\":\"y2\"},{\"marker\":{\"color\":\"black\",\"line\":{\"color\":\"Grey\",\"width\":0.5}},\"mode\":\"markers\",\"showlegend\":false,\"x\":[0.2568743385059912,0.20482346427425893,0.45599297973679265],\"y\":[128,64,8],\"type\":\"scatter\",\"xaxis\":\"x2\",\"yaxis\":\"y2\"},{\"type\":\"scatter\",\"xaxis\":\"x9\",\"yaxis\":\"y9\"},{\"colorbar\":{\"title\":{\"text\":\"Objective Value\"}},\"colorscale\":[[0,\"rgb(5,10,172)\"],[0.35,\"rgb(40,60,190)\"],[0.5,\"rgb(70,100,245)\"],[0.6,\"rgb(90,120,245)\"],[0.7,\"rgb(106,137,247)\"],[1,\"rgb(220,220,220)\"]],\"connectgaps\":true,\"contours\":{\"coloring\":\"heatmap\"},\"hoverinfo\":\"none\",\"line\":{\"smoothing\":1.3},\"reversescale\":true,\"showscale\":false,\"x\":[0.19226498850113224,0.20482346427425893,0.2568743385059912,0.45599297973679265,0.46855145550991933],\"y\":[1.5066702283983606e-05,2.2555860239198034e-05,7.346300588244607e-05,0.07212455701669214,0.1079752819973055],\"z\":[[null,null,null,null,null],[null,0.12034701555967331,null,null,null],[null,null,null,0.32484307885169983,null],[null,null,1.1375892162322998,null,null],[null,null,null,null,null]],\"type\":\"contour\",\"xaxis\":\"x16\",\"yaxis\":\"y16\"},{\"marker\":{\"color\":\"black\",\"line\":{\"color\":\"Grey\",\"width\":0.5}},\"mode\":\"markers\",\"showlegend\":false,\"x\":[0.2568743385059912,0.20482346427425893,0.45599297973679265],\"y\":[0.07212455701669214,2.2555860239198034e-05,7.346300588244607e-05],\"type\":\"scatter\",\"xaxis\":\"x16\",\"yaxis\":\"y16\"},{\"colorbar\":{\"title\":{\"text\":\"Objective Value\"}},\"colorscale\":[[0,\"rgb(5,10,172)\"],[0.35,\"rgb(40,60,190)\"],[0.5,\"rgb(70,100,245)\"],[0.6,\"rgb(90,120,245)\"],[0.7,\"rgb(106,137,247)\"],[1,\"rgb(220,220,220)\"]],\"connectgaps\":true,\"contours\":{\"coloring\":\"heatmap\"},\"hoverinfo\":\"none\",\"line\":{\"smoothing\":1.3},\"reversescale\":true,\"showscale\":false,\"x\":[0.19226498850113224,0.20482346427425893,0.2568743385059912,0.45599297973679265,0.46855145550991933],\"y\":[0.95,1,2,2.05],\"z\":[[null,null,null,null,null],[null,0.12034701555967331,null,null,null],[null,null,1.1375892162322998,0.32484307885169983,null],[null,null,null,null,null]],\"type\":\"contour\",\"xaxis\":\"x23\",\"yaxis\":\"y23\"},{\"marker\":{\"color\":\"black\",\"line\":{\"color\":\"Grey\",\"width\":0.5}},\"mode\":\"markers\",\"showlegend\":false,\"x\":[0.2568743385059912,0.20482346427425893,0.45599297973679265],\"y\":[2,1,2],\"type\":\"scatter\",\"xaxis\":\"x23\",\"yaxis\":\"y23\"},{\"colorbar\":{\"title\":{\"text\":\"Objective Value\"}},\"colorscale\":[[0,\"rgb(5,10,172)\"],[0.35,\"rgb(40,60,190)\"],[0.5,\"rgb(70,100,245)\"],[0.6,\"rgb(90,120,245)\"],[0.7,\"rgb(106,137,247)\"],[1,\"rgb(220,220,220)\"]],\"connectgaps\":true,\"contours\":{\"coloring\":\"heatmap\"},\"hoverinfo\":\"none\",\"line\":{\"smoothing\":1.3},\"reversescale\":true,\"showscale\":false,\"x\":[0.19226498850113224,0.20482346427425893,0.2568743385059912,0.45599297973679265,0.46855145550991933],\"y\":[10.8,14,30,78,81.2],\"z\":[[null,null,null,null,null],[null,null,null,0.32484307885169983,null],[null,0.12034701555967331,null,null,null],[null,null,1.1375892162322998,null,null],[null,null,null,null,null]],\"type\":\"contour\",\"xaxis\":\"x30\",\"yaxis\":\"y30\"},{\"marker\":{\"color\":\"black\",\"line\":{\"color\":\"Grey\",\"width\":0.5}},\"mode\":\"markers\",\"showlegend\":false,\"x\":[0.2568743385059912,0.20482346427425893,0.45599297973679265],\"y\":[78,30,14],\"type\":\"scatter\",\"xaxis\":\"x30\",\"yaxis\":\"y30\"},{\"colorbar\":{\"title\":{\"text\":\"Objective Value\"}},\"colorscale\":[[0,\"rgb(5,10,172)\"],[0.35,\"rgb(40,60,190)\"],[0.5,\"rgb(70,100,245)\"],[0.6,\"rgb(90,120,245)\"],[0.7,\"rgb(106,137,247)\"],[1,\"rgb(220,220,220)\"]],\"connectgaps\":true,\"contours\":{\"coloring\":\"heatmap\"},\"hoverinfo\":\"none\",\"line\":{\"smoothing\":1.3},\"reversescale\":true,\"showscale\":false,\"x\":[0.19226498850113224,0.20482346427425893,0.2568743385059912,0.45599297973679265,0.46855145550991933],\"y\":[48.7,51,97,99.3],\"z\":[[null,null,null,null,null],[null,null,null,0.32484307885169983,null],[null,null,1.1375892162322998,null,null],[null,null,null,null,null]],\"type\":\"contour\",\"xaxis\":\"x37\",\"yaxis\":\"y37\"},{\"marker\":{\"color\":\"black\",\"line\":{\"color\":\"Grey\",\"width\":0.5}},\"mode\":\"markers\",\"showlegend\":false,\"x\":[0.2568743385059912,0.45599297973679265],\"y\":[97,51],\"type\":\"scatter\",\"xaxis\":\"x37\",\"yaxis\":\"y37\"},{\"colorbar\":{\"title\":{\"text\":\"Objective Value\"}},\"colorscale\":[[0,\"rgb(5,10,172)\"],[0.35,\"rgb(40,60,190)\"],[0.5,\"rgb(70,100,245)\"],[0.6,\"rgb(90,120,245)\"],[0.7,\"rgb(106,137,247)\"],[1,\"rgb(220,220,220)\"]],\"connectgaps\":true,\"contours\":{\"coloring\":\"heatmap\"},\"hoverinfo\":\"none\",\"line\":{\"smoothing\":1.3},\"reversescale\":true,\"showscale\":false,\"x\":[0.19226498850113224,0.20482346427425893,0.2568743385059912,0.45599297973679265,0.46855145550991933],\"y\":[\"Adam\",\"RMSprop\",\"SGD\"],\"z\":[[null,null,null,0.32484307885169983,null],[null,0.12034701555967331,null,null,null],[null,null,1.1375892162322998,null,null]],\"type\":\"contour\",\"xaxis\":\"x44\",\"yaxis\":\"y44\"},{\"marker\":{\"color\":\"black\",\"line\":{\"color\":\"Grey\",\"width\":0.5}},\"mode\":\"markers\",\"showlegend\":false,\"x\":[0.2568743385059912,0.20482346427425893,0.45599297973679265],\"y\":[\"SGD\",\"RMSprop\",\"Adam\"],\"type\":\"scatter\",\"xaxis\":\"x44\",\"yaxis\":\"y44\"},{\"colorbar\":{\"title\":{\"text\":\"Objective Value\"}},\"colorscale\":[[0,\"rgb(5,10,172)\"],[0.35,\"rgb(40,60,190)\"],[0.5,\"rgb(70,100,245)\"],[0.6,\"rgb(90,120,245)\"],[0.7,\"rgb(106,137,247)\"],[1,\"rgb(220,220,220)\"]],\"connectgaps\":true,\"contours\":{\"coloring\":\"heatmap\"},\"hoverinfo\":\"none\",\"line\":{\"smoothing\":1.3},\"reversescale\":true,\"showscale\":false,\"x\":[1.5066702283983606e-05,2.2555860239198034e-05,7.346300588244607e-05,0.07212455701669214,0.1079752819973055],\"y\":[2.0,8,64,128,134.0],\"z\":[[null,null,null,null,null],[null,null,0.32484307885169983,null,null],[null,0.12034701555967331,null,null,null],[null,null,null,1.1375892162322998,null],[null,null,null,null,null]],\"type\":\"contour\",\"xaxis\":\"x3\",\"yaxis\":\"y3\"},{\"marker\":{\"color\":\"black\",\"line\":{\"color\":\"Grey\",\"width\":0.5}},\"mode\":\"markers\",\"showlegend\":false,\"x\":[0.07212455701669214,2.2555860239198034e-05,7.346300588244607e-05],\"y\":[128,64,8],\"type\":\"scatter\",\"xaxis\":\"x3\",\"yaxis\":\"y3\"},{\"colorbar\":{\"title\":{\"text\":\"Objective Value\"}},\"colorscale\":[[0,\"rgb(5,10,172)\"],[0.35,\"rgb(40,60,190)\"],[0.5,\"rgb(70,100,245)\"],[0.6,\"rgb(90,120,245)\"],[0.7,\"rgb(106,137,247)\"],[1,\"rgb(220,220,220)\"]],\"connectgaps\":true,\"contours\":{\"coloring\":\"heatmap\"},\"hoverinfo\":\"none\",\"line\":{\"smoothing\":1.3},\"reversescale\":true,\"showscale\":false,\"x\":[1.5066702283983606e-05,2.2555860239198034e-05,7.346300588244607e-05,0.07212455701669214,0.1079752819973055],\"y\":[0.19226498850113224,0.20482346427425893,0.2568743385059912,0.45599297973679265,0.46855145550991933],\"z\":[[null,null,null,null,null],[null,0.12034701555967331,null,null,null],[null,null,null,1.1375892162322998,null],[null,null,0.32484307885169983,null,null],[null,null,null,null,null]],\"type\":\"contour\",\"xaxis\":\"x10\",\"yaxis\":\"y10\"},{\"marker\":{\"color\":\"black\",\"line\":{\"color\":\"Grey\",\"width\":0.5}},\"mode\":\"markers\",\"showlegend\":false,\"x\":[0.07212455701669214,2.2555860239198034e-05,7.346300588244607e-05],\"y\":[0.2568743385059912,0.20482346427425893,0.45599297973679265],\"type\":\"scatter\",\"xaxis\":\"x10\",\"yaxis\":\"y10\"},{\"type\":\"scatter\",\"xaxis\":\"x17\",\"yaxis\":\"y17\"},{\"colorbar\":{\"title\":{\"text\":\"Objective Value\"}},\"colorscale\":[[0,\"rgb(5,10,172)\"],[0.35,\"rgb(40,60,190)\"],[0.5,\"rgb(70,100,245)\"],[0.6,\"rgb(90,120,245)\"],[0.7,\"rgb(106,137,247)\"],[1,\"rgb(220,220,220)\"]],\"connectgaps\":true,\"contours\":{\"coloring\":\"heatmap\"},\"hoverinfo\":\"none\",\"line\":{\"smoothing\":1.3},\"reversescale\":true,\"showscale\":false,\"x\":[1.5066702283983606e-05,2.2555860239198034e-05,7.346300588244607e-05,0.07212455701669214,0.1079752819973055],\"y\":[0.95,1,2,2.05],\"z\":[[null,null,null,null,null],[null,0.12034701555967331,null,null,null],[null,null,0.32484307885169983,1.1375892162322998,null],[null,null,null,null,null]],\"type\":\"contour\",\"xaxis\":\"x24\",\"yaxis\":\"y24\"},{\"marker\":{\"color\":\"black\",\"line\":{\"color\":\"Grey\",\"width\":0.5}},\"mode\":\"markers\",\"showlegend\":false,\"x\":[0.07212455701669214,2.2555860239198034e-05,7.346300588244607e-05],\"y\":[2,1,2],\"type\":\"scatter\",\"xaxis\":\"x24\",\"yaxis\":\"y24\"},{\"colorbar\":{\"title\":{\"text\":\"Objective Value\"}},\"colorscale\":[[0,\"rgb(5,10,172)\"],[0.35,\"rgb(40,60,190)\"],[0.5,\"rgb(70,100,245)\"],[0.6,\"rgb(90,120,245)\"],[0.7,\"rgb(106,137,247)\"],[1,\"rgb(220,220,220)\"]],\"connectgaps\":true,\"contours\":{\"coloring\":\"heatmap\"},\"hoverinfo\":\"none\",\"line\":{\"smoothing\":1.3},\"reversescale\":true,\"showscale\":false,\"x\":[1.5066702283983606e-05,2.2555860239198034e-05,7.346300588244607e-05,0.07212455701669214,0.1079752819973055],\"y\":[10.8,14,30,78,81.2],\"z\":[[null,null,null,null,null],[null,null,0.32484307885169983,null,null],[null,0.12034701555967331,null,null,null],[null,null,null,1.1375892162322998,null],[null,null,null,null,null]],\"type\":\"contour\",\"xaxis\":\"x31\",\"yaxis\":\"y31\"},{\"marker\":{\"color\":\"black\",\"line\":{\"color\":\"Grey\",\"width\":0.5}},\"mode\":\"markers\",\"showlegend\":false,\"x\":[0.07212455701669214,2.2555860239198034e-05,7.346300588244607e-05],\"y\":[78,30,14],\"type\":\"scatter\",\"xaxis\":\"x31\",\"yaxis\":\"y31\"},{\"colorbar\":{\"title\":{\"text\":\"Objective Value\"}},\"colorscale\":[[0,\"rgb(5,10,172)\"],[0.35,\"rgb(40,60,190)\"],[0.5,\"rgb(70,100,245)\"],[0.6,\"rgb(90,120,245)\"],[0.7,\"rgb(106,137,247)\"],[1,\"rgb(220,220,220)\"]],\"connectgaps\":true,\"contours\":{\"coloring\":\"heatmap\"},\"hoverinfo\":\"none\",\"line\":{\"smoothing\":1.3},\"reversescale\":true,\"showscale\":false,\"x\":[1.5066702283983606e-05,2.2555860239198034e-05,7.346300588244607e-05,0.07212455701669214,0.1079752819973055],\"y\":[48.7,51,97,99.3],\"z\":[[null,null,null,null,null],[null,null,0.32484307885169983,null,null],[null,null,null,1.1375892162322998,null],[null,null,null,null,null]],\"type\":\"contour\",\"xaxis\":\"x38\",\"yaxis\":\"y38\"},{\"marker\":{\"color\":\"black\",\"line\":{\"color\":\"Grey\",\"width\":0.5}},\"mode\":\"markers\",\"showlegend\":false,\"x\":[0.07212455701669214,7.346300588244607e-05],\"y\":[97,51],\"type\":\"scatter\",\"xaxis\":\"x38\",\"yaxis\":\"y38\"},{\"colorbar\":{\"title\":{\"text\":\"Objective Value\"}},\"colorscale\":[[0,\"rgb(5,10,172)\"],[0.35,\"rgb(40,60,190)\"],[0.5,\"rgb(70,100,245)\"],[0.6,\"rgb(90,120,245)\"],[0.7,\"rgb(106,137,247)\"],[1,\"rgb(220,220,220)\"]],\"connectgaps\":true,\"contours\":{\"coloring\":\"heatmap\"},\"hoverinfo\":\"none\",\"line\":{\"smoothing\":1.3},\"reversescale\":true,\"showscale\":false,\"x\":[1.5066702283983606e-05,2.2555860239198034e-05,7.346300588244607e-05,0.07212455701669214,0.1079752819973055],\"y\":[\"Adam\",\"RMSprop\",\"SGD\"],\"z\":[[null,null,0.32484307885169983,null,null],[null,0.12034701555967331,null,null,null],[null,null,null,1.1375892162322998,null]],\"type\":\"contour\",\"xaxis\":\"x45\",\"yaxis\":\"y45\"},{\"marker\":{\"color\":\"black\",\"line\":{\"color\":\"Grey\",\"width\":0.5}},\"mode\":\"markers\",\"showlegend\":false,\"x\":[0.07212455701669214,2.2555860239198034e-05,7.346300588244607e-05],\"y\":[\"SGD\",\"RMSprop\",\"Adam\"],\"type\":\"scatter\",\"xaxis\":\"x45\",\"yaxis\":\"y45\"},{\"colorbar\":{\"title\":{\"text\":\"Objective Value\"}},\"colorscale\":[[0,\"rgb(5,10,172)\"],[0.35,\"rgb(40,60,190)\"],[0.5,\"rgb(70,100,245)\"],[0.6,\"rgb(90,120,245)\"],[0.7,\"rgb(106,137,247)\"],[1,\"rgb(220,220,220)\"]],\"connectgaps\":true,\"contours\":{\"coloring\":\"heatmap\"},\"hoverinfo\":\"none\",\"line\":{\"smoothing\":1.3},\"reversescale\":true,\"showscale\":false,\"x\":[0.95,1,2,2.05],\"y\":[2.0,8,64,128,134.0],\"z\":[[null,null,null,null],[null,null,0.32484307885169983,null],[null,0.12034701555967331,null,null],[null,null,1.1375892162322998,null],[null,null,null,null]],\"type\":\"contour\",\"xaxis\":\"x4\",\"yaxis\":\"y4\"},{\"marker\":{\"color\":\"black\",\"line\":{\"color\":\"Grey\",\"width\":0.5}},\"mode\":\"markers\",\"showlegend\":false,\"x\":[2,1,2],\"y\":[128,64,8],\"type\":\"scatter\",\"xaxis\":\"x4\",\"yaxis\":\"y4\"},{\"colorbar\":{\"title\":{\"text\":\"Objective Value\"}},\"colorscale\":[[0,\"rgb(5,10,172)\"],[0.35,\"rgb(40,60,190)\"],[0.5,\"rgb(70,100,245)\"],[0.6,\"rgb(90,120,245)\"],[0.7,\"rgb(106,137,247)\"],[1,\"rgb(220,220,220)\"]],\"connectgaps\":true,\"contours\":{\"coloring\":\"heatmap\"},\"hoverinfo\":\"none\",\"line\":{\"smoothing\":1.3},\"reversescale\":true,\"showscale\":false,\"x\":[0.95,1,2,2.05],\"y\":[0.19226498850113224,0.20482346427425893,0.2568743385059912,0.45599297973679265,0.46855145550991933],\"z\":[[null,null,null,null],[null,0.12034701555967331,null,null],[null,null,1.1375892162322998,null],[null,null,0.32484307885169983,null],[null,null,null,null]],\"type\":\"contour\",\"xaxis\":\"x11\",\"yaxis\":\"y11\"},{\"marker\":{\"color\":\"black\",\"line\":{\"color\":\"Grey\",\"width\":0.5}},\"mode\":\"markers\",\"showlegend\":false,\"x\":[2,1,2],\"y\":[0.2568743385059912,0.20482346427425893,0.45599297973679265],\"type\":\"scatter\",\"xaxis\":\"x11\",\"yaxis\":\"y11\"},{\"colorbar\":{\"title\":{\"text\":\"Objective Value\"}},\"colorscale\":[[0,\"rgb(5,10,172)\"],[0.35,\"rgb(40,60,190)\"],[0.5,\"rgb(70,100,245)\"],[0.6,\"rgb(90,120,245)\"],[0.7,\"rgb(106,137,247)\"],[1,\"rgb(220,220,220)\"]],\"connectgaps\":true,\"contours\":{\"coloring\":\"heatmap\"},\"hoverinfo\":\"none\",\"line\":{\"smoothing\":1.3},\"reversescale\":true,\"showscale\":false,\"x\":[0.95,1,2,2.05],\"y\":[1.5066702283983606e-05,2.2555860239198034e-05,7.346300588244607e-05,0.07212455701669214,0.1079752819973055],\"z\":[[null,null,null,null],[null,0.12034701555967331,null,null],[null,null,0.32484307885169983,null],[null,null,1.1375892162322998,null],[null,null,null,null]],\"type\":\"contour\",\"xaxis\":\"x18\",\"yaxis\":\"y18\"},{\"marker\":{\"color\":\"black\",\"line\":{\"color\":\"Grey\",\"width\":0.5}},\"mode\":\"markers\",\"showlegend\":false,\"x\":[2,1,2],\"y\":[0.07212455701669214,2.2555860239198034e-05,7.346300588244607e-05],\"type\":\"scatter\",\"xaxis\":\"x18\",\"yaxis\":\"y18\"},{\"type\":\"scatter\",\"xaxis\":\"x25\",\"yaxis\":\"y25\"},{\"colorbar\":{\"title\":{\"text\":\"Objective Value\"}},\"colorscale\":[[0,\"rgb(5,10,172)\"],[0.35,\"rgb(40,60,190)\"],[0.5,\"rgb(70,100,245)\"],[0.6,\"rgb(90,120,245)\"],[0.7,\"rgb(106,137,247)\"],[1,\"rgb(220,220,220)\"]],\"connectgaps\":true,\"contours\":{\"coloring\":\"heatmap\"},\"hoverinfo\":\"none\",\"line\":{\"smoothing\":1.3},\"reversescale\":true,\"showscale\":false,\"x\":[0.95,1,2,2.05],\"y\":[10.8,14,30,78,81.2],\"z\":[[null,null,null,null],[null,null,0.32484307885169983,null],[null,0.12034701555967331,null,null],[null,null,1.1375892162322998,null],[null,null,null,null]],\"type\":\"contour\",\"xaxis\":\"x32\",\"yaxis\":\"y32\"},{\"marker\":{\"color\":\"black\",\"line\":{\"color\":\"Grey\",\"width\":0.5}},\"mode\":\"markers\",\"showlegend\":false,\"x\":[2,1,2],\"y\":[78,30,14],\"type\":\"scatter\",\"xaxis\":\"x32\",\"yaxis\":\"y32\"},{\"colorbar\":{\"title\":{\"text\":\"Objective Value\"}},\"colorscale\":[[0,\"rgb(5,10,172)\"],[0.35,\"rgb(40,60,190)\"],[0.5,\"rgb(70,100,245)\"],[0.6,\"rgb(90,120,245)\"],[0.7,\"rgb(106,137,247)\"],[1,\"rgb(220,220,220)\"]],\"connectgaps\":true,\"contours\":{\"coloring\":\"heatmap\"},\"hoverinfo\":\"none\",\"line\":{\"smoothing\":1.3},\"reversescale\":true,\"showscale\":false,\"x\":[0.95,1,2,2.05],\"y\":[48.7,51,97,99.3],\"z\":[[null,null,null,null],[null,null,0.32484307885169983,null],[null,null,1.1375892162322998,null],[null,null,null,null]],\"type\":\"contour\",\"xaxis\":\"x39\",\"yaxis\":\"y39\"},{\"marker\":{\"color\":\"black\",\"line\":{\"color\":\"Grey\",\"width\":0.5}},\"mode\":\"markers\",\"showlegend\":false,\"x\":[2,2],\"y\":[97,51],\"type\":\"scatter\",\"xaxis\":\"x39\",\"yaxis\":\"y39\"},{\"colorbar\":{\"title\":{\"text\":\"Objective Value\"}},\"colorscale\":[[0,\"rgb(5,10,172)\"],[0.35,\"rgb(40,60,190)\"],[0.5,\"rgb(70,100,245)\"],[0.6,\"rgb(90,120,245)\"],[0.7,\"rgb(106,137,247)\"],[1,\"rgb(220,220,220)\"]],\"connectgaps\":true,\"contours\":{\"coloring\":\"heatmap\"},\"hoverinfo\":\"none\",\"line\":{\"smoothing\":1.3},\"reversescale\":true,\"showscale\":false,\"x\":[0.95,1,2,2.05],\"y\":[\"Adam\",\"RMSprop\",\"SGD\"],\"z\":[[null,null,0.32484307885169983,null],[null,0.12034701555967331,null,null],[null,null,1.1375892162322998,null]],\"type\":\"contour\",\"xaxis\":\"x46\",\"yaxis\":\"y46\"},{\"marker\":{\"color\":\"black\",\"line\":{\"color\":\"Grey\",\"width\":0.5}},\"mode\":\"markers\",\"showlegend\":false,\"x\":[2,1,2],\"y\":[\"SGD\",\"RMSprop\",\"Adam\"],\"type\":\"scatter\",\"xaxis\":\"x46\",\"yaxis\":\"y46\"},{\"colorbar\":{\"title\":{\"text\":\"Objective Value\"}},\"colorscale\":[[0,\"rgb(5,10,172)\"],[0.35,\"rgb(40,60,190)\"],[0.5,\"rgb(70,100,245)\"],[0.6,\"rgb(90,120,245)\"],[0.7,\"rgb(106,137,247)\"],[1,\"rgb(220,220,220)\"]],\"connectgaps\":true,\"contours\":{\"coloring\":\"heatmap\"},\"hoverinfo\":\"none\",\"line\":{\"smoothing\":1.3},\"reversescale\":true,\"showscale\":false,\"x\":[10.8,14,30,78,81.2],\"y\":[2.0,8,64,128,134.0],\"z\":[[null,null,null,null,null],[null,0.32484307885169983,null,null,null],[null,null,0.12034701555967331,null,null],[null,null,null,1.1375892162322998,null],[null,null,null,null,null]],\"type\":\"contour\",\"xaxis\":\"x5\",\"yaxis\":\"y5\"},{\"marker\":{\"color\":\"black\",\"line\":{\"color\":\"Grey\",\"width\":0.5}},\"mode\":\"markers\",\"showlegend\":false,\"x\":[78,30,14],\"y\":[128,64,8],\"type\":\"scatter\",\"xaxis\":\"x5\",\"yaxis\":\"y5\"},{\"colorbar\":{\"title\":{\"text\":\"Objective Value\"}},\"colorscale\":[[0,\"rgb(5,10,172)\"],[0.35,\"rgb(40,60,190)\"],[0.5,\"rgb(70,100,245)\"],[0.6,\"rgb(90,120,245)\"],[0.7,\"rgb(106,137,247)\"],[1,\"rgb(220,220,220)\"]],\"connectgaps\":true,\"contours\":{\"coloring\":\"heatmap\"},\"hoverinfo\":\"none\",\"line\":{\"smoothing\":1.3},\"reversescale\":true,\"showscale\":false,\"x\":[10.8,14,30,78,81.2],\"y\":[0.19226498850113224,0.20482346427425893,0.2568743385059912,0.45599297973679265,0.46855145550991933],\"z\":[[null,null,null,null,null],[null,null,0.12034701555967331,null,null],[null,null,null,1.1375892162322998,null],[null,0.32484307885169983,null,null,null],[null,null,null,null,null]],\"type\":\"contour\",\"xaxis\":\"x12\",\"yaxis\":\"y12\"},{\"marker\":{\"color\":\"black\",\"line\":{\"color\":\"Grey\",\"width\":0.5}},\"mode\":\"markers\",\"showlegend\":false,\"x\":[78,30,14],\"y\":[0.2568743385059912,0.20482346427425893,0.45599297973679265],\"type\":\"scatter\",\"xaxis\":\"x12\",\"yaxis\":\"y12\"},{\"colorbar\":{\"title\":{\"text\":\"Objective Value\"}},\"colorscale\":[[0,\"rgb(5,10,172)\"],[0.35,\"rgb(40,60,190)\"],[0.5,\"rgb(70,100,245)\"],[0.6,\"rgb(90,120,245)\"],[0.7,\"rgb(106,137,247)\"],[1,\"rgb(220,220,220)\"]],\"connectgaps\":true,\"contours\":{\"coloring\":\"heatmap\"},\"hoverinfo\":\"none\",\"line\":{\"smoothing\":1.3},\"reversescale\":true,\"showscale\":false,\"x\":[10.8,14,30,78,81.2],\"y\":[1.5066702283983606e-05,2.2555860239198034e-05,7.346300588244607e-05,0.07212455701669214,0.1079752819973055],\"z\":[[null,null,null,null,null],[null,null,0.12034701555967331,null,null],[null,0.32484307885169983,null,null,null],[null,null,null,1.1375892162322998,null],[null,null,null,null,null]],\"type\":\"contour\",\"xaxis\":\"x19\",\"yaxis\":\"y19\"},{\"marker\":{\"color\":\"black\",\"line\":{\"color\":\"Grey\",\"width\":0.5}},\"mode\":\"markers\",\"showlegend\":false,\"x\":[78,30,14],\"y\":[0.07212455701669214,2.2555860239198034e-05,7.346300588244607e-05],\"type\":\"scatter\",\"xaxis\":\"x19\",\"yaxis\":\"y19\"},{\"colorbar\":{\"title\":{\"text\":\"Objective Value\"}},\"colorscale\":[[0,\"rgb(5,10,172)\"],[0.35,\"rgb(40,60,190)\"],[0.5,\"rgb(70,100,245)\"],[0.6,\"rgb(90,120,245)\"],[0.7,\"rgb(106,137,247)\"],[1,\"rgb(220,220,220)\"]],\"connectgaps\":true,\"contours\":{\"coloring\":\"heatmap\"},\"hoverinfo\":\"none\",\"line\":{\"smoothing\":1.3},\"reversescale\":true,\"showscale\":false,\"x\":[10.8,14,30,78,81.2],\"y\":[0.95,1,2,2.05],\"z\":[[null,null,null,null,null],[null,null,0.12034701555967331,null,null],[null,0.32484307885169983,null,1.1375892162322998,null],[null,null,null,null,null]],\"type\":\"contour\",\"xaxis\":\"x26\",\"yaxis\":\"y26\"},{\"marker\":{\"color\":\"black\",\"line\":{\"color\":\"Grey\",\"width\":0.5}},\"mode\":\"markers\",\"showlegend\":false,\"x\":[78,30,14],\"y\":[2,1,2],\"type\":\"scatter\",\"xaxis\":\"x26\",\"yaxis\":\"y26\"},{\"type\":\"scatter\",\"xaxis\":\"x33\",\"yaxis\":\"y33\"},{\"colorbar\":{\"title\":{\"text\":\"Objective Value\"}},\"colorscale\":[[0,\"rgb(5,10,172)\"],[0.35,\"rgb(40,60,190)\"],[0.5,\"rgb(70,100,245)\"],[0.6,\"rgb(90,120,245)\"],[0.7,\"rgb(106,137,247)\"],[1,\"rgb(220,220,220)\"]],\"connectgaps\":true,\"contours\":{\"coloring\":\"heatmap\"},\"hoverinfo\":\"none\",\"line\":{\"smoothing\":1.3},\"reversescale\":true,\"showscale\":false,\"x\":[10.8,14,30,78,81.2],\"y\":[48.7,51,97,99.3],\"z\":[[null,null,null,null,null],[null,0.32484307885169983,null,null,null],[null,null,null,1.1375892162322998,null],[null,null,null,null,null]],\"type\":\"contour\",\"xaxis\":\"x40\",\"yaxis\":\"y40\"},{\"marker\":{\"color\":\"black\",\"line\":{\"color\":\"Grey\",\"width\":0.5}},\"mode\":\"markers\",\"showlegend\":false,\"x\":[78,14],\"y\":[97,51],\"type\":\"scatter\",\"xaxis\":\"x40\",\"yaxis\":\"y40\"},{\"colorbar\":{\"title\":{\"text\":\"Objective Value\"}},\"colorscale\":[[0,\"rgb(5,10,172)\"],[0.35,\"rgb(40,60,190)\"],[0.5,\"rgb(70,100,245)\"],[0.6,\"rgb(90,120,245)\"],[0.7,\"rgb(106,137,247)\"],[1,\"rgb(220,220,220)\"]],\"connectgaps\":true,\"contours\":{\"coloring\":\"heatmap\"},\"hoverinfo\":\"none\",\"line\":{\"smoothing\":1.3},\"reversescale\":true,\"showscale\":false,\"x\":[10.8,14,30,78,81.2],\"y\":[\"Adam\",\"RMSprop\",\"SGD\"],\"z\":[[null,0.32484307885169983,null,null,null],[null,null,0.12034701555967331,null,null],[null,null,null,1.1375892162322998,null]],\"type\":\"contour\",\"xaxis\":\"x47\",\"yaxis\":\"y47\"},{\"marker\":{\"color\":\"black\",\"line\":{\"color\":\"Grey\",\"width\":0.5}},\"mode\":\"markers\",\"showlegend\":false,\"x\":[78,30,14],\"y\":[\"SGD\",\"RMSprop\",\"Adam\"],\"type\":\"scatter\",\"xaxis\":\"x47\",\"yaxis\":\"y47\"},{\"colorbar\":{\"title\":{\"text\":\"Objective Value\"}},\"colorscale\":[[0,\"rgb(5,10,172)\"],[0.35,\"rgb(40,60,190)\"],[0.5,\"rgb(70,100,245)\"],[0.6,\"rgb(90,120,245)\"],[0.7,\"rgb(106,137,247)\"],[1,\"rgb(220,220,220)\"]],\"connectgaps\":true,\"contours\":{\"coloring\":\"heatmap\"},\"hoverinfo\":\"none\",\"line\":{\"smoothing\":1.3},\"reversescale\":true,\"showscale\":false,\"x\":[48.7,51,97,99.3],\"y\":[2.0,8,64,128,134.0],\"z\":[[null,null,null,null],[null,0.32484307885169983,null,null],[null,null,null,null],[null,null,1.1375892162322998,null],[null,null,null,null]],\"type\":\"contour\",\"xaxis\":\"x6\",\"yaxis\":\"y6\"},{\"marker\":{\"color\":\"black\",\"line\":{\"color\":\"Grey\",\"width\":0.5}},\"mode\":\"markers\",\"showlegend\":false,\"x\":[97,51],\"y\":[128,8],\"type\":\"scatter\",\"xaxis\":\"x6\",\"yaxis\":\"y6\"},{\"colorbar\":{\"title\":{\"text\":\"Objective Value\"}},\"colorscale\":[[0,\"rgb(5,10,172)\"],[0.35,\"rgb(40,60,190)\"],[0.5,\"rgb(70,100,245)\"],[0.6,\"rgb(90,120,245)\"],[0.7,\"rgb(106,137,247)\"],[1,\"rgb(220,220,220)\"]],\"connectgaps\":true,\"contours\":{\"coloring\":\"heatmap\"},\"hoverinfo\":\"none\",\"line\":{\"smoothing\":1.3},\"reversescale\":true,\"showscale\":false,\"x\":[48.7,51,97,99.3],\"y\":[0.19226498850113224,0.20482346427425893,0.2568743385059912,0.45599297973679265,0.46855145550991933],\"z\":[[null,null,null,null],[null,null,null,null],[null,null,1.1375892162322998,null],[null,0.32484307885169983,null,null],[null,null,null,null]],\"type\":\"contour\",\"xaxis\":\"x13\",\"yaxis\":\"y13\"},{\"marker\":{\"color\":\"black\",\"line\":{\"color\":\"Grey\",\"width\":0.5}},\"mode\":\"markers\",\"showlegend\":false,\"x\":[97,51],\"y\":[0.2568743385059912,0.45599297973679265],\"type\":\"scatter\",\"xaxis\":\"x13\",\"yaxis\":\"y13\"},{\"colorbar\":{\"title\":{\"text\":\"Objective Value\"}},\"colorscale\":[[0,\"rgb(5,10,172)\"],[0.35,\"rgb(40,60,190)\"],[0.5,\"rgb(70,100,245)\"],[0.6,\"rgb(90,120,245)\"],[0.7,\"rgb(106,137,247)\"],[1,\"rgb(220,220,220)\"]],\"connectgaps\":true,\"contours\":{\"coloring\":\"heatmap\"},\"hoverinfo\":\"none\",\"line\":{\"smoothing\":1.3},\"reversescale\":true,\"showscale\":false,\"x\":[48.7,51,97,99.3],\"y\":[1.5066702283983606e-05,2.2555860239198034e-05,7.346300588244607e-05,0.07212455701669214,0.1079752819973055],\"z\":[[null,null,null,null],[null,null,null,null],[null,0.32484307885169983,null,null],[null,null,1.1375892162322998,null],[null,null,null,null]],\"type\":\"contour\",\"xaxis\":\"x20\",\"yaxis\":\"y20\"},{\"marker\":{\"color\":\"black\",\"line\":{\"color\":\"Grey\",\"width\":0.5}},\"mode\":\"markers\",\"showlegend\":false,\"x\":[97,51],\"y\":[0.07212455701669214,7.346300588244607e-05],\"type\":\"scatter\",\"xaxis\":\"x20\",\"yaxis\":\"y20\"},{\"colorbar\":{\"title\":{\"text\":\"Objective Value\"}},\"colorscale\":[[0,\"rgb(5,10,172)\"],[0.35,\"rgb(40,60,190)\"],[0.5,\"rgb(70,100,245)\"],[0.6,\"rgb(90,120,245)\"],[0.7,\"rgb(106,137,247)\"],[1,\"rgb(220,220,220)\"]],\"connectgaps\":true,\"contours\":{\"coloring\":\"heatmap\"},\"hoverinfo\":\"none\",\"line\":{\"smoothing\":1.3},\"reversescale\":true,\"showscale\":false,\"x\":[48.7,51,97,99.3],\"y\":[0.95,1,2,2.05],\"z\":[[null,null,null,null],[null,null,null,null],[null,0.32484307885169983,1.1375892162322998,null],[null,null,null,null]],\"type\":\"contour\",\"xaxis\":\"x27\",\"yaxis\":\"y27\"},{\"marker\":{\"color\":\"black\",\"line\":{\"color\":\"Grey\",\"width\":0.5}},\"mode\":\"markers\",\"showlegend\":false,\"x\":[97,51],\"y\":[2,2],\"type\":\"scatter\",\"xaxis\":\"x27\",\"yaxis\":\"y27\"},{\"colorbar\":{\"title\":{\"text\":\"Objective Value\"}},\"colorscale\":[[0,\"rgb(5,10,172)\"],[0.35,\"rgb(40,60,190)\"],[0.5,\"rgb(70,100,245)\"],[0.6,\"rgb(90,120,245)\"],[0.7,\"rgb(106,137,247)\"],[1,\"rgb(220,220,220)\"]],\"connectgaps\":true,\"contours\":{\"coloring\":\"heatmap\"},\"hoverinfo\":\"none\",\"line\":{\"smoothing\":1.3},\"reversescale\":true,\"showscale\":false,\"x\":[48.7,51,97,99.3],\"y\":[10.8,14,30,78,81.2],\"z\":[[null,null,null,null],[null,0.32484307885169983,null,null],[null,null,null,null],[null,null,1.1375892162322998,null],[null,null,null,null]],\"type\":\"contour\",\"xaxis\":\"x34\",\"yaxis\":\"y34\"},{\"marker\":{\"color\":\"black\",\"line\":{\"color\":\"Grey\",\"width\":0.5}},\"mode\":\"markers\",\"showlegend\":false,\"x\":[97,51],\"y\":[78,14],\"type\":\"scatter\",\"xaxis\":\"x34\",\"yaxis\":\"y34\"},{\"type\":\"scatter\",\"xaxis\":\"x41\",\"yaxis\":\"y41\"},{\"colorbar\":{\"title\":{\"text\":\"Objective Value\"}},\"colorscale\":[[0,\"rgb(5,10,172)\"],[0.35,\"rgb(40,60,190)\"],[0.5,\"rgb(70,100,245)\"],[0.6,\"rgb(90,120,245)\"],[0.7,\"rgb(106,137,247)\"],[1,\"rgb(220,220,220)\"]],\"connectgaps\":true,\"contours\":{\"coloring\":\"heatmap\"},\"hoverinfo\":\"none\",\"line\":{\"smoothing\":1.3},\"reversescale\":true,\"showscale\":false,\"x\":[48.7,51,97,99.3],\"y\":[\"Adam\",\"RMSprop\",\"SGD\"],\"z\":[[null,0.32484307885169983,null,null],[null,null,null,null],[null,null,1.1375892162322998,null]],\"type\":\"contour\",\"xaxis\":\"x48\",\"yaxis\":\"y48\"},{\"marker\":{\"color\":\"black\",\"line\":{\"color\":\"Grey\",\"width\":0.5}},\"mode\":\"markers\",\"showlegend\":false,\"x\":[97,51],\"y\":[\"SGD\",\"Adam\"],\"type\":\"scatter\",\"xaxis\":\"x48\",\"yaxis\":\"y48\"},{\"colorbar\":{\"title\":{\"text\":\"Objective Value\"}},\"colorscale\":[[0,\"rgb(5,10,172)\"],[0.35,\"rgb(40,60,190)\"],[0.5,\"rgb(70,100,245)\"],[0.6,\"rgb(90,120,245)\"],[0.7,\"rgb(106,137,247)\"],[1,\"rgb(220,220,220)\"]],\"connectgaps\":true,\"contours\":{\"coloring\":\"heatmap\"},\"hoverinfo\":\"none\",\"line\":{\"smoothing\":1.3},\"reversescale\":true,\"showscale\":false,\"x\":[\"Adam\",\"RMSprop\",\"SGD\"],\"y\":[2.0,8,64,128,134.0],\"z\":[[null,null,null],[0.32484307885169983,null,null],[null,0.12034701555967331,null],[null,null,1.1375892162322998],[null,null,null]],\"type\":\"contour\",\"xaxis\":\"x7\",\"yaxis\":\"y7\"},{\"marker\":{\"color\":\"black\",\"line\":{\"color\":\"Grey\",\"width\":0.5}},\"mode\":\"markers\",\"showlegend\":false,\"x\":[\"SGD\",\"RMSprop\",\"Adam\"],\"y\":[128,64,8],\"type\":\"scatter\",\"xaxis\":\"x7\",\"yaxis\":\"y7\"},{\"colorbar\":{\"title\":{\"text\":\"Objective Value\"}},\"colorscale\":[[0,\"rgb(5,10,172)\"],[0.35,\"rgb(40,60,190)\"],[0.5,\"rgb(70,100,245)\"],[0.6,\"rgb(90,120,245)\"],[0.7,\"rgb(106,137,247)\"],[1,\"rgb(220,220,220)\"]],\"connectgaps\":true,\"contours\":{\"coloring\":\"heatmap\"},\"hoverinfo\":\"none\",\"line\":{\"smoothing\":1.3},\"reversescale\":true,\"showscale\":false,\"x\":[\"Adam\",\"RMSprop\",\"SGD\"],\"y\":[0.19226498850113224,0.20482346427425893,0.2568743385059912,0.45599297973679265,0.46855145550991933],\"z\":[[null,null,null],[null,0.12034701555967331,null],[null,null,1.1375892162322998],[0.32484307885169983,null,null],[null,null,null]],\"type\":\"contour\",\"xaxis\":\"x14\",\"yaxis\":\"y14\"},{\"marker\":{\"color\":\"black\",\"line\":{\"color\":\"Grey\",\"width\":0.5}},\"mode\":\"markers\",\"showlegend\":false,\"x\":[\"SGD\",\"RMSprop\",\"Adam\"],\"y\":[0.2568743385059912,0.20482346427425893,0.45599297973679265],\"type\":\"scatter\",\"xaxis\":\"x14\",\"yaxis\":\"y14\"},{\"colorbar\":{\"title\":{\"text\":\"Objective Value\"}},\"colorscale\":[[0,\"rgb(5,10,172)\"],[0.35,\"rgb(40,60,190)\"],[0.5,\"rgb(70,100,245)\"],[0.6,\"rgb(90,120,245)\"],[0.7,\"rgb(106,137,247)\"],[1,\"rgb(220,220,220)\"]],\"connectgaps\":true,\"contours\":{\"coloring\":\"heatmap\"},\"hoverinfo\":\"none\",\"line\":{\"smoothing\":1.3},\"reversescale\":true,\"showscale\":false,\"x\":[\"Adam\",\"RMSprop\",\"SGD\"],\"y\":[1.5066702283983606e-05,2.2555860239198034e-05,7.346300588244607e-05,0.07212455701669214,0.1079752819973055],\"z\":[[null,null,null],[null,0.12034701555967331,null],[0.32484307885169983,null,null],[null,null,1.1375892162322998],[null,null,null]],\"type\":\"contour\",\"xaxis\":\"x21\",\"yaxis\":\"y21\"},{\"marker\":{\"color\":\"black\",\"line\":{\"color\":\"Grey\",\"width\":0.5}},\"mode\":\"markers\",\"showlegend\":false,\"x\":[\"SGD\",\"RMSprop\",\"Adam\"],\"y\":[0.07212455701669214,2.2555860239198034e-05,7.346300588244607e-05],\"type\":\"scatter\",\"xaxis\":\"x21\",\"yaxis\":\"y21\"},{\"colorbar\":{\"title\":{\"text\":\"Objective Value\"}},\"colorscale\":[[0,\"rgb(5,10,172)\"],[0.35,\"rgb(40,60,190)\"],[0.5,\"rgb(70,100,245)\"],[0.6,\"rgb(90,120,245)\"],[0.7,\"rgb(106,137,247)\"],[1,\"rgb(220,220,220)\"]],\"connectgaps\":true,\"contours\":{\"coloring\":\"heatmap\"},\"hoverinfo\":\"none\",\"line\":{\"smoothing\":1.3},\"reversescale\":true,\"showscale\":false,\"x\":[\"Adam\",\"RMSprop\",\"SGD\"],\"y\":[0.95,1,2,2.05],\"z\":[[null,null,null],[null,0.12034701555967331,null],[0.32484307885169983,null,1.1375892162322998],[null,null,null]],\"type\":\"contour\",\"xaxis\":\"x28\",\"yaxis\":\"y28\"},{\"marker\":{\"color\":\"black\",\"line\":{\"color\":\"Grey\",\"width\":0.5}},\"mode\":\"markers\",\"showlegend\":false,\"x\":[\"SGD\",\"RMSprop\",\"Adam\"],\"y\":[2,1,2],\"type\":\"scatter\",\"xaxis\":\"x28\",\"yaxis\":\"y28\"},{\"colorbar\":{\"title\":{\"text\":\"Objective Value\"}},\"colorscale\":[[0,\"rgb(5,10,172)\"],[0.35,\"rgb(40,60,190)\"],[0.5,\"rgb(70,100,245)\"],[0.6,\"rgb(90,120,245)\"],[0.7,\"rgb(106,137,247)\"],[1,\"rgb(220,220,220)\"]],\"connectgaps\":true,\"contours\":{\"coloring\":\"heatmap\"},\"hoverinfo\":\"none\",\"line\":{\"smoothing\":1.3},\"reversescale\":true,\"showscale\":false,\"x\":[\"Adam\",\"RMSprop\",\"SGD\"],\"y\":[10.8,14,30,78,81.2],\"z\":[[null,null,null],[0.32484307885169983,null,null],[null,0.12034701555967331,null],[null,null,1.1375892162322998],[null,null,null]],\"type\":\"contour\",\"xaxis\":\"x35\",\"yaxis\":\"y35\"},{\"marker\":{\"color\":\"black\",\"line\":{\"color\":\"Grey\",\"width\":0.5}},\"mode\":\"markers\",\"showlegend\":false,\"x\":[\"SGD\",\"RMSprop\",\"Adam\"],\"y\":[78,30,14],\"type\":\"scatter\",\"xaxis\":\"x35\",\"yaxis\":\"y35\"},{\"colorbar\":{\"title\":{\"text\":\"Objective Value\"}},\"colorscale\":[[0,\"rgb(5,10,172)\"],[0.35,\"rgb(40,60,190)\"],[0.5,\"rgb(70,100,245)\"],[0.6,\"rgb(90,120,245)\"],[0.7,\"rgb(106,137,247)\"],[1,\"rgb(220,220,220)\"]],\"connectgaps\":true,\"contours\":{\"coloring\":\"heatmap\"},\"hoverinfo\":\"none\",\"line\":{\"smoothing\":1.3},\"reversescale\":true,\"showscale\":false,\"x\":[\"Adam\",\"RMSprop\",\"SGD\"],\"y\":[48.7,51,97,99.3],\"z\":[[null,null,null],[0.32484307885169983,null,null],[null,null,1.1375892162322998],[null,null,null]],\"type\":\"contour\",\"xaxis\":\"x42\",\"yaxis\":\"y42\"},{\"marker\":{\"color\":\"black\",\"line\":{\"color\":\"Grey\",\"width\":0.5}},\"mode\":\"markers\",\"showlegend\":false,\"x\":[\"SGD\",\"Adam\"],\"y\":[97,51],\"type\":\"scatter\",\"xaxis\":\"x42\",\"yaxis\":\"y42\"},{\"type\":\"scatter\",\"xaxis\":\"x49\",\"yaxis\":\"y49\"}],                        {\"template\":{\"data\":{\"histogram2dcontour\":[{\"type\":\"histogram2dcontour\",\"colorbar\":{\"outlinewidth\":0,\"ticks\":\"\"},\"colorscale\":[[0.0,\"#0d0887\"],[0.1111111111111111,\"#46039f\"],[0.2222222222222222,\"#7201a8\"],[0.3333333333333333,\"#9c179e\"],[0.4444444444444444,\"#bd3786\"],[0.5555555555555556,\"#d8576b\"],[0.6666666666666666,\"#ed7953\"],[0.7777777777777778,\"#fb9f3a\"],[0.8888888888888888,\"#fdca26\"],[1.0,\"#f0f921\"]]}],\"choropleth\":[{\"type\":\"choropleth\",\"colorbar\":{\"outlinewidth\":0,\"ticks\":\"\"}}],\"histogram2d\":[{\"type\":\"histogram2d\",\"colorbar\":{\"outlinewidth\":0,\"ticks\":\"\"},\"colorscale\":[[0.0,\"#0d0887\"],[0.1111111111111111,\"#46039f\"],[0.2222222222222222,\"#7201a8\"],[0.3333333333333333,\"#9c179e\"],[0.4444444444444444,\"#bd3786\"],[0.5555555555555556,\"#d8576b\"],[0.6666666666666666,\"#ed7953\"],[0.7777777777777778,\"#fb9f3a\"],[0.8888888888888888,\"#fdca26\"],[1.0,\"#f0f921\"]]}],\"heatmap\":[{\"type\":\"heatmap\",\"colorbar\":{\"outlinewidth\":0,\"ticks\":\"\"},\"colorscale\":[[0.0,\"#0d0887\"],[0.1111111111111111,\"#46039f\"],[0.2222222222222222,\"#7201a8\"],[0.3333333333333333,\"#9c179e\"],[0.4444444444444444,\"#bd3786\"],[0.5555555555555556,\"#d8576b\"],[0.6666666666666666,\"#ed7953\"],[0.7777777777777778,\"#fb9f3a\"],[0.8888888888888888,\"#fdca26\"],[1.0,\"#f0f921\"]]}],\"heatmapgl\":[{\"type\":\"heatmapgl\",\"colorbar\":{\"outlinewidth\":0,\"ticks\":\"\"},\"colorscale\":[[0.0,\"#0d0887\"],[0.1111111111111111,\"#46039f\"],[0.2222222222222222,\"#7201a8\"],[0.3333333333333333,\"#9c179e\"],[0.4444444444444444,\"#bd3786\"],[0.5555555555555556,\"#d8576b\"],[0.6666666666666666,\"#ed7953\"],[0.7777777777777778,\"#fb9f3a\"],[0.8888888888888888,\"#fdca26\"],[1.0,\"#f0f921\"]]}],\"contourcarpet\":[{\"type\":\"contourcarpet\",\"colorbar\":{\"outlinewidth\":0,\"ticks\":\"\"}}],\"contour\":[{\"type\":\"contour\",\"colorbar\":{\"outlinewidth\":0,\"ticks\":\"\"},\"colorscale\":[[0.0,\"#0d0887\"],[0.1111111111111111,\"#46039f\"],[0.2222222222222222,\"#7201a8\"],[0.3333333333333333,\"#9c179e\"],[0.4444444444444444,\"#bd3786\"],[0.5555555555555556,\"#d8576b\"],[0.6666666666666666,\"#ed7953\"],[0.7777777777777778,\"#fb9f3a\"],[0.8888888888888888,\"#fdca26\"],[1.0,\"#f0f921\"]]}],\"surface\":[{\"type\":\"surface\",\"colorbar\":{\"outlinewidth\":0,\"ticks\":\"\"},\"colorscale\":[[0.0,\"#0d0887\"],[0.1111111111111111,\"#46039f\"],[0.2222222222222222,\"#7201a8\"],[0.3333333333333333,\"#9c179e\"],[0.4444444444444444,\"#bd3786\"],[0.5555555555555556,\"#d8576b\"],[0.6666666666666666,\"#ed7953\"],[0.7777777777777778,\"#fb9f3a\"],[0.8888888888888888,\"#fdca26\"],[1.0,\"#f0f921\"]]}],\"mesh3d\":[{\"type\":\"mesh3d\",\"colorbar\":{\"outlinewidth\":0,\"ticks\":\"\"}}],\"scatter\":[{\"fillpattern\":{\"fillmode\":\"overlay\",\"size\":10,\"solidity\":0.2},\"type\":\"scatter\"}],\"parcoords\":[{\"type\":\"parcoords\",\"line\":{\"colorbar\":{\"outlinewidth\":0,\"ticks\":\"\"}}}],\"scatterpolargl\":[{\"type\":\"scatterpolargl\",\"marker\":{\"colorbar\":{\"outlinewidth\":0,\"ticks\":\"\"}}}],\"bar\":[{\"error_x\":{\"color\":\"#2a3f5f\"},\"error_y\":{\"color\":\"#2a3f5f\"},\"marker\":{\"line\":{\"color\":\"#E5ECF6\",\"width\":0.5},\"pattern\":{\"fillmode\":\"overlay\",\"size\":10,\"solidity\":0.2}},\"type\":\"bar\"}],\"scattergeo\":[{\"type\":\"scattergeo\",\"marker\":{\"colorbar\":{\"outlinewidth\":0,\"ticks\":\"\"}}}],\"scatterpolar\":[{\"type\":\"scatterpolar\",\"marker\":{\"colorbar\":{\"outlinewidth\":0,\"ticks\":\"\"}}}],\"histogram\":[{\"marker\":{\"pattern\":{\"fillmode\":\"overlay\",\"size\":10,\"solidity\":0.2}},\"type\":\"histogram\"}],\"scattergl\":[{\"type\":\"scattergl\",\"marker\":{\"colorbar\":{\"outlinewidth\":0,\"ticks\":\"\"}}}],\"scatter3d\":[{\"type\":\"scatter3d\",\"line\":{\"colorbar\":{\"outlinewidth\":0,\"ticks\":\"\"}},\"marker\":{\"colorbar\":{\"outlinewidth\":0,\"ticks\":\"\"}}}],\"scattermapbox\":[{\"type\":\"scattermapbox\",\"marker\":{\"colorbar\":{\"outlinewidth\":0,\"ticks\":\"\"}}}],\"scatterternary\":[{\"type\":\"scatterternary\",\"marker\":{\"colorbar\":{\"outlinewidth\":0,\"ticks\":\"\"}}}],\"scattercarpet\":[{\"type\":\"scattercarpet\",\"marker\":{\"colorbar\":{\"outlinewidth\":0,\"ticks\":\"\"}}}],\"carpet\":[{\"aaxis\":{\"endlinecolor\":\"#2a3f5f\",\"gridcolor\":\"white\",\"linecolor\":\"white\",\"minorgridcolor\":\"white\",\"startlinecolor\":\"#2a3f5f\"},\"baxis\":{\"endlinecolor\":\"#2a3f5f\",\"gridcolor\":\"white\",\"linecolor\":\"white\",\"minorgridcolor\":\"white\",\"startlinecolor\":\"#2a3f5f\"},\"type\":\"carpet\"}],\"table\":[{\"cells\":{\"fill\":{\"color\":\"#EBF0F8\"},\"line\":{\"color\":\"white\"}},\"header\":{\"fill\":{\"color\":\"#C8D4E3\"},\"line\":{\"color\":\"white\"}},\"type\":\"table\"}],\"barpolar\":[{\"marker\":{\"line\":{\"color\":\"#E5ECF6\",\"width\":0.5},\"pattern\":{\"fillmode\":\"overlay\",\"size\":10,\"solidity\":0.2}},\"type\":\"barpolar\"}],\"pie\":[{\"automargin\":true,\"type\":\"pie\"}]},\"layout\":{\"autotypenumbers\":\"strict\",\"colorway\":[\"#636efa\",\"#EF553B\",\"#00cc96\",\"#ab63fa\",\"#FFA15A\",\"#19d3f3\",\"#FF6692\",\"#B6E880\",\"#FF97FF\",\"#FECB52\"],\"font\":{\"color\":\"#2a3f5f\"},\"hovermode\":\"closest\",\"hoverlabel\":{\"align\":\"left\"},\"paper_bgcolor\":\"white\",\"plot_bgcolor\":\"#E5ECF6\",\"polar\":{\"bgcolor\":\"#E5ECF6\",\"angularaxis\":{\"gridcolor\":\"white\",\"linecolor\":\"white\",\"ticks\":\"\"},\"radialaxis\":{\"gridcolor\":\"white\",\"linecolor\":\"white\",\"ticks\":\"\"}},\"ternary\":{\"bgcolor\":\"#E5ECF6\",\"aaxis\":{\"gridcolor\":\"white\",\"linecolor\":\"white\",\"ticks\":\"\"},\"baxis\":{\"gridcolor\":\"white\",\"linecolor\":\"white\",\"ticks\":\"\"},\"caxis\":{\"gridcolor\":\"white\",\"linecolor\":\"white\",\"ticks\":\"\"}},\"coloraxis\":{\"colorbar\":{\"outlinewidth\":0,\"ticks\":\"\"}},\"colorscale\":{\"sequential\":[[0.0,\"#0d0887\"],[0.1111111111111111,\"#46039f\"],[0.2222222222222222,\"#7201a8\"],[0.3333333333333333,\"#9c179e\"],[0.4444444444444444,\"#bd3786\"],[0.5555555555555556,\"#d8576b\"],[0.6666666666666666,\"#ed7953\"],[0.7777777777777778,\"#fb9f3a\"],[0.8888888888888888,\"#fdca26\"],[1.0,\"#f0f921\"]],\"sequentialminus\":[[0.0,\"#0d0887\"],[0.1111111111111111,\"#46039f\"],[0.2222222222222222,\"#7201a8\"],[0.3333333333333333,\"#9c179e\"],[0.4444444444444444,\"#bd3786\"],[0.5555555555555556,\"#d8576b\"],[0.6666666666666666,\"#ed7953\"],[0.7777777777777778,\"#fb9f3a\"],[0.8888888888888888,\"#fdca26\"],[1.0,\"#f0f921\"]],\"diverging\":[[0,\"#8e0152\"],[0.1,\"#c51b7d\"],[0.2,\"#de77ae\"],[0.3,\"#f1b6da\"],[0.4,\"#fde0ef\"],[0.5,\"#f7f7f7\"],[0.6,\"#e6f5d0\"],[0.7,\"#b8e186\"],[0.8,\"#7fbc41\"],[0.9,\"#4d9221\"],[1,\"#276419\"]]},\"xaxis\":{\"gridcolor\":\"white\",\"linecolor\":\"white\",\"ticks\":\"\",\"title\":{\"standoff\":15},\"zerolinecolor\":\"white\",\"automargin\":true,\"zerolinewidth\":2},\"yaxis\":{\"gridcolor\":\"white\",\"linecolor\":\"white\",\"ticks\":\"\",\"title\":{\"standoff\":15},\"zerolinecolor\":\"white\",\"automargin\":true,\"zerolinewidth\":2},\"scene\":{\"xaxis\":{\"backgroundcolor\":\"#E5ECF6\",\"gridcolor\":\"white\",\"linecolor\":\"white\",\"showbackground\":true,\"ticks\":\"\",\"zerolinecolor\":\"white\",\"gridwidth\":2},\"yaxis\":{\"backgroundcolor\":\"#E5ECF6\",\"gridcolor\":\"white\",\"linecolor\":\"white\",\"showbackground\":true,\"ticks\":\"\",\"zerolinecolor\":\"white\",\"gridwidth\":2},\"zaxis\":{\"backgroundcolor\":\"#E5ECF6\",\"gridcolor\":\"white\",\"linecolor\":\"white\",\"showbackground\":true,\"ticks\":\"\",\"zerolinecolor\":\"white\",\"gridwidth\":2}},\"shapedefaults\":{\"line\":{\"color\":\"#2a3f5f\"}},\"annotationdefaults\":{\"arrowcolor\":\"#2a3f5f\",\"arrowhead\":0,\"arrowwidth\":1},\"geo\":{\"bgcolor\":\"white\",\"landcolor\":\"#E5ECF6\",\"subunitcolor\":\"white\",\"showland\":true,\"showlakes\":true,\"lakecolor\":\"white\"},\"title\":{\"x\":0.05},\"mapbox\":{\"style\":\"light\"}}},\"xaxis\":{\"anchor\":\"y\",\"domain\":[0.0,0.1183673469387755],\"matches\":\"x43\",\"showticklabels\":false,\"range\":[2.0,134.0]},\"yaxis\":{\"anchor\":\"x\",\"domain\":[0.8938775510204082,1.0],\"range\":[2.0,134.0],\"title\":{\"text\":\"batch_size\"}},\"xaxis2\":{\"anchor\":\"y2\",\"domain\":[0.14693877551020407,0.26530612244897955],\"matches\":\"x44\",\"showticklabels\":false,\"range\":[0.19226498850113224,0.46855145550991933]},\"yaxis2\":{\"anchor\":\"x2\",\"domain\":[0.8938775510204082,1.0],\"matches\":\"y\",\"showticklabels\":false,\"range\":[2.0,134.0]},\"xaxis3\":{\"anchor\":\"y3\",\"domain\":[0.29387755102040813,0.4122448979591836],\"matches\":\"x45\",\"showticklabels\":false,\"range\":[-4.821981793245498,-0.9666756530390769],\"type\":\"log\"},\"yaxis3\":{\"anchor\":\"x3\",\"domain\":[0.8938775510204082,1.0],\"matches\":\"y\",\"showticklabels\":false,\"range\":[2.0,134.0]},\"xaxis4\":{\"anchor\":\"y4\",\"domain\":[0.4408163265306122,0.5591836734693877],\"matches\":\"x46\",\"showticklabels\":false,\"range\":[0.95,2.05]},\"yaxis4\":{\"anchor\":\"x4\",\"domain\":[0.8938775510204082,1.0],\"matches\":\"y\",\"showticklabels\":false,\"range\":[2.0,134.0]},\"xaxis5\":{\"anchor\":\"y5\",\"domain\":[0.5877551020408163,0.7061224489795918],\"matches\":\"x47\",\"showticklabels\":false,\"range\":[10.8,81.2]},\"yaxis5\":{\"anchor\":\"x5\",\"domain\":[0.8938775510204082,1.0],\"matches\":\"y\",\"showticklabels\":false,\"range\":[2.0,134.0]},\"xaxis6\":{\"anchor\":\"y6\",\"domain\":[0.7346938775510204,0.8530612244897959],\"matches\":\"x48\",\"showticklabels\":false,\"range\":[48.7,99.3]},\"yaxis6\":{\"anchor\":\"x6\",\"domain\":[0.8938775510204082,1.0],\"matches\":\"y\",\"showticklabels\":false,\"range\":[2.0,134.0]},\"xaxis7\":{\"anchor\":\"y7\",\"domain\":[0.8816326530612244,0.9999999999999999],\"matches\":\"x49\",\"showticklabels\":false,\"range\":[-0.1,2.1],\"type\":\"category\"},\"yaxis7\":{\"anchor\":\"x7\",\"domain\":[0.8938775510204082,1.0],\"matches\":\"y\",\"showticklabels\":false,\"range\":[2.0,134.0]},\"xaxis8\":{\"anchor\":\"y8\",\"domain\":[0.0,0.1183673469387755],\"matches\":\"x43\",\"showticklabels\":false,\"range\":[2.0,134.0]},\"yaxis8\":{\"anchor\":\"x8\",\"domain\":[0.7448979591836735,0.8510204081632654],\"range\":[0.19226498850113224,0.46855145550991933],\"title\":{\"text\":\"dropout\"}},\"xaxis9\":{\"anchor\":\"y9\",\"domain\":[0.14693877551020407,0.26530612244897955],\"matches\":\"x44\",\"showticklabels\":false,\"range\":[0.19226498850113224,0.46855145550991933]},\"yaxis9\":{\"anchor\":\"x9\",\"domain\":[0.7448979591836735,0.8510204081632654],\"matches\":\"y8\",\"showticklabels\":false,\"range\":[0.19226498850113224,0.46855145550991933]},\"xaxis10\":{\"anchor\":\"y10\",\"domain\":[0.29387755102040813,0.4122448979591836],\"matches\":\"x45\",\"showticklabels\":false,\"range\":[-4.821981793245498,-0.9666756530390769],\"type\":\"log\"},\"yaxis10\":{\"anchor\":\"x10\",\"domain\":[0.7448979591836735,0.8510204081632654],\"matches\":\"y8\",\"showticklabels\":false,\"range\":[0.19226498850113224,0.46855145550991933]},\"xaxis11\":{\"anchor\":\"y11\",\"domain\":[0.4408163265306122,0.5591836734693877],\"matches\":\"x46\",\"showticklabels\":false,\"range\":[0.95,2.05]},\"yaxis11\":{\"anchor\":\"x11\",\"domain\":[0.7448979591836735,0.8510204081632654],\"matches\":\"y8\",\"showticklabels\":false,\"range\":[0.19226498850113224,0.46855145550991933]},\"xaxis12\":{\"anchor\":\"y12\",\"domain\":[0.5877551020408163,0.7061224489795918],\"matches\":\"x47\",\"showticklabels\":false,\"range\":[10.8,81.2]},\"yaxis12\":{\"anchor\":\"x12\",\"domain\":[0.7448979591836735,0.8510204081632654],\"matches\":\"y8\",\"showticklabels\":false,\"range\":[0.19226498850113224,0.46855145550991933]},\"xaxis13\":{\"anchor\":\"y13\",\"domain\":[0.7346938775510204,0.8530612244897959],\"matches\":\"x48\",\"showticklabels\":false,\"range\":[48.7,99.3]},\"yaxis13\":{\"anchor\":\"x13\",\"domain\":[0.7448979591836735,0.8510204081632654],\"matches\":\"y8\",\"showticklabels\":false,\"range\":[0.19226498850113224,0.46855145550991933]},\"xaxis14\":{\"anchor\":\"y14\",\"domain\":[0.8816326530612244,0.9999999999999999],\"matches\":\"x49\",\"showticklabels\":false,\"range\":[-0.1,2.1],\"type\":\"category\"},\"yaxis14\":{\"anchor\":\"x14\",\"domain\":[0.7448979591836735,0.8510204081632654],\"matches\":\"y8\",\"showticklabels\":false,\"range\":[0.19226498850113224,0.46855145550991933]},\"xaxis15\":{\"anchor\":\"y15\",\"domain\":[0.0,0.1183673469387755],\"matches\":\"x43\",\"showticklabels\":false,\"range\":[2.0,134.0]},\"yaxis15\":{\"anchor\":\"x15\",\"domain\":[0.5959183673469388,0.7020408163265307],\"range\":[-4.821981793245498,-0.9666756530390769],\"type\":\"log\",\"title\":{\"text\":\"learning_rate\"}},\"xaxis16\":{\"anchor\":\"y16\",\"domain\":[0.14693877551020407,0.26530612244897955],\"matches\":\"x44\",\"showticklabels\":false,\"range\":[0.19226498850113224,0.46855145550991933]},\"yaxis16\":{\"anchor\":\"x16\",\"domain\":[0.5959183673469388,0.7020408163265307],\"matches\":\"y15\",\"showticklabels\":false,\"range\":[-4.821981793245498,-0.9666756530390769],\"type\":\"log\"},\"xaxis17\":{\"anchor\":\"y17\",\"domain\":[0.29387755102040813,0.4122448979591836],\"matches\":\"x45\",\"showticklabels\":false,\"range\":[-4.821981793245498,-0.9666756530390769],\"type\":\"log\"},\"yaxis17\":{\"anchor\":\"x17\",\"domain\":[0.5959183673469388,0.7020408163265307],\"matches\":\"y15\",\"showticklabels\":false,\"range\":[-4.821981793245498,-0.9666756530390769],\"type\":\"log\"},\"xaxis18\":{\"anchor\":\"y18\",\"domain\":[0.4408163265306122,0.5591836734693877],\"matches\":\"x46\",\"showticklabels\":false,\"range\":[0.95,2.05]},\"yaxis18\":{\"anchor\":\"x18\",\"domain\":[0.5959183673469388,0.7020408163265307],\"matches\":\"y15\",\"showticklabels\":false,\"range\":[-4.821981793245498,-0.9666756530390769],\"type\":\"log\"},\"xaxis19\":{\"anchor\":\"y19\",\"domain\":[0.5877551020408163,0.7061224489795918],\"matches\":\"x47\",\"showticklabels\":false,\"range\":[10.8,81.2]},\"yaxis19\":{\"anchor\":\"x19\",\"domain\":[0.5959183673469388,0.7020408163265307],\"matches\":\"y15\",\"showticklabels\":false,\"range\":[-4.821981793245498,-0.9666756530390769],\"type\":\"log\"},\"xaxis20\":{\"anchor\":\"y20\",\"domain\":[0.7346938775510204,0.8530612244897959],\"matches\":\"x48\",\"showticklabels\":false,\"range\":[48.7,99.3]},\"yaxis20\":{\"anchor\":\"x20\",\"domain\":[0.5959183673469388,0.7020408163265307],\"matches\":\"y15\",\"showticklabels\":false,\"range\":[-4.821981793245498,-0.9666756530390769],\"type\":\"log\"},\"xaxis21\":{\"anchor\":\"y21\",\"domain\":[0.8816326530612244,0.9999999999999999],\"matches\":\"x49\",\"showticklabels\":false,\"range\":[-0.1,2.1],\"type\":\"category\"},\"yaxis21\":{\"anchor\":\"x21\",\"domain\":[0.5959183673469388,0.7020408163265307],\"matches\":\"y15\",\"showticklabels\":false,\"range\":[-4.821981793245498,-0.9666756530390769],\"type\":\"log\"},\"xaxis22\":{\"anchor\":\"y22\",\"domain\":[0.0,0.1183673469387755],\"matches\":\"x43\",\"showticklabels\":false,\"range\":[2.0,134.0]},\"yaxis22\":{\"anchor\":\"x22\",\"domain\":[0.4469387755102041,0.553061224489796],\"range\":[0.95,2.05],\"title\":{\"text\":\"n_layers\"}},\"xaxis23\":{\"anchor\":\"y23\",\"domain\":[0.14693877551020407,0.26530612244897955],\"matches\":\"x44\",\"showticklabels\":false,\"range\":[0.19226498850113224,0.46855145550991933]},\"yaxis23\":{\"anchor\":\"x23\",\"domain\":[0.4469387755102041,0.553061224489796],\"matches\":\"y22\",\"showticklabels\":false,\"range\":[0.95,2.05]},\"xaxis24\":{\"anchor\":\"y24\",\"domain\":[0.29387755102040813,0.4122448979591836],\"matches\":\"x45\",\"showticklabels\":false,\"range\":[-4.821981793245498,-0.9666756530390769],\"type\":\"log\"},\"yaxis24\":{\"anchor\":\"x24\",\"domain\":[0.4469387755102041,0.553061224489796],\"matches\":\"y22\",\"showticklabels\":false,\"range\":[0.95,2.05]},\"xaxis25\":{\"anchor\":\"y25\",\"domain\":[0.4408163265306122,0.5591836734693877],\"matches\":\"x46\",\"showticklabels\":false,\"range\":[0.95,2.05]},\"yaxis25\":{\"anchor\":\"x25\",\"domain\":[0.4469387755102041,0.553061224489796],\"matches\":\"y22\",\"showticklabels\":false,\"range\":[0.95,2.05]},\"xaxis26\":{\"anchor\":\"y26\",\"domain\":[0.5877551020408163,0.7061224489795918],\"matches\":\"x47\",\"showticklabels\":false,\"range\":[10.8,81.2]},\"yaxis26\":{\"anchor\":\"x26\",\"domain\":[0.4469387755102041,0.553061224489796],\"matches\":\"y22\",\"showticklabels\":false,\"range\":[0.95,2.05]},\"xaxis27\":{\"anchor\":\"y27\",\"domain\":[0.7346938775510204,0.8530612244897959],\"matches\":\"x48\",\"showticklabels\":false,\"range\":[48.7,99.3]},\"yaxis27\":{\"anchor\":\"x27\",\"domain\":[0.4469387755102041,0.553061224489796],\"matches\":\"y22\",\"showticklabels\":false,\"range\":[0.95,2.05]},\"xaxis28\":{\"anchor\":\"y28\",\"domain\":[0.8816326530612244,0.9999999999999999],\"matches\":\"x49\",\"showticklabels\":false,\"range\":[-0.1,2.1],\"type\":\"category\"},\"yaxis28\":{\"anchor\":\"x28\",\"domain\":[0.4469387755102041,0.553061224489796],\"matches\":\"y22\",\"showticklabels\":false,\"range\":[0.95,2.05]},\"xaxis29\":{\"anchor\":\"y29\",\"domain\":[0.0,0.1183673469387755],\"matches\":\"x43\",\"showticklabels\":false,\"range\":[2.0,134.0]},\"yaxis29\":{\"anchor\":\"x29\",\"domain\":[0.2979591836734694,0.40408163265306124],\"range\":[10.8,81.2],\"title\":{\"text\":\"n_units_l0\"}},\"xaxis30\":{\"anchor\":\"y30\",\"domain\":[0.14693877551020407,0.26530612244897955],\"matches\":\"x44\",\"showticklabels\":false,\"range\":[0.19226498850113224,0.46855145550991933]},\"yaxis30\":{\"anchor\":\"x30\",\"domain\":[0.2979591836734694,0.40408163265306124],\"matches\":\"y29\",\"showticklabels\":false,\"range\":[10.8,81.2]},\"xaxis31\":{\"anchor\":\"y31\",\"domain\":[0.29387755102040813,0.4122448979591836],\"matches\":\"x45\",\"showticklabels\":false,\"range\":[-4.821981793245498,-0.9666756530390769],\"type\":\"log\"},\"yaxis31\":{\"anchor\":\"x31\",\"domain\":[0.2979591836734694,0.40408163265306124],\"matches\":\"y29\",\"showticklabels\":false,\"range\":[10.8,81.2]},\"xaxis32\":{\"anchor\":\"y32\",\"domain\":[0.4408163265306122,0.5591836734693877],\"matches\":\"x46\",\"showticklabels\":false,\"range\":[0.95,2.05]},\"yaxis32\":{\"anchor\":\"x32\",\"domain\":[0.2979591836734694,0.40408163265306124],\"matches\":\"y29\",\"showticklabels\":false,\"range\":[10.8,81.2]},\"xaxis33\":{\"anchor\":\"y33\",\"domain\":[0.5877551020408163,0.7061224489795918],\"matches\":\"x47\",\"showticklabels\":false,\"range\":[10.8,81.2]},\"yaxis33\":{\"anchor\":\"x33\",\"domain\":[0.2979591836734694,0.40408163265306124],\"matches\":\"y29\",\"showticklabels\":false,\"range\":[10.8,81.2]},\"xaxis34\":{\"anchor\":\"y34\",\"domain\":[0.7346938775510204,0.8530612244897959],\"matches\":\"x48\",\"showticklabels\":false,\"range\":[48.7,99.3]},\"yaxis34\":{\"anchor\":\"x34\",\"domain\":[0.2979591836734694,0.40408163265306124],\"matches\":\"y29\",\"showticklabels\":false,\"range\":[10.8,81.2]},\"xaxis35\":{\"anchor\":\"y35\",\"domain\":[0.8816326530612244,0.9999999999999999],\"matches\":\"x49\",\"showticklabels\":false,\"range\":[-0.1,2.1],\"type\":\"category\"},\"yaxis35\":{\"anchor\":\"x35\",\"domain\":[0.2979591836734694,0.40408163265306124],\"matches\":\"y29\",\"showticklabels\":false,\"range\":[10.8,81.2]},\"xaxis36\":{\"anchor\":\"y36\",\"domain\":[0.0,0.1183673469387755],\"matches\":\"x43\",\"showticklabels\":false,\"range\":[2.0,134.0]},\"yaxis36\":{\"anchor\":\"x36\",\"domain\":[0.1489795918367347,0.25510204081632654],\"range\":[48.7,99.3],\"title\":{\"text\":\"n_units_l1\"}},\"xaxis37\":{\"anchor\":\"y37\",\"domain\":[0.14693877551020407,0.26530612244897955],\"matches\":\"x44\",\"showticklabels\":false,\"range\":[0.19226498850113224,0.46855145550991933]},\"yaxis37\":{\"anchor\":\"x37\",\"domain\":[0.1489795918367347,0.25510204081632654],\"matches\":\"y36\",\"showticklabels\":false,\"range\":[48.7,99.3]},\"xaxis38\":{\"anchor\":\"y38\",\"domain\":[0.29387755102040813,0.4122448979591836],\"matches\":\"x45\",\"showticklabels\":false,\"range\":[-4.821981793245498,-0.9666756530390769],\"type\":\"log\"},\"yaxis38\":{\"anchor\":\"x38\",\"domain\":[0.1489795918367347,0.25510204081632654],\"matches\":\"y36\",\"showticklabels\":false,\"range\":[48.7,99.3]},\"xaxis39\":{\"anchor\":\"y39\",\"domain\":[0.4408163265306122,0.5591836734693877],\"matches\":\"x46\",\"showticklabels\":false,\"range\":[0.95,2.05]},\"yaxis39\":{\"anchor\":\"x39\",\"domain\":[0.1489795918367347,0.25510204081632654],\"matches\":\"y36\",\"showticklabels\":false,\"range\":[48.7,99.3]},\"xaxis40\":{\"anchor\":\"y40\",\"domain\":[0.5877551020408163,0.7061224489795918],\"matches\":\"x47\",\"showticklabels\":false,\"range\":[10.8,81.2]},\"yaxis40\":{\"anchor\":\"x40\",\"domain\":[0.1489795918367347,0.25510204081632654],\"matches\":\"y36\",\"showticklabels\":false,\"range\":[48.7,99.3]},\"xaxis41\":{\"anchor\":\"y41\",\"domain\":[0.7346938775510204,0.8530612244897959],\"matches\":\"x48\",\"showticklabels\":false,\"range\":[48.7,99.3]},\"yaxis41\":{\"anchor\":\"x41\",\"domain\":[0.1489795918367347,0.25510204081632654],\"matches\":\"y36\",\"showticklabels\":false,\"range\":[48.7,99.3]},\"xaxis42\":{\"anchor\":\"y42\",\"domain\":[0.8816326530612244,0.9999999999999999],\"matches\":\"x49\",\"showticklabels\":false,\"range\":[-0.1,2.1],\"type\":\"category\"},\"yaxis42\":{\"anchor\":\"x42\",\"domain\":[0.1489795918367347,0.25510204081632654],\"matches\":\"y36\",\"showticklabels\":false,\"range\":[48.7,99.3]},\"xaxis43\":{\"anchor\":\"y43\",\"domain\":[0.0,0.1183673469387755],\"range\":[2.0,134.0],\"title\":{\"text\":\"batch_size\"}},\"yaxis43\":{\"anchor\":\"x43\",\"domain\":[0.0,0.10612244897959185],\"range\":[-0.1,2.1],\"type\":\"category\",\"title\":{\"text\":\"optimizer\"}},\"xaxis44\":{\"anchor\":\"y44\",\"domain\":[0.14693877551020407,0.26530612244897955],\"range\":[0.19226498850113224,0.46855145550991933],\"title\":{\"text\":\"dropout\"}},\"yaxis44\":{\"anchor\":\"x44\",\"domain\":[0.0,0.10612244897959185],\"matches\":\"y43\",\"showticklabels\":false,\"range\":[-0.1,2.1],\"type\":\"category\"},\"xaxis45\":{\"anchor\":\"y45\",\"domain\":[0.29387755102040813,0.4122448979591836],\"range\":[-4.821981793245498,-0.9666756530390769],\"type\":\"log\",\"title\":{\"text\":\"learning_rate\"}},\"yaxis45\":{\"anchor\":\"x45\",\"domain\":[0.0,0.10612244897959185],\"matches\":\"y43\",\"showticklabels\":false,\"range\":[-0.1,2.1],\"type\":\"category\"},\"xaxis46\":{\"anchor\":\"y46\",\"domain\":[0.4408163265306122,0.5591836734693877],\"range\":[0.95,2.05],\"title\":{\"text\":\"n_layers\"}},\"yaxis46\":{\"anchor\":\"x46\",\"domain\":[0.0,0.10612244897959185],\"matches\":\"y43\",\"showticklabels\":false,\"range\":[-0.1,2.1],\"type\":\"category\"},\"xaxis47\":{\"anchor\":\"y47\",\"domain\":[0.5877551020408163,0.7061224489795918],\"range\":[10.8,81.2],\"title\":{\"text\":\"n_units_l0\"}},\"yaxis47\":{\"anchor\":\"x47\",\"domain\":[0.0,0.10612244897959185],\"matches\":\"y43\",\"showticklabels\":false,\"range\":[-0.1,2.1],\"type\":\"category\"},\"xaxis48\":{\"anchor\":\"y48\",\"domain\":[0.7346938775510204,0.8530612244897959],\"range\":[48.7,99.3],\"title\":{\"text\":\"n_units_l1\"}},\"yaxis48\":{\"anchor\":\"x48\",\"domain\":[0.0,0.10612244897959185],\"matches\":\"y43\",\"showticklabels\":false,\"range\":[-0.1,2.1],\"type\":\"category\"},\"xaxis49\":{\"anchor\":\"y49\",\"domain\":[0.8816326530612244,0.9999999999999999],\"range\":[-0.1,2.1],\"type\":\"category\",\"title\":{\"text\":\"optimizer\"}},\"yaxis49\":{\"anchor\":\"x49\",\"domain\":[0.0,0.10612244897959185],\"matches\":\"y43\",\"showticklabels\":false,\"range\":[-0.1,2.1],\"type\":\"category\"},\"title\":{\"text\":\"Contour Plot\"}},                        {\"responsive\": true}                    ).then(function(){\n",
       "                            \n",
       "var gd = document.getElementById('93667a4d-d051-4d7d-a3a3-4d1bbaed8113');\n",
       "var x = new MutationObserver(function (mutations, observer) {{\n",
       "        var display = window.getComputedStyle(gd).display;\n",
       "        if (!display || display === 'none') {{\n",
       "            console.log([gd, 'removed!']);\n",
       "            Plotly.purge(gd);\n",
       "            observer.disconnect();\n",
       "        }}\n",
       "}});\n",
       "\n",
       "// Listen for the removal of the full notebook cells\n",
       "var notebookContainer = gd.closest('#notebook-container');\n",
       "if (notebookContainer) {{\n",
       "    x.observe(notebookContainer, {childList: true});\n",
       "}}\n",
       "\n",
       "// Listen for the clearing of the current output cell\n",
       "var outputEl = gd.closest('.output');\n",
       "if (outputEl) {{\n",
       "    x.observe(outputEl, {childList: true});\n",
       "}}\n",
       "\n",
       "                        })                };                });            </script>        </div>"
      ]
     },
     "metadata": {},
     "output_type": "display_data"
    }
   ],
   "source": [
    "# https://www.analyticsvidhya.com/blog/2021/09/optimize-your-optimizations-using-optuna/\n",
    "optuna.visualization.plot_optimization_history(study)\n",
    "optuna.visualization.plot_intermediate_values(study)\n",
    "optuna.visualization.plot_contour(study)\n",
    "# optuna.visualization.plot_parallel_coordinate(study)"
   ]
  },
  {
   "cell_type": "code",
   "execution_count": null,
   "metadata": {
    "ExecuteTime": {
     "end_time": "2022-10-03T20:56:24.169324Z",
     "start_time": "2022-10-03T20:55:51.352Z"
    }
   },
   "outputs": [],
   "source": [
    "# Here I'm creating 2 empty lists into which I'll be appending my predictions and actuals as I go\n",
    "# - you don't have to do this, but if you want to examine them in detail or plot them, then it's convenient\n",
    "predictions_pred = []\n",
    "predictions_actual = []\n",
    "\n",
    "# Either best or path to the checkpoint you wish to test. \n",
    "# If None and the model instance was passed, use the current weights. \n",
    "# Otherwise, the best model from the previous trainer.fit call will be loaded.\n",
    "trainer.test(ckpt_path='best')\n"
   ]
  },
  {
   "cell_type": "code",
   "execution_count": null,
   "metadata": {
    "ExecuteTime": {
     "end_time": "2022-10-03T20:56:24.170364Z",
     "start_time": "2022-10-03T20:55:51.354Z"
    }
   },
   "outputs": [],
   "source": [
    "# T.numpy(): transformation from tensors to floats\n",
    "\n",
    "# Get predicted points \n",
    "# Initially a list of tensors, converted to list of float arrays\n",
    "plot_pred = []\n",
    "for i in range(len(predictions_pred)):\n",
    "    plot_pred.extend(predictions_pred[i].T.numpy())\n",
    "\n",
    "# Get actual points \n",
    "# Initially a list of tensors, converted to list of float arrays\n",
    "plot_actual = []\n",
    "for i in range(len(predictions_actual)):\n",
    "    plot_actual.extend(predictions_actual[i].T.numpy())  \n",
    "\n",
    "# convert list of float arrays to list of floats\n",
    "plot_actual = np.hstack(plot_actual)\n",
    "plot_pred = np.hstack(plot_pred)\n",
    "\n",
    "\"\"\"\n",
    "THERE IS difference in plots, so decide which is correct\n",
    "\"\"\"\n",
    "# plot_actual = [a.squeeze().tolist() for a in predictions_actual]\n",
    "# plot_pred = [a.squeeze().tolist() for a in predictions_pred]"
   ]
  },
  {
   "cell_type": "code",
   "execution_count": null,
   "metadata": {},
   "outputs": [],
   "source": [
    "def flatten(l):\n",
    "    return [item for sublist in l for item in sublist]\n",
    "\n",
    "plot_actual = flatten(flatten(plot_actual))\n",
    "plot_pred = flatten(flatten(plot_pred))"
   ]
  },
  {
   "cell_type": "code",
   "execution_count": null,
   "metadata": {
    "ExecuteTime": {
     "end_time": "2022-10-03T20:56:24.171323Z",
     "start_time": "2022-10-03T20:55:51.356Z"
    }
   },
   "outputs": [],
   "source": [
    "from sklearn.metrics import mean_absolute_percentage_error\n",
    "import warnings\n",
    "warnings.filterwarnings(\"ignore\")\n",
    "\n",
    "def mape(actual, pred): \n",
    "    actual, pred = np.array(actual), np.array(pred)\n",
    "    mape = np.mean(np.abs((actual - pred) / actual)) * 100\n",
    "    return round(mape,2) # round to 2 decimals\n",
    "\n",
    "# rescale values based on mean and std of 'Load' column\n",
    "plot_actual_r = [ x*std+mean for x in plot_actual]\n",
    "plot_pred_r = [ x*std+mean for x in plot_pred]\n",
    "\n",
    "# calculate MAPE\n",
    "# mape_value = mean_absolute_percentage_error(plot_actual, plot_pred)\n",
    "mape_value = mape(plot_actual_r,plot_pred_r)\n",
    "\n",
    "print(f\"Mean Absolute Percentage Error (MAPE): {mape_value} %\")\n",
    "\n",
    "# Get dates for plotting (test_data)\n",
    "datesx = list(df_backup[df_backup['year'] == 2021]['Date'])\n",
    "\n",
    "# And finally we can see that our network has done a decent job of estimating!\n",
    "fig, ax = plt.subplots(figsize=(16,4))\n",
    "\n",
    "# convert list of lists to list (np.hstack)\n",
    "# get every N-th value of predicion and data list and display them in common plot\n",
    "N = 1000\n",
    "ax.plot(plot_pred_r[::N], label='Rescaled Prediction')\n",
    "ax.plot(plot_actual_r[::N], label='Actual Data')\n",
    "ax.set_xticklabels(datesx[::N], rotation=45)\n",
    "ax.legend();"
   ]
  },
  {
   "cell_type": "code",
   "execution_count": null,
   "metadata": {
    "ExecuteTime": {
     "end_time": "2022-10-03T20:56:24.172350Z",
     "start_time": "2022-10-03T20:55:51.358Z"
    }
   },
   "outputs": [],
   "source": [
    "# The tensorboard logger is pretty nifty too!\n",
    "%load_ext tensorboard\n",
    "%tensorboard --logdir lightning_logs"
   ]
  },
  {
   "cell_type": "code",
   "execution_count": null,
   "metadata": {
    "ExecuteTime": {
     "end_time": "2022-10-03T20:56:24.173345Z",
     "start_time": "2022-10-03T20:55:51.360Z"
    }
   },
   "outputs": [],
   "source": [
    "# # replace countries with a unique integer based on country_dict\n",
    "# country_dict = {}\n",
    "# for idx,country in enumerate(df['country'].unique()): country_dict[country] = idx\n",
    "# df.replace({\"country\": country_dict}, inplace=True)\n",
    "\n",
    "# # drop columns that do not contain numbers\n",
    "# # (since dataframe is editted to have a freq of 1hour, minute/second column is useless)\n",
    "# fields_to_drop = ['datetime', 'Date', 'timestamp', 'WN','minute','second']\n",
    "# df.drop(fields_to_drop, axis=1, inplace = True, errors='ignore')\n",
    "\n",
    "# #replace boolean true/false with 1/0\n",
    "# df[['weekend','holiday']] = df[['weekend','holiday']].replace({True: 1, False: 0})"
   ]
  },
  {
   "cell_type": "code",
   "execution_count": null,
   "metadata": {
    "ExecuteTime": {
     "end_time": "2022-10-03T20:56:24.174324Z",
     "start_time": "2022-10-03T20:55:51.362Z"
    }
   },
   "outputs": [],
   "source": [
    "class MyTimeSeriesDataset(Dataset):\n",
    "    def __init__(self, df, lookback_window, forecast_horizon):\n",
    "        self.l_window = lookback_window\n",
    "        self.f_horizon = forecast_horizon\n",
    "        \n",
    "        # Reset \"Unnamed: 0\" based on shape of df it is in \n",
    "        df['Unnamed: 0'] = range(1, len(df) + 1)\n",
    "        df_new = df.copy()    \n",
    "        self.dataset = df_new\n",
    "\n",
    "        for inc in range(0,int(lookback_window)):\n",
    "            df_new['feauture_' + str(inc)] = df_new['Load'].shift(-inc)\n",
    "        \n",
    "        # shift 'load' column permanently for as many shifts happened at 'lookback_window' loops  \n",
    "        df_new['Load'] = df_new['Load'].shift(-int(lookback_window))\n",
    "        \n",
    "        for inc in range(0,int(forecast_horizon)):\n",
    "            df_new['target_' + str(inc)] = df_new['Load'].shift(-inc)\n",
    "        \n",
    "        # drop lines that have NaN and reset indexing of csv file\n",
    "        df_new = df_new.dropna().reset_index(drop=True)    \n",
    "        \n",
    "        # drop first two columns ('Unnamed: 0','Load') of dataframe\n",
    "        df_new = df_new.iloc[: , 2:]        \n",
    "        \n",
    "    def __len__(self):\n",
    "        return len(self.dataset)\n",
    "\n",
    "    def __getitem__(self, idx):\n",
    "        input = self.dataset.iloc[:,:self.l_window] \n",
    "        output = self.dataset.iloc[:,-self.f_horizon:]\n",
    "        return input,output\n",
    "\n",
    "\n",
    "lookback_window = 5\n",
    "forecast_horizon = 3    \n",
    "trainLoader = DataLoader(MyTimeSeriesDataset(train_data,lookback_window,forecast_horizon))\n",
    "valLoader = DataLoader(MyTimeSeriesDataset(validation_data,lookback_window,forecast_horizon))\n",
    "testLoader = DataLoader(MyTimeSeriesDataset(test_data,lookback_window,forecast_horizon))"
   ]
  }
 ],
 "metadata": {
  "kernelspec": {
   "display_name": "Python 3",
   "language": "python",
   "name": "python3"
  },
  "language_info": {
   "codemirror_mode": {
    "name": "ipython",
    "version": 3
   },
   "file_extension": ".py",
   "mimetype": "text/x-python",
   "name": "python",
   "nbconvert_exporter": "python",
   "pygments_lexer": "ipython3",
   "version": "3.8.7"
  },
  "latex_envs": {
   "LaTeX_envs_menu_present": true,
   "autoclose": false,
   "autocomplete": true,
   "bibliofile": "biblio.bib",
   "cite_by": "apalike",
   "current_citInitial": 1,
   "eqLabelWithNumbers": true,
   "eqNumInitial": 1,
   "hotkeys": {
    "equation": "Ctrl-E",
    "itemize": "Ctrl-I"
   },
   "labels_anchors": false,
   "latex_user_defs": false,
   "report_style_numbering": false,
   "user_envs_cfg": false
  },
  "toc": {
   "base_numbering": 1,
   "nav_menu": {},
   "number_sections": true,
   "sideBar": true,
   "skip_h1_title": false,
   "title_cell": "Table of Contents",
   "title_sidebar": "Contents",
   "toc_cell": false,
   "toc_position": {},
   "toc_section_display": true,
   "toc_window_display": false
  },
  "varInspector": {
   "cols": {
    "lenName": 16,
    "lenType": 16,
    "lenVar": 40
   },
   "kernels_config": {
    "python": {
     "delete_cmd_postfix": "",
     "delete_cmd_prefix": "del ",
     "library": "var_list.py",
     "varRefreshCmd": "print(var_dic_list())"
    },
    "r": {
     "delete_cmd_postfix": ") ",
     "delete_cmd_prefix": "rm(",
     "library": "var_list.r",
     "varRefreshCmd": "cat(var_dic_list()) "
    }
   },
   "types_to_exclude": [
    "module",
    "function",
    "builtin_function_or_method",
    "instance",
    "_Feature"
   ],
   "window_display": false
  }
 },
 "nbformat": 4,
 "nbformat_minor": 2
}
